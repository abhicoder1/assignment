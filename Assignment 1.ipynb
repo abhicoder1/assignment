{
 "cells": [
  {
   "cell_type": "markdown",
   "id": "b5060614-c8d3-428e-9a04-88e544ebb194",
   "metadata": {},
   "source": [
    "Q1. Create one variable containing following type of data:\n",
    "(i) string\n",
    "(ii) list\n",
    "(iii) float\n",
    "(iv) tuple"
   ]
  },
  {
   "cell_type": "code",
   "execution_count": 14,
   "id": "11a0fdda-6d74-42eb-8ac2-a89e089d3326",
   "metadata": {},
   "outputs": [
    {
     "name": "stdout",
     "output_type": "stream",
     "text": [
      "this is a string\n"
     ]
    },
    {
     "data": {
      "text/plain": [
       "str"
      ]
     },
     "execution_count": 14,
     "metadata": {},
     "output_type": "execute_result"
    }
   ],
   "source": [
    "# (i) String\n",
    "a = 'this is a string'\n",
    "print(a)\n",
    "type(a)"
   ]
  },
  {
   "cell_type": "code",
   "execution_count": 35,
   "id": "dad65a82-57af-4828-aa75-273e02ad7807",
   "metadata": {},
   "outputs": [
    {
     "name": "stdout",
     "output_type": "stream",
     "text": [
      "[1, 2, 'abhinav', 3]\n"
     ]
    },
    {
     "data": {
      "text/plain": [
       "list"
      ]
     },
     "execution_count": 35,
     "metadata": {},
     "output_type": "execute_result"
    }
   ],
   "source": [
    "# (ii) list\n",
    "a = [1, 2, \"abhinav\",1+2]\n",
    "print(a)\n",
    "type(a)"
   ]
  },
  {
   "cell_type": "code",
   "execution_count": 36,
   "id": "de1d212c-b512-4636-b7c9-3a40c611c21a",
   "metadata": {},
   "outputs": [
    {
     "name": "stdout",
     "output_type": "stream",
     "text": [
      "74.88\n"
     ]
    },
    {
     "data": {
      "text/plain": [
       "float"
      ]
     },
     "execution_count": 36,
     "metadata": {},
     "output_type": "execute_result"
    }
   ],
   "source": [
    "# (iii) float\n",
    "a = 74.88\n",
    "print(a)\n",
    "type(a)"
   ]
  },
  {
   "cell_type": "code",
   "execution_count": 37,
   "id": "af3c130d-fb08-4745-b849-2da5c71557a2",
   "metadata": {},
   "outputs": [
    {
     "name": "stdout",
     "output_type": "stream",
     "text": [
      "(1, 'a', 'abhinav', 3)\n"
     ]
    },
    {
     "data": {
      "text/plain": [
       "tuple"
      ]
     },
     "execution_count": 37,
     "metadata": {},
     "output_type": "execute_result"
    }
   ],
   "source": [
    "# (iv) tupple\n",
    "a = (1, \"a\", \"abhinav\", 1+2)\n",
    "print(a)\n",
    "type(a)"
   ]
  },
  {
   "cell_type": "markdown",
   "id": "be6cd76d-4f07-4dbb-849f-031f865b6382",
   "metadata": {},
   "source": [
    "Q2. Given are some following variables containing data:\n",
    "(i) var1 = ‘ ‘\n",
    "(ii) var2 = ‘[ DS , ML , Python]’\n",
    "(iii) var3 = [ ‘DS’ , ’ML’ , ‘Python’ ]\n",
    "(iv) var4 = 1.\n",
    "What will be the data type of the above given variable."
   ]
  },
  {
   "cell_type": "code",
   "execution_count": 65,
   "id": "fd3bf4a6-4fa0-4394-8fb5-96b49424f347",
   "metadata": {},
   "outputs": [
    {
     "name": "stdout",
     "output_type": "stream",
     "text": [
      "Data type is :\n"
     ]
    },
    {
     "data": {
      "text/plain": [
       "str"
      ]
     },
     "execution_count": 65,
     "metadata": {},
     "output_type": "execute_result"
    }
   ],
   "source": [
    "# (i) var1 = ‘ ‘\n",
    "var1 = ' '\n",
    "print(\"Data type is :\")\n",
    "type(var1)"
   ]
  },
  {
   "cell_type": "code",
   "execution_count": 61,
   "id": "61123a4f-822e-4386-8961-02cedda6fa34",
   "metadata": {},
   "outputs": [
    {
     "name": "stdout",
     "output_type": "stream",
     "text": [
      "Data type is :\n"
     ]
    },
    {
     "data": {
      "text/plain": [
       "str"
      ]
     },
     "execution_count": 61,
     "metadata": {},
     "output_type": "execute_result"
    }
   ],
   "source": [
    "# (ii) var2 = ‘[ DS , ML , Python]’\n",
    "var2 = '[ DS , ML , Python]'\n",
    "print(\"Data type is :\")\n",
    "type(var2)"
   ]
  },
  {
   "cell_type": "code",
   "execution_count": 62,
   "id": "af366688-e192-4a06-8c51-0dfec9e6d3fb",
   "metadata": {},
   "outputs": [
    {
     "name": "stdout",
     "output_type": "stream",
     "text": [
      "Data type is :\n"
     ]
    },
    {
     "data": {
      "text/plain": [
       "list"
      ]
     },
     "execution_count": 62,
     "metadata": {},
     "output_type": "execute_result"
    }
   ],
   "source": [
    "#(iii) var3 = [ ‘DS’ , ’ML’ , ‘Python’ ]\n",
    "var3 = [ 'DS' , 'ML' , 'Python' ]\n",
    "print(\"Data type is :\")\n",
    "type(var3)"
   ]
  },
  {
   "cell_type": "code",
   "execution_count": 63,
   "id": "0046811b-1bf5-4744-8983-47cfdbf0ff63",
   "metadata": {},
   "outputs": [
    {
     "name": "stdout",
     "output_type": "stream",
     "text": [
      "Data type is :\n"
     ]
    },
    {
     "data": {
      "text/plain": [
       "float"
      ]
     },
     "execution_count": 63,
     "metadata": {},
     "output_type": "execute_result"
    }
   ],
   "source": [
    "#(iv) var4 = 1.\n",
    "var4 = 1.\n",
    "print(\"Data type is :\")\n",
    "type(var4)"
   ]
  },
  {
   "cell_type": "markdown",
   "id": "0a52ea54-c54a-4d81-80d4-898b304bec7f",
   "metadata": {},
   "source": [
    "Ans- The data types of the given variables are as follows:\n",
    "\n",
    "(i) var1: String\n",
    "(ii) var2: String\n",
    "(iii) var3: List \n",
    "(iv) var4: Float"
   ]
  },
  {
   "cell_type": "markdown",
   "id": "be6c864d-3077-4a49-960e-595791ebc352",
   "metadata": {},
   "source": [
    "Q3. Explain the use of the following operators using an example:\n",
    "(i) /\n",
    "(ii) %\n",
    "(iii) //\n",
    "(iv) **"
   ]
  },
  {
   "cell_type": "code",
   "execution_count": 32,
   "id": "d0d241d7-d8b2-4ead-b51c-dea81ba0d4fd",
   "metadata": {},
   "outputs": [
    {
     "name": "stdout",
     "output_type": "stream",
     "text": [
      "2.5\n"
     ]
    }
   ],
   "source": [
    "#(i) / (Division Operator):\n",
    "a = 10\n",
    "b = 4\n",
    "result = a / b\n",
    "print(result)\n",
    "\n",
    "# The division operator (/) is used to perform division between two numbers \n",
    "# and returns the quotient as a floating-point value."
   ]
  },
  {
   "cell_type": "code",
   "execution_count": 33,
   "id": "00738cee-5208-487d-9e7e-88692df0cc5e",
   "metadata": {},
   "outputs": [
    {
     "name": "stdout",
     "output_type": "stream",
     "text": [
      "2\n"
     ]
    }
   ],
   "source": [
    "#(ii) % (Modulo Operator):\n",
    "a = 10\n",
    "b = 4\n",
    "result = a % b\n",
    "print(result)  \n",
    "\n",
    "# The modulo operator (%) is used to find the remainder of the division between two numbers.\n"
   ]
  },
  {
   "cell_type": "code",
   "execution_count": 34,
   "id": "d410fb06-fdf6-417e-b9a9-67782312512a",
   "metadata": {},
   "outputs": [
    {
     "name": "stdout",
     "output_type": "stream",
     "text": [
      "2\n"
     ]
    }
   ],
   "source": [
    "#(iii) // Floor Division Operator):\n",
    "a = 10\n",
    "b = 4\n",
    "result = a // b\n",
    "print(result)\n",
    "\n",
    "# The floor division operator (//) is used to perform division between two numbers \n",
    "# and returns the quotient as an integer by rounding down to the nearest integer.\n",
    "\n"
   ]
  },
  {
   "cell_type": "code",
   "execution_count": 39,
   "id": "dd7c5586-4268-43bc-8e48-f924a9199336",
   "metadata": {},
   "outputs": [
    {
     "name": "stdout",
     "output_type": "stream",
     "text": [
      "8\n"
     ]
    }
   ],
   "source": [
    "#(iv) ** (Exponentiation Operator):\n",
    "a = 2\n",
    "b = 3\n",
    "result = a ** b\n",
    "print(result)\n",
    "# The exponentiation operator (**) is used to raise a number to a power.\n",
    "# These operators are useful in performing mathematical calculations and operations in Python."
   ]
  },
  {
   "cell_type": "markdown",
   "id": "7c3272aa-5f3f-46d6-8e14-1fa1234cced8",
   "metadata": {},
   "source": [
    "Q4. Create a list of length 10 of your choice containing multiple types of data. Using for loop print the\n",
    "element and its data type."
   ]
  },
  {
   "cell_type": "code",
   "execution_count": 43,
   "id": "549dc2e1-e6c7-4ba0-a4fd-6495080f87ed",
   "metadata": {},
   "outputs": [
    {
     "name": "stdout",
     "output_type": "stream",
     "text": [
      "2 <class 'int'>\n",
      "abhinav <class 'str'>\n",
      "2.77 <class 'float'>\n",
      "True <class 'bool'>\n",
      "[2, 8, 9] <class 'list'>\n",
      "(1, 'a', 'karki', 3) <class 'tuple'>\n",
      "False <class 'bool'>\n",
      "(11+2j) <class 'complex'>\n",
      "None <class 'NoneType'>\n",
      "{'key': 'value'} <class 'dict'>\n"
     ]
    }
   ],
   "source": [
    "my_list = [2, 'abhinav', 2.77, True, [2, 8, 9], (1, \"a\", \"karki\", 3), False, 11+2j, None, {'key': 'value'}]\n",
    "\n",
    "for element in my_list:\n",
    "    print(element, type(element))"
   ]
  },
  {
   "cell_type": "markdown",
   "id": "b60eb8a2-63dc-4f7b-9113-091f6174b67f",
   "metadata": {},
   "source": [
    "Q5. Using a while loop, verify if the number A is purely divisible by number B and if so then how many\n",
    "times it can be divisible."
   ]
  },
  {
   "cell_type": "code",
   "execution_count": 49,
   "id": "157d4eb5-1497-4481-86ad-5e91f6df16d1",
   "metadata": {},
   "outputs": [
    {
     "name": "stdout",
     "output_type": "stream",
     "text": [
      "Number of times A is divisible by B: 2\n"
     ]
    }
   ],
   "source": [
    "A = 100\n",
    "B = 5\n",
    "\n",
    "count = 0\n",
    "while A % B == 0:\n",
    "    A = A // B\n",
    "    count += 1\n",
    "\n",
    "print(\"Number of times A is divisible by B:\", count)"
   ]
  },
  {
   "cell_type": "markdown",
   "id": "0b61314e-baa8-4033-9628-82215e912fce",
   "metadata": {},
   "source": [
    "Q6. Create a list containing 25 int type data. Using for loop and if-else condition print if the element is\n",
    "divisible by 3 or not."
   ]
  },
  {
   "cell_type": "code",
   "execution_count": 52,
   "id": "acf3f604-88e7-427e-aa0f-dcb00a8e35d7",
   "metadata": {},
   "outputs": [
    {
     "name": "stdout",
     "output_type": "stream",
     "text": [
      "15 is divisible by 3.\n",
      "8 is not divisible by 3.\n",
      "12 is divisible by 3.\n",
      "9 is divisible by 3.\n",
      "5 is not divisible by 3.\n",
      "18 is divisible by 3.\n",
      "99 is divisible by 3.\n",
      "10 is not divisible by 3.\n",
      "5 is not divisible by 3.\n",
      "27 is divisible by 3.\n",
      "8 is not divisible by 3.\n",
      "7 is not divisible by 3.\n",
      "13 is not divisible by 3.\n",
      "30 is divisible by 3.\n",
      "22 is not divisible by 3.\n",
      "16 is not divisible by 3.\n",
      "77 is not divisible by 3.\n",
      "14 is not divisible by 3.\n",
      "25 is not divisible by 3.\n",
      "20 is not divisible by 3.\n",
      "3 is divisible by 3.\n",
      "19 is not divisible by 3.\n",
      "24 is divisible by 3.\n",
      "17 is not divisible by 3.\n",
      "23 is not divisible by 3.\n"
     ]
    }
   ],
   "source": [
    " #list of 25 int type data\n",
    "numbers = [15, 8, 12, 9, 5, 18, 99, 10, 5, 27, 8, 7, 13, 30, 22, 16, 77, 14, 25, 20, 3, 19, 24, 17, 23]\n",
    "\n",
    "for num in numbers:\n",
    "    if num % 3 == 0:\n",
    "        print(f\"{num} is divisible by 3.\")\n",
    "    else:\n",
    "        print(f\"{num} is not divisible by 3.\")"
   ]
  },
  {
   "cell_type": "markdown",
   "id": "72385f70-5e0e-4ced-b1ba-9b1f63520e9f",
   "metadata": {},
   "source": [
    "Q7. What do you understand about mutable and immutable data types? Give examples for both showing\n",
    "this property."
   ]
  },
  {
   "cell_type": "markdown",
   "id": "cf7ef288-f7cb-49fc-a14e-26cca618f408",
   "metadata": {},
   "source": [
    "Ans - Mutable and immutable are two fundamental concepts in programming that refer to whether an object can be modified after it is created.\n",
    "\n",
    "(i) Immutable data types are those whose state cannot be changed after they are created. \n",
    "    In other words, once an immutable object is assigned a value, its value cannot be modified. \n",
    "    Examples of immutable data types include strings, numbers (integers, floats), and tuples.\n",
    "\n",
    "(ii) Mutable data types allow modifications after they are created. \n",
    "     Examples of mutable data types include lists, dictionaries, and sets."
   ]
  },
  {
   "cell_type": "code",
   "execution_count": 57,
   "id": "869e9eaf-9f50-4339-8ba7-4da180421763",
   "metadata": {},
   "outputs": [
    {
     "name": "stdout",
     "output_type": "stream",
     "text": [
      "abhinav\n"
     ]
    },
    {
     "ename": "TypeError",
     "evalue": "'str' object does not support item assignment",
     "output_type": "error",
     "traceback": [
      "\u001b[0;31m---------------------------------------------------------------------------\u001b[0m",
      "\u001b[0;31mTypeError\u001b[0m                                 Traceback (most recent call last)",
      "Cell \u001b[0;32mIn[57], line 7\u001b[0m\n\u001b[1;32m      4\u001b[0m \u001b[38;5;28mprint\u001b[39m(string)   \n\u001b[1;32m      6\u001b[0m \u001b[38;5;66;03m# Trying to modify the string\u001b[39;00m\n\u001b[0;32m----> 7\u001b[0m \u001b[43mstring\u001b[49m\u001b[43m[\u001b[49m\u001b[38;5;241;43m0\u001b[39;49m\u001b[43m]\u001b[49m \u001b[38;5;241m=\u001b[39m \u001b[38;5;124m\"\u001b[39m\u001b[38;5;124mk\u001b[39m\u001b[38;5;124m\"\u001b[39m\n",
      "\u001b[0;31mTypeError\u001b[0m: 'str' object does not support item assignment"
     ]
    }
   ],
   "source": [
    "# example of immutable data type ( here i am using example in string data type) :\n",
    "\n",
    "string = \"abhinav\"\n",
    "print(string)   \n",
    "\n",
    "# Trying to modify the string\n",
    "string[0] = \"k\"\n"
   ]
  },
  {
   "cell_type": "markdown",
   "id": "dd3b964b-6e7f-43a6-980d-51c57f815929",
   "metadata": {},
   "source": [
    "In this example, we assign the string \"abhinav\" to the variable string. When we try to modify the first character of the string, it raises a TypeError because strings are immutable. \n",
    "Once a string is created, its characters cannot be changed individually.\n",
    "Instead, we would need to create a new string with the desired modifications."
   ]
  },
  {
   "cell_type": "code",
   "execution_count": 59,
   "id": "3ce0ab0f-d8ed-467c-abf0-266c77236db8",
   "metadata": {},
   "outputs": [
    {
     "name": "stdout",
     "output_type": "stream",
     "text": [
      "before modification of list:\n",
      "[1, 2, 3]\n",
      "after modification of list:\n",
      "[8, 2, 3]\n"
     ]
    }
   ],
   "source": [
    "# example of mutable data type ( here i am using example in list data type) :\n",
    "\n",
    "l = [1, 2, 3]\n",
    "print('before modification of list:')\n",
    "print(l)  \n",
    "\n",
    "# Modifying the list\n",
    "l[0] = 8\n",
    "print('after modification of list:')\n",
    "print(l)"
   ]
  },
  {
   "cell_type": "markdown",
   "id": "d603e618-5529-4999-a79e-375c326147a3",
   "metadata": {},
   "source": [
    "In this example, we create a list [1,2,3] and assign it to the variable l.\n",
    "We can modify the elements of the list directly by assigning new values to specific indices. \n",
    "In this case, we change the first element from 1 to 8, and the list is updated accordingly."
   ]
  }
 ],
 "metadata": {
  "kernelspec": {
   "display_name": "Python 3 (ipykernel)",
   "language": "python",
   "name": "python3"
  },
  "language_info": {
   "codemirror_mode": {
    "name": "ipython",
    "version": 3
   },
   "file_extension": ".py",
   "mimetype": "text/x-python",
   "name": "python",
   "nbconvert_exporter": "python",
   "pygments_lexer": "ipython3",
   "version": "3.10.8"
  }
 },
 "nbformat": 4,
 "nbformat_minor": 5
}
