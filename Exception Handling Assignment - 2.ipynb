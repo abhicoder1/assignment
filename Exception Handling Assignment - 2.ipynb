{
 "cells": [
  {
   "cell_type": "markdown",
   "id": "99621e18-cbc6-4b72-b779-1c7b7cf15324",
   "metadata": {},
   "source": [
    "Q1. Explain why we have to use the Exception class while creating a Custom Exception.\n",
    "Note: Here Exception class refers to the base class for all the exceptions."
   ]
  },
  {
   "cell_type": "markdown",
   "id": "6a70999c-13b5-4870-a163-4f1253b69d68",
   "metadata": {},
   "source": [
    "Ans- In object-oriented programming, including languages like Java and Python, exceptions are used to handle errors and unexpected situations.\n",
    "When you encounter a situation in your code that deviates from the normal flow and may lead to errors, you raise an exception to signal that something unusual has occurred. Custom exceptions are exceptions that you define yourself to handle specific error conditions in your code.\n",
    "\n",
    "When creating a custom exception, it is advisable to inherit from the base Exception class provided by the programming language. \n",
    "Here are a few reasons for using the Exception class as the base class for custom exceptions:\n",
    "\n",
    "1.Consistency with the Exception Hierarchy:\n",
    "\n",
    "In most programming languages, including Java and Python, the standard exception hierarchy is built around a base exception class. By inheriting from the base Exception class, your custom exception becomes part of this hierarchy.\n",
    "This allows your custom exception to be caught by catch blocks that catch more general exceptions, providing a consistent and predictable way to handle different types of exceptions.\n",
    "\n",
    "2.Compatibility with Exception Handling Mechanisms:\n",
    "\n",
    "Many programming languages provide mechanisms for handling exceptions, such as try, catch, and finally blocks. These mechanisms are designed to work with instances of the base Exception class or its equivalents.\n",
    "Inheriting from the Exception class ensures that your custom exception can be seamlessly integrated into these existing exception handling mechanisms.\n",
    "\n",
    "3.Semantic Clarity:\n",
    "\n",
    "Inheriting from the Exception class makes the purpose of your custom exception clear. It indicates that your class is intended to represent an exceptional condition or error.\n",
    "It also provides a standard set of methods and attributes that are commonly associated with exceptions, such as __str__ for string representation and args for storing exception arguments.\n",
    "\n",
    "Here's a simple example in Python:"
   ]
  },
  {
   "cell_type": "code",
   "execution_count": 1,
   "id": "6f1be671-cac9-4d01-a880-561f389e2246",
   "metadata": {},
   "outputs": [
    {
     "name": "stdout",
     "output_type": "stream",
     "text": [
      "Caught an exception: This is a custom exception.\n"
     ]
    }
   ],
   "source": [
    "class CustomError(Exception):\n",
    "    def __init__(self, message):\n",
    "        super().__init__(message)\n",
    "\n",
    "# Raise the custom exception\n",
    "try:\n",
    "    raise CustomError(\"This is a custom exception.\")\n",
    "except CustomError as e:\n",
    "    print(f\"Caught an exception: {e}\")\n",
    "except Exception as e:\n",
    "    print(f\"Caught a general exception: {e}\")\n"
   ]
  },
  {
   "cell_type": "markdown",
   "id": "26c47b3e-fd1f-4329-938f-71fb94cd324d",
   "metadata": {},
   "source": [
    "In this example, the CustomError class inherits from the base Exception class, providing a clear and consistent way to handle this custom exception alongside standard exceptions."
   ]
  },
  {
   "cell_type": "markdown",
   "id": "ed288550-e852-40e1-ab1f-6e0f7cc92490",
   "metadata": {},
   "source": [
    "Q2. Write a python program to print Python Exception Hierarchy."
   ]
  },
  {
   "cell_type": "markdown",
   "id": "1b5f6bb4-0885-4354-9e97-0db13d6b4d38",
   "metadata": {},
   "source": [
    "Ans- In Python, you can explore the exception hierarchy using the Exception base class. The following Python program demonstrates how to print the Python exception hierarchy:"
   ]
  },
  {
   "cell_type": "code",
   "execution_count": 2,
   "id": "035ef9ae-de03-4cdc-9d05-511284043d8a",
   "metadata": {},
   "outputs": [
    {
     "name": "stdout",
     "output_type": "stream",
     "text": [
      "Exception\n",
      "  TypeError\n",
      "    FloatOperation\n",
      "    MultipartConversionError\n",
      "  StopAsyncIteration\n",
      "  StopIteration\n",
      "  ImportError\n",
      "    ModuleNotFoundError\n",
      "    ZipImportError\n",
      "  OSError\n",
      "    ConnectionError\n",
      "      BrokenPipeError\n",
      "      ConnectionAbortedError\n",
      "      ConnectionRefusedError\n",
      "      ConnectionResetError\n",
      "        RemoteDisconnected\n",
      "    BlockingIOError\n",
      "    ChildProcessError\n",
      "    FileExistsError\n",
      "    FileNotFoundError\n",
      "    IsADirectoryError\n",
      "    NotADirectoryError\n",
      "    InterruptedError\n",
      "      InterruptedSystemCall\n",
      "    PermissionError\n",
      "    ProcessLookupError\n",
      "    TimeoutError\n",
      "    UnsupportedOperation\n",
      "    itimer_error\n",
      "    herror\n",
      "    gaierror\n",
      "    SSLError\n",
      "      SSLCertVerificationError\n",
      "      SSLZeroReturnError\n",
      "      SSLWantWriteError\n",
      "      SSLWantReadError\n",
      "      SSLSyscallError\n",
      "      SSLEOFError\n",
      "    Error\n",
      "      SameFileError\n",
      "    SpecialFileError\n",
      "    ExecError\n",
      "    ReadError\n",
      "    URLError\n",
      "      HTTPError\n",
      "      ContentTooShortError\n",
      "    BadGzipFile\n",
      "  EOFError\n",
      "    IncompleteReadError\n",
      "  RuntimeError\n",
      "    RecursionError\n",
      "    NotImplementedError\n",
      "      ZMQVersionError\n",
      "      StdinNotImplementedError\n",
      "    _DeadlockError\n",
      "    BrokenBarrierError\n",
      "    BrokenExecutor\n",
      "      BrokenThreadPool\n",
      "    SendfileNotAvailableError\n",
      "    ExtractionError\n",
      "    VariableError\n",
      "  NameError\n",
      "    UnboundLocalError\n",
      "  AttributeError\n",
      "    FrozenInstanceError\n",
      "  SyntaxError\n",
      "    IndentationError\n",
      "      TabError\n",
      "  LookupError\n",
      "    IndexError\n",
      "    KeyError\n",
      "      NoSuchKernel\n",
      "      UnknownBackend\n",
      "    CodecRegistryError\n",
      "  ValueError\n",
      "    UnicodeError\n",
      "      UnicodeEncodeError\n",
      "      UnicodeDecodeError\n",
      "      UnicodeTranslateError\n",
      "    UnsupportedOperation\n",
      "    JSONDecodeError\n",
      "    SSLCertVerificationError\n",
      "    Error\n",
      "    UnsupportedDigestmodError\n",
      "    IllegalMonthError\n",
      "    IllegalWeekdayError\n",
      "    ParserError\n",
      "    ClassNotFound\n",
      "    ClipboardEmpty\n",
      "    MessageDefect\n",
      "      NoBoundaryInMultipartDefect\n",
      "      StartBoundaryNotFoundDefect\n",
      "      CloseBoundaryNotFoundDefect\n",
      "      FirstHeaderLineIsContinuationDefect\n",
      "      MisplacedEnvelopeHeaderDefect\n",
      "      MissingHeaderBodySeparatorDefect\n",
      "      MultipartInvariantViolationDefect\n",
      "      InvalidMultipartContentTransferEncodingDefect\n",
      "      UndecodableBytesDefect\n",
      "      InvalidBase64PaddingDefect\n",
      "      InvalidBase64CharactersDefect\n",
      "      InvalidBase64LengthDefect\n",
      "      HeaderDefect\n",
      "        InvalidHeaderDefect\n",
      "        HeaderMissingRequiredValue\n",
      "        NonPrintableDefect\n",
      "        ObsoleteHeaderDefect\n",
      "        NonASCIILocalPartDefect\n",
      "        InvalidDateDefect\n",
      "    MacroToEdit\n",
      "    InvalidFileException\n",
      "    UnequalIterablesError\n",
      "    InvalidVersion\n",
      "    _InvalidELFFileHeader\n",
      "    InvalidWheelFilename\n",
      "    InvalidSdistFilename\n",
      "    InvalidSpecifier\n",
      "    InvalidMarker\n",
      "    UndefinedComparison\n",
      "    UndefinedEnvironmentName\n",
      "    InvalidRequirement\n",
      "      RequirementParseError\n",
      "    InvalidVersion\n",
      "  AssertionError\n",
      "  ArithmeticError\n",
      "    FloatingPointError\n",
      "    OverflowError\n",
      "    ZeroDivisionError\n",
      "      DivisionByZero\n",
      "      DivisionUndefined\n",
      "    DecimalException\n",
      "      Clamped\n",
      "      Rounded\n",
      "        Underflow\n",
      "        Overflow\n",
      "      Inexact\n",
      "        Underflow\n",
      "        Overflow\n",
      "      Subnormal\n",
      "        Underflow\n",
      "      DivisionByZero\n",
      "      FloatOperation\n",
      "      InvalidOperation\n",
      "        ConversionSyntax\n",
      "        DivisionImpossible\n",
      "        DivisionUndefined\n",
      "        InvalidContext\n",
      "  SystemError\n",
      "    CodecRegistryError\n",
      "  ReferenceError\n",
      "  MemoryError\n",
      "  BufferError\n",
      "  Warning\n",
      "    UserWarning\n",
      "      GetPassWarning\n",
      "      FormatterWarning\n",
      "    EncodingWarning\n",
      "    DeprecationWarning\n",
      "      ProvisionalWarning\n",
      "    PendingDeprecationWarning\n",
      "    SyntaxWarning\n",
      "    RuntimeWarning\n",
      "      ProactorSelectorThreadWarning\n",
      "      UnknownTimezoneWarning\n",
      "      PEP440Warning\n",
      "    FutureWarning\n",
      "      ProvisionalCompleterWarning\n",
      "    ImportWarning\n",
      "    UnicodeWarning\n",
      "    BytesWarning\n",
      "    ResourceWarning\n",
      "    DeprecatedTzFormatWarning\n",
      "    PkgResourcesDeprecationWarning\n",
      "  _OptionError\n",
      "  _Error\n",
      "  error\n",
      "  Verbose\n",
      "  Error\n",
      "  SubprocessError\n",
      "    CalledProcessError\n",
      "    TimeoutExpired\n",
      "  TokenError\n",
      "  StopTokenizing\n",
      "  ClassFoundException\n",
      "  EndOfBlock\n",
      "  TraitError\n",
      "  Error\n",
      "  Error\n",
      "    CancelledError\n",
      "    TimeoutError\n",
      "    InvalidStateError\n",
      "  _GiveupOnSendfile\n",
      "  error\n",
      "  Incomplete\n",
      "  TimeoutError\n",
      "  InvalidStateError\n",
      "  LimitOverrunError\n",
      "  QueueEmpty\n",
      "  QueueFull\n",
      "  Empty\n",
      "  Full\n",
      "  ArgumentError\n",
      "  ZMQBaseError\n",
      "    ZMQError\n",
      "      ContextTerminated\n",
      "      Again\n",
      "      InterruptedSystemCall\n",
      "    ZMQBindError\n",
      "    NotDone\n",
      "  PickleError\n",
      "    PicklingError\n",
      "    UnpicklingError\n",
      "  _Stop\n",
      "  ArgumentError\n",
      "  ArgumentTypeError\n",
      "  ConfigError\n",
      "    ConfigLoaderError\n",
      "      ArgumentError\n",
      "    ConfigFileNotFound\n",
      "  ConfigurableError\n",
      "    MultipleInstanceError\n",
      "  ApplicationError\n",
      "  error\n",
      "  TimeoutError\n",
      "  error\n",
      "  ReturnValueIgnoredError\n",
      "  KeyReuseError\n",
      "  UnknownKeyError\n",
      "  LeakedCallbackError\n",
      "  BadYieldError\n",
      "  ReturnValueIgnoredError\n",
      "  Return\n",
      "  InvalidPortNumber\n",
      "  error\n",
      "  LZMAError\n",
      "  RegistryError\n",
      "  _GiveupOnFastCopy\n",
      "  Error\n",
      "    NoSectionError\n",
      "    DuplicateSectionError\n",
      "    DuplicateOptionError\n",
      "    NoOptionError\n",
      "    InterpolationError\n",
      "      InterpolationMissingOptionError\n",
      "      InterpolationSyntaxError\n",
      "      InterpolationDepthError\n",
      "    ParsingError\n",
      "      MissingSectionHeaderError\n",
      "  NoIPAddresses\n",
      "  BadZipFile\n",
      "  LargeZipFile\n",
      "  BadEntryPoint\n",
      "  NoSuchEntryPoint\n",
      "  DuplicateKernelError\n",
      "  ErrorDuringImport\n",
      "  NotOneValueFound\n",
      "  CannotEval\n",
      "  OptionError\n",
      "  BdbQuit\n",
      "  Restart\n",
      "  ExceptionPexpect\n",
      "    EOF\n",
      "    TIMEOUT\n",
      "  PtyProcessError\n",
      "  FindCmdError\n",
      "  HomeDirError\n",
      "  ProfileDirError\n",
      "  IPythonCoreError\n",
      "    TryNext\n",
      "    UsageError\n",
      "    StdinNotImplementedError\n",
      "  InputRejected\n",
      "  GetoptError\n",
      "  ErrorToken\n",
      "  PrefilterError\n",
      "  AliasError\n",
      "    InvalidAliasError\n",
      "  Error\n",
      "    InterfaceError\n",
      "    DatabaseError\n",
      "      InternalError\n",
      "      OperationalError\n",
      "      ProgrammingError\n",
      "      IntegrityError\n",
      "      DataError\n",
      "      NotSupportedError\n",
      "  Warning\n",
      "  SpaceInInput\n",
      "  DOMException\n",
      "    IndexSizeErr\n",
      "    DomstringSizeErr\n",
      "    HierarchyRequestErr\n",
      "    WrongDocumentErr\n",
      "    InvalidCharacterErr\n",
      "    NoDataAllowedErr\n",
      "    NoModificationAllowedErr\n",
      "    NotFoundErr\n",
      "    NotSupportedErr\n",
      "    InuseAttributeErr\n",
      "    InvalidStateErr\n",
      "    SyntaxErr\n",
      "    InvalidModificationErr\n",
      "    NamespaceErr\n",
      "    InvalidAccessErr\n",
      "    ValidationErr\n",
      "  ValidationError\n",
      "  EditReadOnlyBuffer\n",
      "  _Retry\n",
      "  InvalidLayoutError\n",
      "  HeightIsUnknownError\n",
      "  ParserSyntaxError\n",
      "  InternalParseError\n",
      "  _PositionUpdatingFinished\n",
      "  SimpleGetItemNotFound\n",
      "  UncaughtAttributeError\n",
      "  HasNoContext\n",
      "  ParamIssue\n",
      "  _JediError\n",
      "    InternalError\n",
      "    WrongVersion\n",
      "    RefactoringError\n",
      "  OnErrorLeaf\n",
      "  InvalidPythonEnvironment\n",
      "  MessageError\n",
      "    MessageParseError\n",
      "      HeaderParseError\n",
      "      BoundaryError\n",
      "    MultipartConversionError\n",
      "    CharsetError\n",
      "  Error\n",
      "  HTTPException\n",
      "    NotConnected\n",
      "    InvalidURL\n",
      "    UnknownProtocol\n",
      "    UnknownTransferEncoding\n",
      "    UnimplementedFileMode\n",
      "    IncompleteRead\n",
      "    ImproperConnectionState\n",
      "      CannotSendRequest\n",
      "      CannotSendHeader\n",
      "      ResponseNotReady\n",
      "    BadStatusLine\n",
      "      RemoteDisconnected\n",
      "    LineTooLong\n",
      "  InteractivelyDefined\n",
      "  KillEmbedded\n",
      "  Error\n",
      "    NoSuchProcess\n",
      "      ZombieProcess\n",
      "    AccessDenied\n",
      "    TimeoutExpired\n",
      "  _Ipv6UnsupportedError\n",
      "  QueueEmpty\n",
      "  QueueFull\n",
      "  DebuggerInitializationError\n",
      "  ExpatError\n",
      "  Error\n",
      "    ProtocolError\n",
      "    ResponseError\n",
      "    Fault\n",
      "  ParseBaseException\n",
      "    ParseException\n",
      "    ParseFatalException\n",
      "      ParseSyntaxException\n",
      "  RecursiveGrammarException\n",
      "  ResolutionError\n",
      "    VersionConflict\n",
      "      ContextualVersionConflict\n",
      "    DistributionNotFound\n",
      "    UnknownExtra\n",
      "  _Error\n",
      "  UnableToResolveVariableException\n",
      "  InvalidTypeInArgsException\n",
      "  CustomError\n"
     ]
    }
   ],
   "source": [
    "def print_exception_hierarchy(exception_class, indent=0):\n",
    "    print(\"  \" * indent + f\"{exception_class.__name__}\")\n",
    "    for subclass in exception_class.__subclasses__():\n",
    "        print_exception_hierarchy(subclass, indent + 1)\n",
    "\n",
    "# Start from the base Exception class\n",
    "print_exception_hierarchy(Exception)\n"
   ]
  },
  {
   "cell_type": "markdown",
   "id": "3ec96a31-f50b-4fc3-8f65-a93e1fed0eb3",
   "metadata": {},
   "source": [
    "This program defines a function print_exception_hierarchy that takes an exception class and prints its name. It then recursively calls itself for each subclass, adding indentation to represent the hierarchy."
   ]
  },
  {
   "cell_type": "markdown",
   "id": "c49a60d5-f86e-467e-8c5f-2dadbc858830",
   "metadata": {},
   "source": [
    "Q3. What errors are defined in the ArithmeticError class? Explain any two with an example."
   ]
  },
  {
   "cell_type": "markdown",
   "id": "9e78b9bc-8e22-46a4-bbc4-728433d5403b",
   "metadata": {},
   "source": [
    "Ans-The ArithmeticError class in Python represents errors that occur during arithmetic operations. It is a base class for various arithmetic-related exceptions. Two common exceptions derived from ArithmeticError are ZeroDivisionError and OverflowError.\n",
    "\n",
    "1.ZeroDivisionError:\n",
    "\n",
    "This exception is raised when attempting to divide a number by zero.\n",
    "Example:"
   ]
  },
  {
   "cell_type": "code",
   "execution_count": 3,
   "id": "f3592481-3665-4d7d-a949-145accf1df79",
   "metadata": {},
   "outputs": [
    {
     "name": "stdout",
     "output_type": "stream",
     "text": [
      "Error: division by zero\n"
     ]
    }
   ],
   "source": [
    "try:\n",
    "    result = 5 / 0\n",
    "except ZeroDivisionError as e:\n",
    "    print(f\"Error: {e}\")\n"
   ]
  },
  {
   "cell_type": "markdown",
   "id": "78862cea-8a41-4886-9182-79e828a2b30c",
   "metadata": {},
   "source": [
    "In this example, attempting to divide 5 by 0 raises a ZeroDivisionError. To handle this error, we use a try and except block to catch the exception and print an error message.\n",
    "\n",
    "2.OverflowError:\n",
    "\n",
    "This exception is raised when the result of an arithmetic operation is too large to be represented within the given numeric type.\n",
    "Example:"
   ]
  },
  {
   "cell_type": "code",
   "execution_count": 5,
   "id": "862b11c5-0134-446a-8d4a-f7794d3d6309",
   "metadata": {},
   "outputs": [],
   "source": [
    "import sys\n",
    "\n",
    "try:\n",
    "    result = sys.maxsize + 1\n",
    "except OverflowError as e:\n",
    "    print(f\"Error: {e}\")\n"
   ]
  },
  {
   "cell_type": "markdown",
   "id": "5da7e9d8-7aa5-4951-8edb-b26707f60fc6",
   "metadata": {},
   "source": [
    "In this example, sys.maxsize represents the maximum positive integer that can be held in a variable of type int on the current system.\n",
    "Attempting to add 1 to this value causes an overflow, leading to an OverflowError. The try and except block catch the exception and print an error message.\n",
    "\n",
    "These examples illustrate how exceptions derived from ArithmeticError, such as ZeroDivisionError and OverflowError, can be used to handle specific error conditions related to arithmetic operations in Python."
   ]
  },
  {
   "cell_type": "markdown",
   "id": "0287e62b-9ca3-49f1-aa6a-bbb0ba1f533b",
   "metadata": {},
   "source": [
    "Q4. Why LookupError class is used? Explain with an example KeyError and IndexError."
   ]
  },
  {
   "cell_type": "markdown",
   "id": "dfc608f6-a78a-48e0-806e-18b830a6e02e",
   "metadata": {},
   "source": [
    "Ans-The LookupError class in Python is a base class for exceptions that occur when a key or index is not found in a mapping or sequence. It provides a common base class for more specific lookup-related exceptions, making it convenient to catch these types of errors in a unified manner.\n",
    "\n",
    "Two common exceptions derived from LookupError are KeyError and IndexError.\n",
    "\n",
    "1.KeyError:\n",
    "\n",
    "This exception is raised when a dictionary key is not found in a mapping (e.g., a dictionary).\n",
    "Example:"
   ]
  },
  {
   "cell_type": "code",
   "execution_count": 6,
   "id": "4337f4d7-4bd3-460c-94d4-fa4337c8949a",
   "metadata": {},
   "outputs": [
    {
     "name": "stdout",
     "output_type": "stream",
     "text": [
      "Error: 'd'\n"
     ]
    }
   ],
   "source": [
    "my_dict = {'a': 1, 'b': 2, 'c': 3}\n",
    "\n",
    "try:\n",
    "    value = my_dict['d']\n",
    "except KeyError as e:\n",
    "    print(f\"Error: {e}\")\n"
   ]
  },
  {
   "cell_type": "markdown",
   "id": "78672431-c8a6-48bd-b19f-9d64d61944cd",
   "metadata": {},
   "source": [
    "In this example, the dictionary my_dict does not have a key 'd'. Attempting to access this key raises a KeyError. The try and except block catch the exception and print an error message.\n",
    "\n",
    "2.IndexError:\n",
    "\n",
    "This exception is raised when trying to access an index that is outside the range of a sequence (e.g., a list).\n",
    "Example:"
   ]
  },
  {
   "cell_type": "code",
   "execution_count": 7,
   "id": "7de29ff7-19eb-4caa-9728-1380e9ef2e72",
   "metadata": {},
   "outputs": [
    {
     "name": "stdout",
     "output_type": "stream",
     "text": [
      "Error: list index out of range\n"
     ]
    }
   ],
   "source": [
    "my_list = [1, 2, 3, 4, 5]\n",
    "\n",
    "try:\n",
    "    value = my_list[10]\n",
    "except IndexError as e:\n",
    "    print(f\"Error: {e}\")\n"
   ]
  },
  {
   "cell_type": "markdown",
   "id": "3e55ae0f-cbf4-4f61-bf3c-020d81b217ee",
   "metadata": {},
   "source": [
    "In this example, the list my_list has only indices 0 to 4. Attempting to access index 10 raises an IndexError. The try and except block catch the exception and print an error message.\n",
    "\n",
    "By using the LookupError class as a base class for KeyError and IndexError, you can catch both types of exceptions with a single except block, providing a more general way to handle lookup-related errors:\n"
   ]
  },
  {
   "cell_type": "code",
   "execution_count": null,
   "id": "ccb561cd-2978-43ef-ace0-bf1bf13da97e",
   "metadata": {},
   "outputs": [],
   "source": [
    "my_dict = {'a': 1, 'b': 2, 'c': 3}\n",
    "\n",
    "try:\n",
    "    value = my_dict['d']\n",
    "except LookupError as e:\n",
    "    print(f\"Error: {e}\")\n"
   ]
  },
  {
   "cell_type": "markdown",
   "id": "91fb92ef-0c18-4e22-97b1-5b203f96c538",
   "metadata": {},
   "source": [
    "This code would catch both KeyError and IndexError, making it suitable for handling situations where you need to handle missing keys or indices in a uniform manner."
   ]
  },
  {
   "cell_type": "markdown",
   "id": "8b5a66a4-223c-4c3f-8cba-2803570309bd",
   "metadata": {},
   "source": [
    "Q5. Explain ImportError. What is ModuleNotFoundError?"
   ]
  },
  {
   "cell_type": "markdown",
   "id": "468d482c-ea01-4dc3-b01a-a344dba47847",
   "metadata": {},
   "source": [
    "Ans-ImportError is a base class for exceptions that occur when an import statement fails to import a module or when a module attribute lookup fails. It is a common exception raised when there are issues related to importing modules in Python.\n",
    "Example:\n"
   ]
  },
  {
   "cell_type": "code",
   "execution_count": 8,
   "id": "8ffe05a5-58ad-4a1a-b28a-4f5614c7744e",
   "metadata": {},
   "outputs": [
    {
     "name": "stdout",
     "output_type": "stream",
     "text": [
      "Error: No module named 'non_existent_module'\n"
     ]
    }
   ],
   "source": [
    "try:\n",
    "    import non_existent_module\n",
    "except ImportError as e:\n",
    "    print(f\"Error: {e}\")\n"
   ]
  },
  {
   "cell_type": "markdown",
   "id": "ce757017-e0ff-46dc-adbe-f788ba06f9b5",
   "metadata": {},
   "source": [
    "In this example, the import non_existent_module statement attempts to import a module that does not exist. This results in an ImportError, and the try and except block catch the exception and print an error message."
   ]
  },
  {
   "cell_type": "markdown",
   "id": "a8e5d8e4-499c-44cd-af5a-4d714511acaa",
   "metadata": {},
   "source": [
    "ModuleNotFoundError: ModuleNotFoundError is a subclass of ImportError introduced in Python 3.6. It specifically indicates that the requested module could not be found.\n",
    "Example:\n"
   ]
  },
  {
   "cell_type": "code",
   "execution_count": 9,
   "id": "b0cb2d37-b342-4b66-9f53-fdc891261501",
   "metadata": {},
   "outputs": [
    {
     "name": "stdout",
     "output_type": "stream",
     "text": [
      "Error: No module named 'non_existent_module'\n"
     ]
    }
   ],
   "source": [
    "try:\n",
    "    import non_existent_module\n",
    "except ModuleNotFoundError as e:\n",
    "    print(f\"Error: {e}\")\n"
   ]
  },
  {
   "cell_type": "markdown",
   "id": "bf77903d-c156-4c60-ba31-8f11c4131ade",
   "metadata": {},
   "source": [
    "Similar to the previous example, attempting to import a non-existent module raises a ModuleNotFoundError. This exception provides a more specific indication that the module could not be found.\n",
    "\n",
    "Both ImportError and ModuleNotFoundError are useful for handling situations where you want to gracefully manage the absence or failure of module imports in your Python code. They can be caught in a try and except block to provide meaningful error messages or take appropriate actions based on the failure to import a module."
   ]
  },
  {
   "cell_type": "markdown",
   "id": "51f4f91b-35e5-4897-b9f1-ae84926222bb",
   "metadata": {},
   "source": [
    "Q6. List down some best practices for exception handling in python."
   ]
  },
  {
   "cell_type": "markdown",
   "id": "8bf081d5-2ef1-4383-adee-9ccdf5af3a42",
   "metadata": {},
   "source": [
    "Ans- Exception handling is a crucial aspect of writing robust and maintainable Python code. Here are some best practices for exception handling in Python:\n",
    "\n",
    "1.Use Specific Exceptions:\n",
    "\n",
    "Catch specific exceptions rather than using a broad except block. This helps you handle different errors in an appropriate way and prevents unintentionally catching unexpected exceptions.\n",
    "\n",
    "2.Avoid Bare Except Blocks:\n",
    "\n",
    "Avoid using bare except blocks without specifying the exception type. This can mask bugs and make debugging difficult. Be explicit about the exceptions you're catching.\n",
    "\n",
    "3.Use finally for Cleanup:\n",
    "\n",
    "Use the finally block to ensure that cleanup code (e.g., closing files or network connections) is executed, regardless of whether an exception occurred.\n",
    "\n",
    "4.Handle Exceptions at the Right Level:\n",
    "\n",
    "Handle exceptions at the appropriate level in your code. Avoid catching exceptions too early, as it might hide bugs. Let exceptions propagate to higher levels if they cannot be handled effectively at a lower level.\n",
    "\n",
    "5.Log Exceptions:\n",
    "\n",
    "Use logging to record details about exceptions. Logging allows you to monitor and debug issues in a production environment without disrupting the user.\n",
    "\n",
    "6.Use else with try Blocks:\n",
    "\n",
    "Use the else block with try to specify code that should run if no exceptions are raised. This can improve the readability of your code.\n",
    "\n",
    "7.Custom Exception Classes:\n",
    "\n",
    "Create custom exception classes for your application to provide more context and make your code more readable. Inherit from built-in exception classes or use existing ones when appropriate.\n",
    "\n",
    "8.Test Exception Handling:\n",
    "\n",
    "Test your code with both expected and unexpected inputs to ensure that your exception-handling mechanisms work as intended. Unit tests and edge-case testing can help identify potential issues.\n",
    "\n"
   ]
  },
  {
   "cell_type": "code",
   "execution_count": null,
   "id": "e91ecf05-c6fa-4cae-a5dc-e5e8306754ab",
   "metadata": {},
   "outputs": [],
   "source": []
  }
 ],
 "metadata": {
  "kernelspec": {
   "display_name": "Python 3 (ipykernel)",
   "language": "python",
   "name": "python3"
  },
  "language_info": {
   "codemirror_mode": {
    "name": "ipython",
    "version": 3
   },
   "file_extension": ".py",
   "mimetype": "text/x-python",
   "name": "python",
   "nbconvert_exporter": "python",
   "pygments_lexer": "ipython3",
   "version": "3.10.8"
  }
 },
 "nbformat": 4,
 "nbformat_minor": 5
}
