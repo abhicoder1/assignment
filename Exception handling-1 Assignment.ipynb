{
 "cells": [
  {
   "cell_type": "markdown",
   "id": "403cb1fb-1e63-496d-815e-7cbc11d405d4",
   "metadata": {},
   "source": [
    " Q1. What is an Exception in python? write the difference between Exceptions and Syntax errors."
   ]
  },
  {
   "cell_type": "markdown",
   "id": "1d35c1e6-69de-43be-b68b-d992b9de8b6d",
   "metadata": {},
   "source": [
    "Ans- In Python, an exception is an event that occurs during the execution of a program that disrupts the normal flow of the program's instructions. When an exception occurs, the program's regular flow is interrupted, and the interpreter searches for an appropriate exception handling mechanism to deal with the situation. This allows you to gracefully handle unexpected errors and prevent your program from crashing.\n",
    "\n",
    "Exceptions can occur for various reasons, such as when trying to perform an invalid operation on data, accessing a non-existent file, dividing by zero, etc. Python provides a mechanism to catch and handle exceptions using try-except blocks.\n",
    "\n",
    "Differences between Exceptions and Syntax Errors:\n",
    "\n",
    "1.Nature of Occurrence:\n",
    "\n",
    "Exception: Exceptions occur during the runtime of the program when unexpected situations or errors are encountered.\n",
    "Syntax Error: Syntax errors are detected by the Python interpreter before the program is executed. They occur when the code violates the rules of the Python language syntax.\n",
    "\n",
    "2.Timing:\n",
    "\n",
    "Exception: Occurs during the runtime of the program, while the program is executing.\n",
    "Syntax Error: Detected before the program starts running, during the parsing phase.\n",
    "\n",
    "3.Handling:\n",
    "\n",
    "Exception: Exceptions can be caught and handled using try-except blocks. This allows you to gracefully recover from errors and continue executing the program.\n",
    "Syntax Error: Since syntax errors prevent the program from running at all, they must be fixed in the code before execution.\n",
    "\n",
    "4.Examples:\n",
    "\n",
    "Exception: Examples include division by zero (ZeroDivisionError), trying to access a non-existent dictionary key (KeyError), or attempting to open a non-existent file (FileNotFoundError).\n",
    "\n",
    "Syntax Error: Examples include misspelled keywords, missing colons in control structures, unmatched parentheses, etc.\n",
    "\n",
    "5.Precedence:\n",
    "\n",
    "Exception: Exceptions can be handled using try-except blocks to control the program's behavior in case of errors.\n",
    "Syntax Error: Must be fixed before the program can be executed; you can't handle syntax errors during runtime.\n",
    "\n",
    "In summary, exceptions are runtime errors that can be caught and handled using try-except blocks to prevent program crashes. On the other hand, syntax errors are detected before program execution and must be fixed in the code before running the program."
   ]
  },
  {
   "cell_type": "markdown",
   "id": "13967a81-f9b1-460a-aaef-282bbdc5eb11",
   "metadata": {},
   "source": [
    " Q2. What happens when an exception is not handled? Explain with an example."
   ]
  },
  {
   "cell_type": "markdown",
   "id": "31bd0b16-abb6-418e-a154-2c64d614fc72",
   "metadata": {},
   "source": [
    "Ans- When an exception is not handled in a program, it leads to an abrupt termination of the program's normal execution. The unhandled exception causes the program to display an error message traceback, which includes information about the exception type, the line of code where the exception occurred, and the call stack leading up to the exception. After displaying the traceback, the program terminates, and any remaining code after the point of the exception is not executed.\n",
    "\n",
    "Here's an example to illustrate what happens when an exception is not handled:"
   ]
  },
  {
   "cell_type": "code",
   "execution_count": 1,
   "id": "6df4488d-1ee9-4bdf-ab9f-b259ead71050",
   "metadata": {},
   "outputs": [
    {
     "ename": "ZeroDivisionError",
     "evalue": "division by zero",
     "output_type": "error",
     "traceback": [
      "\u001b[0;31m---------------------------------------------------------------------------\u001b[0m",
      "\u001b[0;31mZeroDivisionError\u001b[0m                         Traceback (most recent call last)",
      "Cell \u001b[0;32mIn[1], line 7\u001b[0m\n\u001b[1;32m      4\u001b[0m numerator \u001b[38;5;241m=\u001b[39m \u001b[38;5;241m10\u001b[39m\n\u001b[1;32m      5\u001b[0m denominator \u001b[38;5;241m=\u001b[39m \u001b[38;5;241m0\u001b[39m\n\u001b[0;32m----> 7\u001b[0m result \u001b[38;5;241m=\u001b[39m \u001b[43mdivide\u001b[49m\u001b[43m(\u001b[49m\u001b[43mnumerator\u001b[49m\u001b[43m,\u001b[49m\u001b[43m \u001b[49m\u001b[43mdenominator\u001b[49m\u001b[43m)\u001b[49m\n\u001b[1;32m      8\u001b[0m \u001b[38;5;28mprint\u001b[39m(\u001b[38;5;124m\"\u001b[39m\u001b[38;5;124mResult:\u001b[39m\u001b[38;5;124m\"\u001b[39m, result)\n\u001b[1;32m      9\u001b[0m \u001b[38;5;28mprint\u001b[39m(\u001b[38;5;124m\"\u001b[39m\u001b[38;5;124mThis line will not be executed due to the exception.\u001b[39m\u001b[38;5;124m\"\u001b[39m)\n",
      "Cell \u001b[0;32mIn[1], line 2\u001b[0m, in \u001b[0;36mdivide\u001b[0;34m(a, b)\u001b[0m\n\u001b[1;32m      1\u001b[0m \u001b[38;5;28;01mdef\u001b[39;00m \u001b[38;5;21mdivide\u001b[39m(a, b):\n\u001b[0;32m----> 2\u001b[0m     \u001b[38;5;28;01mreturn\u001b[39;00m \u001b[43ma\u001b[49m\u001b[43m \u001b[49m\u001b[38;5;241;43m/\u001b[39;49m\u001b[43m \u001b[49m\u001b[43mb\u001b[49m\n",
      "\u001b[0;31mZeroDivisionError\u001b[0m: division by zero"
     ]
    }
   ],
   "source": [
    "def divide(a, b):\n",
    "    return a / b\n",
    "\n",
    "numerator = 10\n",
    "denominator = 0\n",
    "\n",
    "result = divide(numerator, denominator)\n",
    "print(\"Result:\", result)\n",
    "print(\"This line will not be executed due to the exception.\")\n"
   ]
  },
  {
   "cell_type": "markdown",
   "id": "655e517e-c4ba-4d86-a208-6f8e8ccc9bc0",
   "metadata": {},
   "source": [
    "In this example, the function divide attempts to perform a division operation with numerator and denominator. However, when denominator is set to 0, a ZeroDivisionError exception is raised, indicating that division by zero is not allowed. If this exception is not handled, the program will terminate with a traceback message.\n",
    "\n",
    "In this case, the program displays the traceback, which shows where the exception occurred and provides information about the type of exception (ZeroDivisionError) and the specific error message (division by zero). After displaying the traceback, the program terminates, and the print statement and the subsequent line are not executed.\n",
    "\n",
    "To prevent the program from crashing and to provide a more controlled response to the error, you can use a try-except block to handle the exception:\n"
   ]
  },
  {
   "cell_type": "code",
   "execution_count": 2,
   "id": "99521959-b6ea-44a6-8516-6cc33b5a802b",
   "metadata": {},
   "outputs": [
    {
     "name": "stderr",
     "output_type": "stream",
     "text": [
      "ERROR: Attempted division by zero\n"
     ]
    }
   ],
   "source": [
    "import logging\n",
    "\n",
    "def divide(a, b):\n",
    "    try:\n",
    "        return a / b\n",
    "    except ZeroDivisionError:\n",
    "        logging.error(\"Attempted division by zero\")\n",
    "        return \"Cannot divide by zero\"\n",
    "\n",
    "# Configure the logging\n",
    "logging.basicConfig(level=logging.ERROR, format='%(levelname)s: %(message)s')\n",
    "\n",
    "numerator = 10\n",
    "denominator = 0\n",
    "\n",
    "result = divide(numerator, denominator)\n",
    "logging.info(\"Result: %s\", result)\n",
    "logging.info(\"This line will be executed despite the exception.\")\n"
   ]
  },
  {
   "cell_type": "markdown",
   "id": "32854b5d-3a90-49fe-b56b-76e37a943c27",
   "metadata": {},
   "source": [
    "Q3. Which python statements are used to catch and handle exceptions? Explain with an example."
   ]
  },
  {
   "cell_type": "markdown",
   "id": "e0a860e3-d02d-4a3e-b0a4-ec21e8470ecd",
   "metadata": {},
   "source": [
    "Ans- In Python, the try and except statements are used to catch and handle exceptions. The try block contains the code that might raise an exception, and the except block contains the code that will be executed if an exception of a specified type occurs."
   ]
  },
  {
   "cell_type": "code",
   "execution_count": 10,
   "id": "34886604-021c-4de6-94fd-bf90bc962df0",
   "metadata": {},
   "outputs": [
    {
     "name": "stderr",
     "output_type": "stream",
     "text": [
      "ERROR: Attempted division by zero\n"
     ]
    }
   ],
   "source": [
    "import logging\n",
    "\n",
    "def divide(a, b):\n",
    "    try:\n",
    "        return a / b\n",
    "    except ZeroDivisionError:\n",
    "        logging.error(\"Attempted division by zero\")\n",
    "        return \"Cannot divide by zero\"\n",
    "\n",
    "# Configure the logging\n",
    "logging.basicConfig(level=logging.ERROR, format='%(levelname)s: %(message)s')\n",
    "\n",
    "numerator = 10\n",
    "denominator = 0\n",
    "\n",
    "result = divide(numerator, denominator)\n",
    "logging.info(\"Result: %s\", result)\n",
    "logging.info(\"This line will be executed despite the exception.\")\n"
   ]
  },
  {
   "cell_type": "markdown",
   "id": "09768357-02a2-46c0-a9bc-60851755d377",
   "metadata": {},
   "source": [
    "In this example, the divide function attempts to divide numerator by denominator. Inside the try block, the division operation is performed. If a ZeroDivisionError occurs (when denominator is 0), the code inside the except block is executed. The program doesn't crash; instead, it gracefully handles the exception by returning the message \"Attempted division by zero\"."
   ]
  },
  {
   "cell_type": "markdown",
   "id": "1dded66d-b85d-48e7-9e27-bb70c1b47167",
   "metadata": {},
   "source": [
    "Q4. Explain with an example:\n",
    "   a. try and else\n",
    "   b. finally \n",
    "   c. raise"
   ]
  },
  {
   "cell_type": "markdown",
   "id": "ee73f324-a4fa-4925-97c9-c0e5306ac21b",
   "metadata": {},
   "source": [
    "Ans- a. try and else - Certainly! In addition to the try and except blocks, Python also supports an else block that can be used in conjunction with them. The else block is executed if no exceptions are raised within the try block. This allows you to separate the code that may raise exceptions from the code that should run only when no exceptions occur.\n",
    "\n",
    "Here's the structure of the try, except, and else blocks:"
   ]
  },
  {
   "cell_type": "code",
   "execution_count": null,
   "id": "fad61058-ddbd-4472-9a0f-9619b89b6a87",
   "metadata": {},
   "outputs": [],
   "source": [
    "try:\n",
    "    # Code that might raise an exception\n",
    "except ExceptionType:\n",
    "    # Code to handle the exception\n",
    "else:\n",
    "    # Code to execute when no exceptions occur\n"
   ]
  },
  {
   "cell_type": "markdown",
   "id": "3e7c9e93-ef49-40a1-b680-bbc2ff37f0b4",
   "metadata": {},
   "source": [
    "Here's an example to illustrate the use of try, except, and else:"
   ]
  },
  {
   "cell_type": "code",
   "execution_count": 12,
   "id": "f6717843-ac90-417d-98ba-14672bbf0df4",
   "metadata": {},
   "outputs": [
    {
     "name": "stdout",
     "output_type": "stream",
     "text": [
      "Result: 5.0\n",
      "This line will be executed in both cases.\n"
     ]
    }
   ],
   "source": [
    " def divide(a, b):\n",
    "    try:\n",
    "        result = a / b\n",
    "    except ZeroDivisionError:\n",
    "        return \"Cannot divide by zero\"\n",
    "    else:\n",
    "        return result\n",
    "\n",
    "numerator = 10\n",
    "denominator = 2\n",
    "\n",
    "result = divide(numerator, denominator)\n",
    "print(\"Result:\", result)\n",
    "print(\"This line will be executed in both cases.\")\n",
    "\n"
   ]
  },
  {
   "cell_type": "markdown",
   "id": "7317155a-ce74-41bb-b8ef-b72f13761684",
   "metadata": {},
   "source": [
    "In this example, the divide function performs division inside the try block. If no ZeroDivisionError occurs, the division result is stored in the result variable, and the else block is executed, which simply returns the result. The final print statement is executed regardless of whether an exception occurred or not."
   ]
  },
  {
   "cell_type": "markdown",
   "id": "75a5906c-d2a3-411f-853b-307f64d640e6",
   "metadata": {},
   "source": [
    "b. finally -  Python, the finally block is used in conjunction with the try and except blocks to provide a piece of code that will be executed regardless of whether an exception is raised or not. The code inside the finally block will always run, ensuring that certain cleanup or finalization tasks are performed, no matter the outcome of the preceding code.\n",
    "\n",
    "The basic structure is as follows:"
   ]
  },
  {
   "cell_type": "code",
   "execution_count": null,
   "id": "c439cdf4-3d7c-41bf-bfc1-bdd10729a8e9",
   "metadata": {},
   "outputs": [],
   "source": [
    "try:\n",
    "    # Code that might raise an exception\n",
    "except ExceptionType:\n",
    "    # Code to handle the exception\n",
    "finally:\n",
    "    # Code that will always run, regardless of exceptions\n"
   ]
  },
  {
   "cell_type": "markdown",
   "id": "b114f069-4ca0-4807-ae51-83fd5faed034",
   "metadata": {},
   "source": [
    "Here's an example to illustrate the use of the finally block:\n"
   ]
  },
  {
   "cell_type": "code",
   "execution_count": 15,
   "id": "65e773a9-8c4d-47e4-8e13-02dd3d91bf2d",
   "metadata": {},
   "outputs": [
    {
     "name": "stdout",
     "output_type": "stream",
     "text": [
      "Finally block executed\n",
      "Result: 5.0\n"
     ]
    }
   ],
   "source": [
    " def divide(a, b):\n",
    "    try:\n",
    "        result = a / b\n",
    "    except ZeroDivisionError:\n",
    "        return \"Cannot divide by zero\"\n",
    "    else:\n",
    "        return result\n",
    "    finally:\n",
    "        print(\"Finally block executed\")\n",
    "\n",
    "numerator = 10\n",
    "denominator = 2\n",
    "\n",
    "result = divide(numerator, denominator)\n",
    "print(\"Result:\", result)\n",
    "\n",
    "\n"
   ]
  },
  {
   "cell_type": "markdown",
   "id": "97215b99-8270-4308-9419-4f5774f59eb8",
   "metadata": {},
   "source": [
    "In this example, the divide function performs division inside the try block. If no ZeroDivisionError occurs, the division result is returned, and the else block is executed. Regardless of whether an exception occurs or not, the finally block will always be executed, printing the message \"Finally block executed\"."
   ]
  },
  {
   "cell_type": "markdown",
   "id": "73fa47ba-6d96-43f3-b745-d8f2edfb128c",
   "metadata": {},
   "source": [
    "c. raise - In Python, the raise statement is used to explicitly raise exceptions in your code. This allows you to create and control custom exceptions when specific conditions are met, and you want to signal an exceptional situation to the program's execution flow.\n",
    "\n",
    "Here's the basic syntax of the raise statement:"
   ]
  },
  {
   "cell_type": "code",
   "execution_count": null,
   "id": "376c5cf9-7e8f-444d-a980-e72529d629d7",
   "metadata": {},
   "outputs": [],
   "source": [
    "raise ExceptionType(\"Error message\")\n"
   ]
  },
  {
   "cell_type": "markdown",
   "id": "fe1031b1-02e5-4d6d-b412-f9cb9198c70d",
   "metadata": {},
   "source": [
    "You can replace ExceptionType with the specific exception class you want to raise, and \"Error message\" with a custom error message describing the reason for raising the exception.\n",
    "\n",
    "Here's an example to illustrate how to use the raise statement to raise a custom exception:"
   ]
  },
  {
   "cell_type": "code",
   "execution_count": 16,
   "id": "fdb6b265-879a-47d0-bc0c-fa9e31d3a93c",
   "metadata": {},
   "outputs": [
    {
     "name": "stdout",
     "output_type": "stream",
     "text": [
      "An error occurred: Cannot calculate square root of a negative number\n"
     ]
    }
   ],
   "source": [
    "def calculate_square_root(number):\n",
    "    if number < 0:\n",
    "        raise ValueError(\"Cannot calculate square root of a negative number\")\n",
    "    return number ** 0.5\n",
    "\n",
    "try:\n",
    "    result = calculate_square_root(-1)\n",
    "    print(\"Square root:\", result)\n",
    "except ValueError as e:\n",
    "    print(\"An error occurred:\", e)\n"
   ]
  },
  {
   "cell_type": "markdown",
   "id": "e19d3f67-3e5b-44d1-a530-60d74d38e9fb",
   "metadata": {},
   "source": [
    "In this example, the calculate_square_root function attempts to calculate the square root of a given number. However, before performing the calculation, it checks whether the number is negative. If the number is negative, it raises a ValueError exception with the message \"Cannot calculate square root of a negative number\".\n",
    "\n",
    "When the function is called with a negative number (-1), the ValueError exception is raised. The except block catches the exception and prints the custom error message provided in the raise statement."
   ]
  },
  {
   "cell_type": "markdown",
   "id": "379c8fcb-ad8b-4b2f-8a52-eb7cf8be61c1",
   "metadata": {},
   "source": [
    "Q5. What are the Custom Exceptions in python? why do we need Custom Exceptions? Explain with an example."
   ]
  },
  {
   "cell_type": "markdown",
   "id": "575b8d49-b351-4428-aa8d-1c8f28241575",
   "metadata": {},
   "source": [
    "Ans- Custom exceptions in Python are user-defined exception classes that you create to handle specific error scenarios that are not adequately covered by built-in exception classes. By creating custom exceptions, you can provide more meaningful error messages and structure your code in a way that makes error handling and debugging more intuitive.\n",
    "\n",
    "Why Do We Need Custom Exceptions?\n",
    "\n",
    "1.Clarity and Expressiveness: Custom exceptions allow you to give specific names to the errors that can occur in your code, making it easier to understand what went wrong.\n",
    "\n",
    "2.Modularity and Reusability: Custom exceptions encapsulate the details of an error and can be reused throughout your codebase, promoting modularity.\n",
    "\n",
    "3.Better Error Handling: By having distinct custom exception classes, you can handle different errors in different ways, providing more targeted error handling mechanisms.\n",
    "\n",
    "4.Debugging: Custom exceptions help pinpoint issues more precisely by providing error information that directly relates to the context of the problem.\n",
    "\n",
    "Example of Custom Exceptions:\n",
    "\n",
    "Let's say you're building a program to manage a library's book inventory. You want to ensure that the available stock for a book is never negative. You can create a custom exception class to handle this situation:"
   ]
  },
  {
   "cell_type": "code",
   "execution_count": 17,
   "id": "beefcd83-bb47-4a8e-9e1e-42f6f91340af",
   "metadata": {},
   "outputs": [
    {
     "name": "stdout",
     "output_type": "stream",
     "text": [
      "An error occurred: Negative stock for 'Python Programming': -5\n"
     ]
    }
   ],
   "source": [
    "class NegativeStockError(Exception):\n",
    "    def __init__(self, book_name, stock):\n",
    "        self.book_name = book_name\n",
    "        self.stock = stock\n",
    "        self.message = f\"Negative stock for '{self.book_name}': {self.stock}\"\n",
    "\n",
    "def update_stock(book_name, stock_change):\n",
    "    current_stock = 10  # Assume initial stock is 10\n",
    "    new_stock = current_stock + stock_change\n",
    "    \n",
    "    if new_stock < 0:\n",
    "        raise NegativeStockError(book_name, new_stock)\n",
    "    \n",
    "    print(f\"Updated stock for '{book_name}': {new_stock}\")\n",
    "\n",
    "try:\n",
    "    update_stock(\"Python Programming\", -15)\n",
    "except NegativeStockError as e:\n",
    "    print(\"An error occurred:\", e.message)\n"
   ]
  },
  {
   "cell_type": "markdown",
   "id": "853def2f-bece-486d-b5ca-00126391212b",
   "metadata": {},
   "source": [
    "In this example:\n",
    "\n",
    "We define a custom exception class NegativeStockError that inherits from the base Exception class. It takes the book name and the new stock value as parameters.\n",
    "\n",
    "The update_stock function simulates updating the stock of a book. If the resulting stock is negative, a NegativeStockError exception is raised with the relevant details.\n",
    "\n",
    "The try block calls update_stock with a negative stock change, which raises the custom exception. The except block catches the exception and prints the custom error message."
   ]
  },
  {
   "cell_type": "markdown",
   "id": "ea266321-200f-478e-a04d-ffeaa38e9dca",
   "metadata": {},
   "source": [
    "Q6. Create a custom Exception class. Use this class to handle an exception."
   ]
  },
  {
   "cell_type": "code",
   "execution_count": 18,
   "id": "00882bae-1ffc-4e5a-b1dc-08fb706c74b5",
   "metadata": {},
   "outputs": [
    {
     "name": "stderr",
     "output_type": "stream",
     "text": [
      "ERROR: Custom error occurred: Data is empty\n"
     ]
    }
   ],
   "source": [
    "import logging\n",
    "\n",
    "class CustomError(Exception):\n",
    "    def __init__(self, message):\n",
    "        self.message = message\n",
    "        super().__init__(self.message)\n",
    "\n",
    "def process_data(data):\n",
    "    if not data:\n",
    "        raise CustomError(\"Data is empty\")\n",
    "\n",
    "# Configure the logging\n",
    "logging.basicConfig(level=logging.INFO, format='%(levelname)s: %(message)s')\n",
    "\n",
    "try:\n",
    "    data = []\n",
    "    process_data(data)\n",
    "except CustomError as e:\n",
    "    logging.error(\"Custom error occurred: %s\", e.message)\n"
   ]
  },
  {
   "cell_type": "markdown",
   "id": "ac8b435f-7941-45fb-a1e0-ebc3567b2c39",
   "metadata": {},
   "source": [
    "In this example:\n",
    "\n",
    "We define a custom exception class CustomError that inherits from the base Exception class. It takes a message as a parameter and initializes the exception with that message.\n",
    "\n",
    "The process_data function is a simplified example of a data processing function. It raises a CustomError exception if the provided data is empty.\n",
    "\n",
    "The try block calls process_data with an empty list, which raises the CustomError exception. The except block catches the exception and prints the custom error message."
   ]
  }
 ],
 "metadata": {
  "kernelspec": {
   "display_name": "Python 3 (ipykernel)",
   "language": "python",
   "name": "python3"
  },
  "language_info": {
   "codemirror_mode": {
    "name": "ipython",
    "version": 3
   },
   "file_extension": ".py",
   "mimetype": "text/x-python",
   "name": "python",
   "nbconvert_exporter": "python",
   "pygments_lexer": "ipython3",
   "version": "3.10.8"
  }
 },
 "nbformat": 4,
 "nbformat_minor": 5
}
