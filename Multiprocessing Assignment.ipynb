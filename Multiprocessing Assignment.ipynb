{
 "cells": [
  {
   "cell_type": "markdown",
   "id": "e9c9e66e-9f4a-474a-aee7-fe018ba1c3c6",
   "metadata": {},
   "source": [
    "Q1. What is multiprocessing in python? Why is it useful?"
   ]
  },
  {
   "cell_type": "markdown",
   "id": "471cad58-b38e-47f4-81b7-ba6534fce0f5",
   "metadata": {},
   "source": [
    "Ans-In Python, the multiprocessing module provides a way to create and manage processes. It allows you to parallelize tasks, distributing the workload across multiple processes to improve overall performance.\n",
    "\n",
    "Key Features and Components of the multiprocessing Module:\n",
    "\n",
    "1.Process Class: The Process class is the fundamental component of the multiprocessing module. It is used to create and manage individual processes.\n",
    "\n",
    "2.Communication Between Processes: Processes in multiprocessing can communicate with each other using mechanisms like Queue, Pipe, and shared memory objects (Value, Array).\n",
    "\n",
    "3.Parallel Execution: Multiprocessing enables true parallel execution, making it suitable for CPU-bound tasks that benefit from utilizing multiple cores.\n",
    "\n",
    "4.Avoidance of Global Interpreter Lock (GIL): Unlike multithreading, where the GIL can limit parallelism, multiprocessing allows each process to run with its own interpreter and memory space, avoiding the GIL limitations.\n",
    "\n",
    "\n",
    "Usefulness of Multiprocessing in Python:\n",
    "\n",
    "1.Improved Performance: Multiprocessing is particularly useful for CPU-bound tasks where the computation is the primary bottleneck. By distributing the workload across multiple processes, the overall performance can be significantly improved.\n",
    "\n",
    "2.Parallelism on Multi-Core Systems: With the prevalence of multi-core processors in modern systems, multiprocessing allows Python applications to take full advantage of available cores, achieving parallelism.\n",
    "\n",
    "3.Isolation of Processes: Each process runs in its own memory space, providing isolation. This isolation can be beneficial for stability, as issues in one process are less likely to affect others.\n",
    "\n",
    "4.Fault Tolerance: If one process fails due to an error, other processes can continue running unaffected. This enhances the fault tolerance of the overall system.\n",
    "\n",
    "5.Task Parallelism: Multiprocessing is well-suited for task parallelism, where different processes perform independent tasks concurrently.\n",
    "\n",
    "Example of Multiprocessing:\n"
   ]
  },
  {
   "cell_type": "code",
   "execution_count": 1,
   "id": "9de3f8c3-ec16-498f-8c94-64d28fecdc66",
   "metadata": {},
   "outputs": [
    {
     "name": "stdout",
     "output_type": "stream",
     "text": [
      "Square of 5: 25\n",
      "Cube of 5: 125\n",
      "Main process exiting.\n"
     ]
    }
   ],
   "source": [
    "import multiprocessing\n",
    "\n",
    "def square(n):\n",
    "    result = n * n\n",
    "    print(f\"Square of {n}: {result}\")\n",
    "\n",
    "def cube(n):\n",
    "    result = n * n * n\n",
    "    print(f\"Cube of {n}: {result}\")\n",
    "\n",
    "if __name__ == \"__main__\":\n",
    "    # Create two processes\n",
    "    process_square = multiprocessing.Process(target=square, args=(5,))\n",
    "    process_cube = multiprocessing.Process(target=cube, args=(5,))\n",
    "\n",
    "    # Start the processes\n",
    "    process_square.start()\n",
    "    process_cube.start()\n",
    "\n",
    "    # Wait for both processes to finish\n",
    "    process_square.join()\n",
    "    process_cube.join()\n",
    "\n",
    "    print(\"Main process exiting.\")\n"
   ]
  },
  {
   "cell_type": "markdown",
   "id": "d6dd2502-ecda-4d7e-b580-4760073ba564",
   "metadata": {},
   "source": [
    "Q2. What are the differences between multiprocessing and multithreading?"
   ]
  },
  {
   "cell_type": "markdown",
   "id": "4c8ab526-1e39-4d7d-977f-c5a79ae38c1f",
   "metadata": {},
   "source": [
    "Ans- Both multiprocessing and multithreading are techniques used to achieve concurrent execution in Python, but they differ in their approaches. Here are the key differences between multiprocessing and multithreading:\n",
    "\n",
    "1.Definition:\n",
    "\n",
    "Multiprocessing: In multiprocessing, multiple processes are created, each with its own interpreter and memory space. Processes run independently and can utilize multiple CPU cores.\n",
    "\n",
    "Multithreading: In multithreading, multiple threads run within the same process, sharing the same memory space. Threads are lighter-weight than processes but are constrained by the Global Interpreter Lock (GIL) in CPython, limiting true parallelism.\n",
    "\n",
    "2.Parallelism:\n",
    "\n",
    "Multiprocessing: Achieves true parallelism, especially on multi-core systems, as each process runs independently.\n",
    "\n",
    "Multithreading: Limited parallelism due to the GIL in CPython. Multiple threads may run concurrently, but only one can execute Python bytecode at a time.\n",
    "\n",
    "3.Isolation:\n",
    "\n",
    "Multiprocessing: Processes run in separate memory spaces, providing better isolation. An issue in one process is less likely to affect others.\n",
    "\n",
    "Multithreading: Threads share the same memory space, which can lead to potential data conflicts and makes isolation more challenging.\n",
    "\n",
    "4.Memory Overhead:\n",
    "\n",
    "Multiprocessing: Typically incurs higher memory overhead, as each process has its own memory space.\n",
    "\n",
    "Multithreading: Has lower memory overhead compared to multiprocessing, as threads within the same process share memory.\n",
    "\n",
    "5.Communication:\n",
    "\n",
    "Multiprocessing: Communication between processes is achieved using inter-process communication mechanisms, such as Queue, Pipe, and shared memory objects.\n",
    "\n",
    "Multithreading: Threads within the same process can communicate more easily, as they share the same memory space.\n",
    "\n",
    "6.Resource Utilization:\n",
    "\n",
    "Multiprocessing: Can better utilize multiple CPU cores and is suitable for CPU-bound tasks.\n",
    "\n",
    "Multithreading: More suitable for I/O-bound tasks due to GIL limitations. CPU-bound tasks may not benefit significantly from multithreading.\n",
    "\n",
    "7.Fault Tolerance:\n",
    "\n",
    "Multiprocessing: More fault-tolerant. If one process fails, others can continue running.\n",
    "\n",
    "Multithreading: A crash in one thread can potentially affect the entire process.\n",
    "\n",
    "8.GIL (Global Interpreter Lock):\n",
    "\n",
    "Multiprocessing: Bypasses the GIL, allowing true parallelism. Each process has its own interpreter and GIL.\n",
    "\n",
    "Multithreading: Constrained by the GIL, limiting parallel execution of Python bytecode. True parallelism is challenging for CPU-bound tasks.\n"
   ]
  },
  {
   "cell_type": "markdown",
   "id": "92e24ddc-6be2-4196-a3d1-63880237fd07",
   "metadata": {},
   "source": [
    "Q3. Write a python code to create a process using the multiprocessing module."
   ]
  },
  {
   "cell_type": "code",
   "execution_count": 2,
   "id": "56f57ef8-c228-406e-894d-bf70fba589d8",
   "metadata": {},
   "outputs": [
    {
     "name": "stdout",
     "output_type": "stream",
     "text": [
      "Process ID: 8285\n",
      "Process ID: 8288\n",
      "Main process exiting.\n"
     ]
    }
   ],
   "source": [
    "import multiprocessing\n",
    "import os\n",
    "\n",
    "def print_pid():\n",
    "    process_id = os.getpid()\n",
    "    print(f\"Process ID: {process_id}\")\n",
    "\n",
    "if __name__ == \"__main__\":\n",
    "    # The __name__ == \"__main__\" condition is crucial for cross-platform compatibility\n",
    "\n",
    "    # Create two processes\n",
    "    process1 = multiprocessing.Process(target=print_pid)\n",
    "    process2 = multiprocessing.Process(target=print_pid)\n",
    "\n",
    "    # Start the processes\n",
    "    process1.start()\n",
    "    process2.start()\n",
    "\n",
    "    # Wait for both processes to finish\n",
    "    process1.join()\n",
    "    process2.join()\n",
    "\n",
    "    print(\"Main process exiting.\")\n"
   ]
  },
  {
   "cell_type": "markdown",
   "id": "dbc6c8bf-c3d8-4292-8b8c-55de8e258b9f",
   "metadata": {},
   "source": [
    "Q4. What is a multiprocessing pool in python? Why is it used?"
   ]
  },
  {
   "cell_type": "markdown",
   "id": "8c452c6e-c6c9-4766-8c26-b06cb11cccba",
   "metadata": {},
   "source": [
    "Ans-In Python, a multiprocessing pool is a way to parallelize the execution of a function across multiple input values by distributing the workload among a pool of worker processes. The multiprocessing module provides the Pool class to achieve this.\n",
    "\n",
    "Key Features of multiprocessing.Pool:\n",
    "\n",
    "1.Parallel Execution: The Pool class allows you to parallelize the execution of a function by distributing the input values across multiple worker processes.\n",
    "\n",
    "2.Simplified Parallelization: It provides a high-level interface for parallelization, making it easy to parallelize a function without manually managing individual processes.\n",
    "\n",
    "3.Workload Distribution: The Pool class takes care of distributing the input values (often referred to as a pool of tasks) among the available worker processes.\n",
    "\n",
    "4.Result Collection: The map and apply methods of the Pool class collect the results of function calls and return them in the order in which the corresponding tasks were submitted.\n",
    "\n",
    "Example of Using multiprocessing.Pool:\n",
    "\n",
    "Here's a simple example to demonstrate the use of Pool:"
   ]
  },
  {
   "cell_type": "code",
   "execution_count": 3,
   "id": "3183e5eb-01aa-435e-aecb-31532f1f9bd8",
   "metadata": {},
   "outputs": [
    {
     "name": "stdout",
     "output_type": "stream",
     "text": [
      "Results: [1, 4, 9, 16, 25]\n"
     ]
    }
   ],
   "source": [
    "import multiprocessing\n",
    "\n",
    "def square(number):\n",
    "    return number * number\n",
    "\n",
    "if __name__ == \"__main__\":\n",
    "    # The __name__ == \"__main__\" condition is crucial for cross-platform compatibility\n",
    "\n",
    "    # Create a Pool with 3 worker processes\n",
    "    with multiprocessing.Pool(processes=3) as pool:\n",
    "        # Input values\n",
    "        numbers = [1, 2, 3, 4, 5]\n",
    "\n",
    "        # Use map to apply the square function to each number in parallel\n",
    "        results = pool.map(square, numbers)\n",
    "\n",
    "        print(\"Results:\", results)\n"
   ]
  },
  {
   "cell_type": "markdown",
   "id": "90dbde88-f203-40b0-8145-378c66d057b3",
   "metadata": {},
   "source": [
    "Why Use Multiprocessing Pool:\n",
    "\n",
    "1.Efficient Parallelization: It provides an efficient way to parallelize the execution of a function, especially when dealing with a large number of independent tasks.\n",
    "\n",
    "2.Simplified Code: The Pool class abstracts away the complexity of managing individual processes, making it easier to write parallel code.\n",
    "\n",
    "3.Resource Management: The Pool class automatically manages the distribution of tasks among worker processes, optimizing the use of available resources.\n",
    "\n",
    "4.Result Ordering: The results of function calls are returned in the order in which the corresponding tasks were submitted, simplifying result analysis.\n",
    "\n",
    "5.Convenient API:The Pool class provides a convenient and high-level API for parallelization, reducing the boilerplate code required for multiprocessing.\n",
    "\n",
    "Using a multiprocessing pool is beneficial when dealing with tasks that can be parallelized, such as independent computations on a large dataset, where the workload can be distributed among multiple processes to achieve better performance.  "
   ]
  },
  {
   "cell_type": "markdown",
   "id": "2515e413-c274-499d-8aa6-9edaacd647cb",
   "metadata": {},
   "source": [
    "Q5. How can we create a pool of worker processes in python using the multiprocessing module?"
   ]
  },
  {
   "cell_type": "markdown",
   "id": "c7a163fd-4302-4881-a139-efa436bfc0c2",
   "metadata": {},
   "source": [
    "Ans- To create a pool of worker processes in Python using the multiprocessing module, you can use the Pool class. Here's a step-by-step guide:"
   ]
  },
  {
   "cell_type": "code",
   "execution_count": 4,
   "id": "f2875502-368a-45f1-a302-0aba20fd6a12",
   "metadata": {},
   "outputs": [
    {
     "name": "stdout",
     "output_type": "stream",
     "text": [
      "Results: [1, 4, 9, 16, 25]\n"
     ]
    }
   ],
   "source": [
    "import multiprocessing\n",
    "\n",
    "# Define a function that will be executed by the worker processes\n",
    "def square(number):\n",
    "    return number * number\n",
    "\n",
    "if __name__ == \"__main__\":\n",
    "    # The __name__ == \"__main__\" condition is crucial for cross-platform compatibility\n",
    "\n",
    "    # Create a Pool with a specified number of worker processes\n",
    "    with multiprocessing.Pool(processes=3) as pool:\n",
    "        # Input values for the function\n",
    "        numbers = [1, 2, 3, 4, 5]\n",
    "\n",
    "        # Use the map method to apply the function to each input value in parallel\n",
    "        results = pool.map(square, numbers)\n",
    "\n",
    "        # Print the results\n",
    "        print(\"Results:\", results)\n"
   ]
  },
  {
   "cell_type": "markdown",
   "id": "02308c65-c48b-4b2d-b1e3-d2935a20b133",
   "metadata": {},
   "source": [
    "Explanation:\n",
    "\n",
    "1.Define a Function: Define the function (square in this case) that you want to parallelize. This function will be executed by each worker process.\n",
    "\n",
    "2.Create a Pool: Use the Pool class to create a pool of worker processes. The processes parameter specifies the number of worker processes in the pool.\n",
    "\n",
    "3.Use the Pool: Inside the with block, use the pool to parallelize the execution of the function. In this example, the map method is used. It applies the square function to each element in the numbers list in parallel.\n",
    "\n",
    "4.Results: The results of the function calls are collected and stored in the results variable.\n",
    "\n",
    "5.Cleanup: The with statement is used here, which automatically takes care of cleanup (closing the pool) after the block of code is executed.\n",
    "\n",
    "6.Print Results: Finally, print the results obtained from the parallel execution of the function.\n",
    "\n",
    "\n",
    "In the above output, we see that Each element in the results list corresponds to the squared value of the numbers in the numbers list, calculated in parallel by the worker processes in the pool.\n"
   ]
  },
  {
   "cell_type": "markdown",
   "id": "2e135459-a9e5-4168-b0cb-6cc17028f354",
   "metadata": {},
   "source": [
    "Q6. Write a python program to create 4 processes, each process should print a different number using the multiprocessing module in python."
   ]
  },
  {
   "cell_type": "code",
   "execution_count": 8,
   "id": "b79a32cf-b9bd-4ef0-a0b5-f31e5fffa245",
   "metadata": {},
   "outputs": [
    {
     "name": "stdout",
     "output_type": "stream",
     "text": [
      "Process ID: 9139, Number: 20\n",
      "Process ID: 9140, Number: 30\n",
      "Process ID: 9141, Number: 40\n",
      "Process ID: 9138, Number: 10\n",
      "\n",
      "\n",
      "\n",
      "\n"
     ]
    }
   ],
   "source": [
    "import multiprocessing\n",
    "\n",
    "def print_number(number):\n",
    "    print(f\"Process ID: {multiprocessing.current_process().pid}, Number: {number}\\n\")\n",
    "\n",
    "if __name__ == \"__main__\":\n",
    "    # The __name__ == \"__main__\" condition is crucial for cross-platform compatibility\n",
    "\n",
    "    # Create 4 processes\n",
    "    with multiprocessing.Pool(processes=4) as pool:\n",
    "        # Numbers to be printed\n",
    "        numbers = [10, 20, 30, 40]\n",
    "\n",
    "        # Use the map method to apply the function to each number in parallel\n",
    "        pool.map(print_number, numbers)\n"
   ]
  },
  {
   "cell_type": "code",
   "execution_count": null,
   "id": "3edb3598-c1ac-4e7f-84cf-1dad43f8141e",
   "metadata": {},
   "outputs": [],
   "source": []
  }
 ],
 "metadata": {
  "kernelspec": {
   "display_name": "Python 3 (ipykernel)",
   "language": "python",
   "name": "python3"
  },
  "language_info": {
   "codemirror_mode": {
    "name": "ipython",
    "version": 3
   },
   "file_extension": ".py",
   "mimetype": "text/x-python",
   "name": "python",
   "nbconvert_exporter": "python",
   "pygments_lexer": "ipython3",
   "version": "3.10.8"
  }
 },
 "nbformat": 4,
 "nbformat_minor": 5
}
