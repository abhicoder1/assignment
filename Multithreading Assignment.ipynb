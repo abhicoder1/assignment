{
 "cells": [
  {
   "cell_type": "markdown",
   "id": "a6683569-11f2-4c83-bf32-c0220db1e817",
   "metadata": {},
   "source": [
    "Q1. What is multithreading in python? why is it used? Name the module used to handle threads in python"
   ]
  },
  {
   "cell_type": "markdown",
   "id": "182ac797-76fe-4f5d-94cb-b134078ebe06",
   "metadata": {},
   "source": [
    "Ans-Multithreading is a programming concept where multiple threads (small units of a process) execute independently within a single program. In Python, the threading module is used to create and manage threads. Each thread runs in its own memory space but shares the same resources of the process, such as variables and files. \n",
    "\n",
    "Multithreading is primarily used to achieve concurrent execution and improve the performance of programs, especially in tasks that involve I/O-bound operations.\n",
    "\n",
    "Key points about multithreading in Python:\n",
    "\n",
    "1.Concurrency:\n",
    "\n",
    "Multithreading allows multiple threads to run concurrently, giving the illusion of parallelism. However, due to the Global Interpreter Lock (GIL) in CPython (the reference implementation of Python), true parallel execution is limited, and multithreading is more suitable for I/O-bound tasks.\n",
    "\n",
    "2.I/O-Bound vs. CPU-Bound:\n",
    "\n",
    "Multithreading is particularly useful for I/O-bound tasks, such as reading from or writing to files, network communication, and database operations. For CPU-bound tasks, where the bottleneck is the CPU, multiprocessing (using the multiprocessing module) is often a better choice.\n",
    "\n",
    "3.Threading Module:\n",
    "\n",
    "The threading module in Python provides a way to create and manage threads. It offers a high-level interface to implement multithreading and includes features like thread synchronization, locks, and events.\n",
    "\n",
    "Example using the threading module:\n"
   ]
  },
  {
   "cell_type": "code",
   "execution_count": 1,
   "id": "71d876b3-f37f-400b-88c1-8eee9a0fc77a",
   "metadata": {},
   "outputs": [
    {
     "name": "stdout",
     "output_type": "stream",
     "text": [
      "Thread 1: 0\n",
      "Thread 2: A\n",
      "Thread 1: 1\n",
      "Thread 2: B\n",
      "Thread 1: 2\n",
      "Thread 2: C\n",
      "Thread 1: 3\n",
      "Thread 2: D\n",
      "Thread 1: 4\n",
      "Thread 2: E\n",
      "Main thread exiting.\n"
     ]
    }
   ],
   "source": [
    "import threading\n",
    "import time\n",
    "\n",
    "def print_numbers():\n",
    "    for i in range(5):\n",
    "        time.sleep(1)\n",
    "        print(f\"Thread 1: {i}\")\n",
    "\n",
    "def print_letters():\n",
    "    for letter in 'ABCDE':\n",
    "        time.sleep(1)\n",
    "        print(f\"Thread 2: {letter}\")\n",
    "\n",
    "# Create two threads\n",
    "thread1 = threading.Thread(target=print_numbers)\n",
    "thread2 = threading.Thread(target=print_letters)\n",
    "\n",
    "# Start the threads\n",
    "thread1.start()\n",
    "thread2.start()\n",
    "\n",
    "# Wait for both threads to finish\n",
    "thread1.join()\n",
    "thread2.join()\n",
    "\n",
    "print(\"Main thread exiting.\")\n"
   ]
  },
  {
   "cell_type": "markdown",
   "id": "7ad3bcf7-b344-4537-85f5-bc701ca8a826",
   "metadata": {},
   "source": [
    "In this example, two threads (thread1 and thread2) are created using the Thread class from the threading module. Each thread performs a task independently. The start() method is called to begin the execution of each thread. The join() method is used to wait for both threads to complete before the main thread exits.\n",
    "\n",
    "It's important to note that due to the GIL, true parallel execution is limited in CPython. If you need parallelism and want to take advantage of multiple CPU cores, consider using the multiprocessing module."
   ]
  },
  {
   "cell_type": "markdown",
   "id": "e5cbb0f2-edee-4b4f-94be-0d8fdcff2cd8",
   "metadata": {},
   "source": [
    "Q2.Why threading module used? write the use of the following functions"
   ]
  },
  {
   "cell_type": "markdown",
   "id": "bb0fa7c9-aae4-4c0a-95ed-4b4c17a370c8",
   "metadata": {},
   "source": [
    "1.activeCount()\n",
    "\n",
    "2.currentThread()\n",
    "\n",
    "3.enumerate()"
   ]
  },
  {
   "cell_type": "markdown",
   "id": "b9e78432-50cf-40c7-bb06-4caaa3a9a777",
   "metadata": {},
   "source": [
    "1.activeCount() Function:\n",
    "\n",
    "The activeCount() function is used to get the number of Thread objects that are currently alive. It returns the number of Thread objects that have been created and are still running.\n"
   ]
  },
  {
   "cell_type": "code",
   "execution_count": 3,
   "id": "d950b0e8-c377-42a0-9d77-99c8f6d9b2df",
   "metadata": {},
   "outputs": [
    {
     "name": "stdout",
     "output_type": "stream",
     "text": [
      "Number of active threads: 8\n"
     ]
    },
    {
     "name": "stderr",
     "output_type": "stream",
     "text": [
      "/tmp/ipykernel_2854/732356194.py:16: DeprecationWarning: activeCount() is deprecated, use active_count() instead\n",
      "  active_threads = threading.activeCount()\n"
     ]
    }
   ],
   "source": [
    "import threading\n",
    "\n",
    "# Function to be executed by threads\n",
    "def my_function():\n",
    "    pass\n",
    "\n",
    "# Create multiple threads\n",
    "thread1 = threading.Thread(target=my_function)\n",
    "thread2 = threading.Thread(target=my_function)\n",
    "\n",
    "# Start the threads\n",
    "thread1.start()\n",
    "thread2.start()\n",
    "\n",
    "# Get the number of active threads\n",
    "active_threads = threading.activeCount()\n",
    "print(f\"Number of active threads: {active_threads}\")\n"
   ]
  },
  {
   "cell_type": "markdown",
   "id": "260e3d54-773e-41dd-9a30-544f536c5122",
   "metadata": {},
   "source": [
    "In this example, activeCount() is used to determine the number of active threads in the program."
   ]
  },
  {
   "cell_type": "markdown",
   "id": "413f356a-4cd3-4c9b-8525-2e43c296c721",
   "metadata": {},
   "source": [
    "2.currentThread() Function:\n",
    "\n",
    "The currentThread() function is used to get the current Thread object, i.e., the Thread object corresponding to the caller's thread of control."
   ]
  },
  {
   "cell_type": "code",
   "execution_count": 4,
   "id": "2ac3fa8e-cb46-411b-bbb0-60ad90fcd847",
   "metadata": {},
   "outputs": [
    {
     "name": "stdout",
     "output_type": "stream",
     "text": [
      "Current thread: CustomThread\n"
     ]
    },
    {
     "name": "stderr",
     "output_type": "stream",
     "text": [
      "/tmp/ipykernel_2854/2366065498.py:4: DeprecationWarning: currentThread() is deprecated, use current_thread() instead\n",
      "  current_thread = threading.currentThread()\n"
     ]
    }
   ],
   "source": [
    "import threading\n",
    "\n",
    "def my_function():\n",
    "    current_thread = threading.currentThread()\n",
    "    print(f\"Current thread: {current_thread.name}\")\n",
    "\n",
    "# Create a thread\n",
    "thread = threading.Thread(target=my_function, name=\"CustomThread\")\n",
    "\n",
    "# Start the thread\n",
    "thread.start()\n"
   ]
  },
  {
   "cell_type": "markdown",
   "id": "f812ced5-da0c-405c-ac78-b516b22ef8bf",
   "metadata": {},
   "source": [
    "This example creates a thread using the Thread class and then uses currentThread() to get information about the currently executing thread."
   ]
  },
  {
   "cell_type": "markdown",
   "id": "9a3428ab-ea00-4afd-9da5-75e455817b00",
   "metadata": {},
   "source": [
    "3.enumerate() Function:\n",
    "\n",
    "The enumerate() function returns a list of all Thread objects currently alive. The list includes the current thread and all active threads spawned by the program.\n"
   ]
  },
  {
   "cell_type": "code",
   "execution_count": 5,
   "id": "6968ac89-2f03-4294-b0e7-d500db1d8cac",
   "metadata": {},
   "outputs": [
    {
     "name": "stdout",
     "output_type": "stream",
     "text": [
      "Active threads: [<_MainThread(MainThread, started 140591599175488)>, <Thread(IOPub, started daemon 140591459464768)>, <Heartbeat(Heartbeat, started daemon 140591451072064)>, <Thread(Thread-3 (_watch_pipe_fd), started daemon 140591425893952)>, <Thread(Thread-4 (_watch_pipe_fd), started daemon 140591417501248)>, <ControlThread(Control, started daemon 140591409108544)>, <HistorySavingThread(IPythonHistorySavingThread, started 140591056811584)>, <ParentPollerUnix(Thread-2, started daemon 140591048418880)>]\n"
     ]
    }
   ],
   "source": [
    "import threading\n",
    "\n",
    "def my_function():\n",
    "    pass\n",
    "\n",
    "# Create multiple threads\n",
    "thread1 = threading.Thread(target=my_function)\n",
    "thread2 = threading.Thread(target=my_function)\n",
    "\n",
    "# Start the threads\n",
    "thread1.start()\n",
    "thread2.start()\n",
    "\n",
    "# Enumerate all active threads\n",
    "thread_list = threading.enumerate()\n",
    "print(f\"Active threads: {thread_list}\")\n"
   ]
  },
  {
   "cell_type": "markdown",
   "id": "60c7777a-c94e-4b9b-b7d3-3dd133580fe3",
   "metadata": {},
   "source": [
    "In this example, enumerate() is used to get a list of all active threads.\n",
    "\n",
    "These functions (activeCount(), currentThread(), and enumerate()) are useful for obtaining information about the current state of threading in a Python program. They provide insights into the number of active threads, the current thread, and a list of all active threads, respectively"
   ]
  },
  {
   "cell_type": "markdown",
   "id": "9be5d87f-8906-4a92-ada4-1559c6ccbe77",
   "metadata": {},
   "source": [
    "Q3. Explain the following functions:"
   ]
  },
  {
   "cell_type": "markdown",
   "id": "39e3aea4-3e72-4dba-9747-f54cbc54671e",
   "metadata": {},
   "source": [
    "1.run()\n",
    "\n",
    "2.start()\n",
    "\n",
    "3.join()\n",
    "\n",
    "4.isAlive()"
   ]
  },
  {
   "cell_type": "markdown",
   "id": "87355938-e1fb-42b5-af42-dfb827ad61f7",
   "metadata": {},
   "source": [
    "Ans- 1. run() Method:\n",
    "\n",
    "The run() method is the entry point for the thread's activity. When a Thread object is created, you can override the run() method to define the code that will be executed when the thread is started using the start() method. The run() method contains the code that constitutes the new thread's activity."
   ]
  },
  {
   "cell_type": "code",
   "execution_count": 6,
   "id": "5d6725b3-c970-4247-a902-add62e9b2dc4",
   "metadata": {},
   "outputs": [
    {
     "name": "stdout",
     "output_type": "stream",
     "text": [
      "Thread is running\n"
     ]
    }
   ],
   "source": [
    "import threading\n",
    "\n",
    "class MyThread(threading.Thread):\n",
    "    def run(self):\n",
    "        print(\"Thread is running\")\n",
    "\n",
    "# Create an instance of MyThread\n",
    "my_thread = MyThread()\n",
    "\n",
    "# Call the run method (not recommended for threading, use start instead)\n",
    "my_thread.run()\n"
   ]
  },
  {
   "cell_type": "markdown",
   "id": "73dec537-b8e1-4b92-997e-ac1d54697694",
   "metadata": {},
   "source": [
    "It's worth noting that directly calling run() does not start a new thread. To initiate the execution of the run() method in a separate thread, you should use the start() method."
   ]
  },
  {
   "cell_type": "markdown",
   "id": "d4f6213f-40db-4fa8-a66f-a09600f09eef",
   "metadata": {},
   "source": [
    "2.start() Method:\n",
    "\n",
    "The start() method is used to begin the execution of the thread. When you call start(), it invokes the run() method in a new thread of control. This is the proper way to initiate the execution of a thread."
   ]
  },
  {
   "cell_type": "code",
   "execution_count": 7,
   "id": "9c6e1e4f-8dd3-4452-a14c-6760caa50b8f",
   "metadata": {},
   "outputs": [
    {
     "name": "stdout",
     "output_type": "stream",
     "text": [
      "Thread is running\n"
     ]
    }
   ],
   "source": [
    "import threading\n",
    "\n",
    "class MyThread(threading.Thread):\n",
    "    def run(self):\n",
    "        print(\"Thread is running\")\n",
    "\n",
    "# Create an instance of MyThread and start the thread\n",
    "my_thread = MyThread()\n",
    "my_thread.start()\n"
   ]
  },
  {
   "cell_type": "markdown",
   "id": "9cdcccd8-0d3c-43c8-b19c-bc5d33226af3",
   "metadata": {},
   "source": [
    "Using start() ensures that the run() method is executed concurrently in a separate thread."
   ]
  },
  {
   "cell_type": "markdown",
   "id": "8b3ecd44-fedc-4852-8e19-a6247fe5cd21",
   "metadata": {},
   "source": [
    "3.join() Method:\n",
    "\n",
    "The join() method is used to wait for the thread to complete its execution before moving on. If you call join() on a thread, the program will block until that thread has finished its execution. The optional timeout parameter specifies the maximum time the join() method should wait for the thread to finish."
   ]
  },
  {
   "cell_type": "code",
   "execution_count": 8,
   "id": "06d4a388-83a3-4ca8-8a36-ef07081d8cc1",
   "metadata": {},
   "outputs": [
    {
     "name": "stdout",
     "output_type": "stream",
     "text": [
      "Worker thread finished\n",
      "Main thread exiting\n"
     ]
    }
   ],
   "source": [
    "import threading\n",
    "import time\n",
    "\n",
    "def worker():\n",
    "    time.sleep(2)\n",
    "    print(\"Worker thread finished\")\n",
    "\n",
    "# Create a thread\n",
    "my_thread = threading.Thread(target=worker)\n",
    "\n",
    "# Start the thread\n",
    "my_thread.start()\n",
    "\n",
    "# Wait for the thread to finish before proceeding\n",
    "my_thread.join()\n",
    "print(\"Main thread exiting\")\n"
   ]
  },
  {
   "cell_type": "markdown",
   "id": "c5bd78de-ecd2-4cbb-8f2b-16400c994551",
   "metadata": {},
   "source": [
    "In this example, the main thread waits for my_thread to finish before proceeding with the next steps."
   ]
  },
  {
   "cell_type": "markdown",
   "id": "bb587eb0-c675-4fd0-a8ad-22379fc9ca54",
   "metadata": {},
   "source": [
    "4.isAlive() Method:\n",
    "\n",
    "The isAlive() method is used to check whether the thread is currently executing (True) or has finished executing (False)."
   ]
  },
  {
   "cell_type": "code",
   "execution_count": 13,
   "id": "80777b3f-4c70-4dc0-860c-95ab47968569",
   "metadata": {},
   "outputs": [
    {
     "name": "stdout",
     "output_type": "stream",
     "text": [
      "Thread is still alive\n",
      "Thread is still alive\n",
      "Thread has finished\n"
     ]
    }
   ],
   "source": [
    "import threading\n",
    "import time\n",
    "\n",
    "def worker():\n",
    "    time.sleep(2)\n",
    "\n",
    "# Create a thread\n",
    "my_thread = threading.Thread(target=worker)\n",
    "\n",
    "# Start the thread\n",
    "my_thread.start()\n",
    "\n",
    "# Check if the thread is alive\n",
    "while my_thread.is_alive():  # Use is_alive() instead of isAlive()\n",
    "    print(\"Thread is still alive\")\n",
    "    time.sleep(1)\n",
    "\n",
    "print(\"Thread has finished\")\n"
   ]
  },
  {
   "cell_type": "markdown",
   "id": "5831129a-20c6-47d7-9edf-f047457d1e54",
   "metadata": {},
   "source": [
    "This example demonstrates how to use isAlive() to check if a thread is still running.\n",
    "\n",
    "These functions play a crucial role in managing the lifecycle of threads, from initiating their execution (start()), waiting for their completion (join()), checking their status (isAlive()), to defining their main activity (run())."
   ]
  },
  {
   "cell_type": "markdown",
   "id": "45972bc8-3603-4742-a962-63d8fbac6917",
   "metadata": {},
   "source": [
    "Q4.write a python program to create two threads. Thread one must print the list of squares and thread two must print the list of cubes."
   ]
  },
  {
   "cell_type": "code",
   "execution_count": 15,
   "id": "3882c26b-f4d5-42fd-9ace-1900463f1e38",
   "metadata": {},
   "outputs": [
    {
     "name": "stdout",
     "output_type": "stream",
     "text": [
      "Square of 1: 1\n",
      "Square of 2: 4\n",
      "Square of 3: 9\n",
      "Square of 4: 16\n",
      "Square of 5: 25\n",
      "Cube of 1: 1\n",
      "Cube of 2: 8\n",
      "Cube of 3: 27\n",
      "Cube of 4: 64\n",
      "Cube of 5: 125\n",
      "Main thread exiting.\n"
     ]
    }
   ],
   "source": [
    "import threading\n",
    "\n",
    "def print_squares():\n",
    "    for i in range(1, 6):\n",
    "        print(f\"Square of {i}: {i*i}\")\n",
    "\n",
    "def print_cubes():\n",
    "    for i in range(1, 6):\n",
    "        print(f\"Cube of {i}: {i*i*i}\")\n",
    "\n",
    "# Create two threads\n",
    "thread_squares = threading.Thread(target=print_squares)\n",
    "thread_cubes = threading.Thread(target=print_cubes)\n",
    "\n",
    "# Start the threads\n",
    "thread_squares.start()\n",
    "thread_cubes.start()\n",
    "\n",
    "# Wait for both threads to finish\n",
    "thread_squares.join()\n",
    "thread_cubes.join()\n",
    "\n",
    "print(\"Main thread exiting.\")\n"
   ]
  },
  {
   "cell_type": "markdown",
   "id": "d1b32cdc-a19d-4cd3-ab3a-2bdf18695f5c",
   "metadata": {},
   "source": [
    "Q5. State advantages and disadvantages of multithreading"
   ]
  },
  {
   "cell_type": "markdown",
   "id": "6658c0b2-67df-457c-a8a8-5d8551b31a8a",
   "metadata": {},
   "source": [
    "Ans- Advantages of Multithreading:\n",
    "\n",
    "1.Concurrency:\n",
    "\n",
    "Multithreading allows multiple threads to run concurrently, enabling parallel execution of tasks. This can result in improved performance and responsiveness, especially in applications with I/O-bound operations.\n",
    "\n",
    "2.Responsiveness:\n",
    "\n",
    "In graphical user interfaces (GUIs) and interactive applications, multithreading helps maintain responsiveness. User interactions can be handled in a separate thread, ensuring that the main thread remains responsive to user input.\n",
    "\n",
    "3.Resource Sharing:\n",
    "\n",
    "Threads share the same address space, allowing them to access shared data and resources easily. This facilitates communication and data exchange between threads.\n",
    "\n",
    "4.Resource Utilization:\n",
    "\n",
    "Multithreading can make better use of multiple CPU cores, optimizing resource utilization and enhancing the overall efficiency of the system.\n",
    "\n",
    "5.Modularity:\n",
    "\n",
    "Dividing a complex task into smaller threads promotes modularity. Each thread can be responsible for a specific aspect of the overall functionality, making the code easier to understand and maintain.\n",
    "\n",
    "6.Faster Task Execution:\n",
    "\n",
    "Tasks that can be parallelized can be executed more quickly by dividing the workload among multiple threads.\n",
    "\n",
    "\n",
    "Disadvantages of Multithreading:\n",
    "\n",
    "1.Complexity and Debugging:\n",
    "\n",
    "Multithreaded programs are often more complex than single-threaded ones. Coordinating threads and managing shared resources can introduce synchronization and communication challenges, making debugging more difficult.\n",
    "\n",
    "2.Race Conditions:\n",
    "\n",
    "Concurrent access to shared data can lead to race conditions, where the outcome of an operation depends on the timing or order of thread execution. Race conditions can result in unpredictable behavior and bugs that are hard to detect.\n",
    "\n",
    "3.Deadlocks:\n",
    "\n",
    "Deadlocks can occur when two or more threads are blocked forever, waiting for each other to release resources. Designing and maintaining proper synchronization mechanisms is crucial to avoiding deadlocks.\n",
    "\n",
    "4.Increased Resource Consumption:\n",
    "\n",
    "Threads consume additional resources, such as memory for thread stacks and synchronization constructs. In some cases, the overhead associated with creating and managing threads may outweigh the benefits.\n",
    "\n",
    "5.Difficulty in Reproducibility:\n",
    "\n",
    "Multithreading can introduce non-deterministic behavior due to the unpredictable scheduling of threads by the operating system. This can make it challenging to reproduce and debug certain issues.\n",
    "\n",
    "6.Global Interpreter Lock (GIL):\n",
    "\n",
    "In the CPython implementation of Python, the Global Interpreter Lock (GIL) limits the execution of multiple threads in parallel. This can restrict the full utilization of multicore processors in CPU-bound tasks, making multithreading less effective for certain workloads.\n"
   ]
  },
  {
   "cell_type": "markdown",
   "id": "3c08fbcc-f3ee-4255-9dbb-16e1358b959b",
   "metadata": {},
   "source": [
    "Q6. Explain deadlocks and race conditions."
   ]
  },
  {
   "cell_type": "markdown",
   "id": "d0c09725-de7f-4477-a4da-88b479a6d3e4",
   "metadata": {},
   "source": [
    "Ans- Deadlocks:\n",
    "\n",
    "A deadlock is a situation in multithreading or multiprocessing where two or more threads or processes cannot proceed because each is waiting for the other to release a resource. In other words, each thread or process holds a resource and is waiting to acquire a resource held by another, resulting in a cyclic dependency.\n",
    "\n",
    "Key conditions for a deadlock to occur (known as the Coffman conditions):\n",
    "\n",
    "1.Mutual Exclusion: At least one resource must be held in a non-sharable mode, meaning only one thread or process can use it at a time.\n",
    "\n",
    "2.Hold and Wait: A thread holds one resource and is waiting to acquire another.\n",
    "\n",
    "3.No Preemption: Resources cannot be forcibly taken away from a thread; they must be released voluntarily.\n",
    "\n",
    "4.Circular Wait: There exists a circular chain of two or more threads, each waiting for a resource held by the next one in the chain.\n",
    "\n",
    "Consider a scenario with two resources, A and B, and two threads, Thread 1 and Thread 2:\n",
    "\n",
    "Thread 1 acquires resource A and waits for resource B.\n",
    "Thread 2 acquires resource B and waits for resource A.\n",
    "In this case, both threads are waiting for a resource held by the other, creating a deadlock. Deadlocks are challenging to detect and resolve, and they can lead to a complete system freeze if not addressed.\n",
    "\n",
    "\n",
    "Race Conditions:\n",
    "\n",
    "A race condition occurs in a multithreaded or multiprocess environment when the behavior of a program depends on the relative timing of events. It arises when two or more threads or processes access shared data concurrently, and the final outcome depends on the order of execution.\n",
    "\n",
    "Race conditions often lead to unpredictable and undesirable results, as threads may interfere with each other's operations. \n",
    "\n",
    "The primary causes of race conditions are:\n",
    "\n",
    "1.Shared Data Access: When multiple threads access shared data concurrently without proper synchronization mechanisms, race conditions can occur.\n",
    "\n",
    "2.Non-Atomic Operations: Operations that are not atomic (indivisible) and involve multiple steps can be interrupted by other threads, leading to unexpected outcomes.\n",
    "\n"
   ]
  }
 ],
 "metadata": {
  "kernelspec": {
   "display_name": "Python 3 (ipykernel)",
   "language": "python",
   "name": "python3"
  },
  "language_info": {
   "codemirror_mode": {
    "name": "ipython",
    "version": 3
   },
   "file_extension": ".py",
   "mimetype": "text/x-python",
   "name": "python",
   "nbconvert_exporter": "python",
   "pygments_lexer": "ipython3",
   "version": "3.10.8"
  }
 },
 "nbformat": 4,
 "nbformat_minor": 5
}
