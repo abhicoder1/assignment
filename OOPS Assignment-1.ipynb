{
 "cells": [
  {
   "cell_type": "markdown",
   "id": "97999c9e-1c21-4c85-b6e3-76fef0202a88",
   "metadata": {},
   "source": [
    "Q1. Explain Class and Object with respect to Object-Oriented Programming. Give a suitable example."
   ]
  },
  {
   "cell_type": "markdown",
   "id": "a4c4e5e9-5732-46a0-b445-14a447551ee2",
   "metadata": {},
   "source": [
    "Ans- In Object-Oriented Programming (OOP), a class and an object are fundamental concepts used to create and define the structure of a program. OOP is a programming paradigm that focuses on organizing code into reusable, self-contained units called objects.\n",
    "\n",
    "1.Class: A class is a blueprint or a template for creating objects. It defines the properties (attributes) and behaviors (methods) that objects of that class will have.\n",
    "In the real world, a class could be thought of as a blueprint for a car, with specifications for its size, color, engine type, and functions like accelerating, braking, etc.\n",
    "\n",
    "2.Object:An object is an instance of a class. It is a concrete representation of the class, created using the blueprint provided by the class. Each object has its own unique data (attributes) and can perform actions (methods) as defined in the class. Objects allow us to work with specific instances of the class and interact with their data and behavior.\n",
    "Using the car example, an object would be an actual car created based on the car blueprint (class). You can have multiple instances of cars, each with its own unique features, but all sharing the same properties and behaviors defined in the class.\n",
    "\n",
    "Example:"
   ]
  },
  {
   "cell_type": "code",
   "execution_count": 4,
   "id": "ffc6a253-e89b-48a4-a355-8d9dcbccd860",
   "metadata": {},
   "outputs": [
    {
     "name": "stdout",
     "output_type": "stream",
     "text": [
      "Rectangle 1: Area = 50, Perimeter = 30\n",
      "Rectangle 2: Area = 54, Perimeter = 30\n"
     ]
    }
   ],
   "source": [
    "class Rectangle:\n",
    "    def __init__(self, length, width):\n",
    "        self.length = length\n",
    "        self.width = width\n",
    "\n",
    "    def calculate_area(self):\n",
    "        return self.length * self.width\n",
    "\n",
    "    def calculate_perimeter(self):\n",
    "        return 2 * (self.length + self.width)\n",
    "\n",
    "# Create objects (instances) of the Rectangle class\n",
    "rectangle1 = Rectangle(5, 10)\n",
    "rectangle2 = Rectangle(6, 9)\n",
    "\n",
    "# Calculate and display information about the rectangles\n",
    "print(f\"Rectangle 1: Area = {rectangle1.calculate_area()}, Perimeter = {rectangle1.calculate_perimeter()}\")\n",
    "print(f\"Rectangle 2: Area = {rectangle2.calculate_area()}, Perimeter = {rectangle2.calculate_perimeter()}\")\n"
   ]
  },
  {
   "cell_type": "markdown",
   "id": "552f2d08-38a7-4fcb-971b-279a61a431f9",
   "metadata": {},
   "source": []
  },
  {
   "cell_type": "markdown",
   "id": "4d892ef1-2a6e-40c8-b178-b3bcfc08cb69",
   "metadata": {},
   "source": [
    "Q2. Name the four pillars of OOPs."
   ]
  },
  {
   "cell_type": "markdown",
   "id": "e1ff3747-2077-48bc-975f-7bbc09c46cde",
   "metadata": {},
   "source": [
    "Ans- The four pillars of Object-Oriented Programming (OOP) are:\n",
    "\n",
    "1.Encapsulation: Encapsulation refers to the bundling of data (attributes) and methods (functions) that operate on the data within a single unit, called a class. It allows the class to control the access and visibility of its internal components, providing data protection and reducing interference from external code. By encapsulating data, you can ensure that it is accessed and modified only through well-defined methods, which helps maintain data integrity and improves code organization.\n",
    "\n",
    "In Python,The attributes are usually marked as private using conventions like adding a double underscore before their names (e.g., self.__attribute). This convention indicates that the attribute should not be accessed directly from outside the class, promoting data protection. Public methods (accessible from outside the class) are used to interact with the private attributes, ensuring controlled access and modification.\n",
    "\n",
    "2.Abstraction is the process of simplifying complex systems by breaking them down into more manageable and understandable components. In OOP, abstraction allows you to create classes that represent real-world entities or concepts and define their essential characteristics and behaviors while hiding the unnecessary implementation details. This enables developers to work with high-level, abstracted classes without needing to know the underlying complexities.\n",
    "\n",
    "3.Inheritance: Inheritance is a mechanism that allows a class (called the subclass or derived class) to inherit properties (attributes and methods) from another class (called the superclass or base class). It promotes code reusability and hierarchical organization of classes. Subclasses can extend or override the functionality of the superclass, providing a way to model specialized or more specific behavior without duplicating code.\n",
    "\n",
    "In Python, you can specify the superclass inside the parentheses when defining a class to indicate that it inherits from that class (e.g., class SubClass(SuperClass):). Inherited attributes and methods can be accessed and used directly from the subclass.\n",
    "\n",
    "4.Polymorphism: Polymorphism allows objects of different classes to be treated as objects of a common base class. It enables a single interface to represent multiple forms or types of objects. Polymorphism is achieved through method overriding (dynamic polymorphism) or method overloading (static polymorphism). Method overriding allows a subclass to provide its own implementation of a method defined in the superclass, while method overloading enables a class to have multiple methods with the same name but different parameter lists."
   ]
  },
  {
   "cell_type": "markdown",
   "id": "56af2023-6c19-4a71-aa2b-49ad3d3871c2",
   "metadata": {},
   "source": []
  },
  {
   "cell_type": "markdown",
   "id": "afe138a9-da84-4689-badd-0cb5e84bd1e5",
   "metadata": {},
   "source": [
    "Q3. Explain why the __init__() function is used. Give a suitable example."
   ]
  },
  {
   "cell_type": "markdown",
   "id": "d3fbb643-32e4-453f-8e72-45c006fd75c2",
   "metadata": {},
   "source": [
    "Ans-The __init__() function is a special method in Python classes, often called the constructor. It is automatically called when you create an object (instance) of a class. The primary purpose of the __init__() function is to initialize the attributes of the object and perform any setup or configuration that is necessary before the object can be used.\n",
    "\n",
    "Here are a few reasons why the __init__() function is used:\n",
    "\n",
    "1.Attribute Initialization: The __init__() function allows you to set initial values for the attributes of the object. When an object is created, it's common to have certain attributes with default values that you want to initialize right away. This ensures that the object starts in a consistent and usable state.\n",
    "\n",
    "2.Object Setup: The __init__() function provides a convenient place to perform any setup or configuration that is required before the object can be used. For example, you can open a file, establish a network connection, or initialize external resources when the object is created.\n",
    "\n",
    "3.Parameterized Object Creation: By accepting parameters in the __init__() function, you can customize the object's initial state based on the values provided during object creation. This allows you to create objects with different initial configurations, making your code more flexible.\n",
    "\n",
    "Example:"
   ]
  },
  {
   "cell_type": "code",
   "execution_count": 5,
   "id": "3f9c7790-db78-40c0-a957-b17e68dc1ea7",
   "metadata": {},
   "outputs": [
    {
     "name": "stdout",
     "output_type": "stream",
     "text": [
      "Hello, my name is Abhinav\n"
     ]
    }
   ],
   "source": [
    "# A Sample class with init method\n",
    "class Person:\n",
    "\n",
    "\t# init method or constructor\n",
    "\tdef __init__(self, name):\n",
    "\t\tself.name = name\n",
    "\n",
    "\n",
    "\tdef say_hi(self):\n",
    "\t\tprint('Hello, my name is', self.name)\n",
    "\n",
    "\n",
    "p = Person('Abhinav')\n",
    "p.say_hi()\n"
   ]
  },
  {
   "cell_type": "markdown",
   "id": "5029d8d7-c569-4db5-b55a-4b4e625fd5b0",
   "metadata": {},
   "source": []
  },
  {
   "cell_type": "markdown",
   "id": "d7090805-dddd-4fec-a91e-87fca6d7555d",
   "metadata": {},
   "source": [
    "Q4. Why self is used in OOPs?"
   ]
  },
  {
   "cell_type": "markdown",
   "id": "4d18f8eb-8c3e-4df4-8d9a-96063bc471e4",
   "metadata": {},
   "source": [
    "Ans- In Object-Oriented Programming (OOP), self is used as a reference to the instance of the class. It is a special parameter that allows methods (functions) within a class to access and modify the object's attributes and call other methods on the same object. The use of self is essential for proper interaction and data manipulation within the class.\n",
    "\n",
    "Here are the main reasons why self is used in OOP:\n",
    "\n",
    "1.Instance Scope: When you create an object (instance) of a class, the attributes and methods defined in the class belong to that specific instance. self helps differentiate between the attributes of different instances and ensures that each object operates independently.\n",
    "\n",
    "2.Attribute Access: By using self, methods within the class can access and modify the object's attributes. When you use self.attribute_name, you're referring to the attribute of the specific instance. This allows each object to maintain its unique data and state.\n",
    "\n",
    "3.Method Invocation: When calling a method on an object, Python automatically passes the object as the first argument to the method. By using self as the first parameter in the method definition, you can access other methods and attributes within the class without explicitly passing the object each time.\n",
    "\n",
    "4.Code Clarity: Using self makes the code more readable and clear, as it explicitly indicates that the method or attribute belongs to the object itself. It helps developers understand that they are working with instance-specific data.\n",
    "\n",
    "Example:"
   ]
  },
  {
   "cell_type": "code",
   "execution_count": 7,
   "id": "93fed621-513f-4265-a2e2-ea036c808ff6",
   "metadata": {},
   "outputs": [
    {
     "name": "stdout",
     "output_type": "stream",
     "text": [
      "Hello, my name is Abhinav\n",
      "Hello, my name is Gaurav\n",
      "Hello, my name is Anjali\n"
     ]
    }
   ],
   "source": [
    "# A Sample class with init method\n",
    "class Person:\n",
    "\n",
    "\t# init method or constructor\n",
    "\tdef __init__(self, name):\n",
    "\t\tself.name = name\n",
    "\n",
    "\t\n",
    "\tdef say_hi(self):\n",
    "\t\tprint('Hello, my name is', self.name)\n",
    "\n",
    "\n",
    "p = Person('Abhinav')\n",
    "p.say_hi()\n",
    "\n",
    "j = Person('Gaurav')\n",
    "j.say_hi()     \n",
    "\n",
    "k = Person('Anjali')\n",
    "k.say_hi()     \n"
   ]
  },
  {
   "cell_type": "markdown",
   "id": "c5898e90-021a-4f44-9e88-5aabbefaa1e3",
   "metadata": {},
   "source": []
  },
  {
   "cell_type": "markdown",
   "id": "6ccbd92e-595f-4991-b6f2-482aec0bcf2d",
   "metadata": {},
   "source": [
    "Q5. What is inheritance? Give an example for each type of inheritance."
   ]
  },
  {
   "cell_type": "markdown",
   "id": "85ae0bea-9d49-4a94-8c5b-a0448e10c983",
   "metadata": {},
   "source": [
    "Ans- Inheritance is a fundamental concept in Object-Oriented Programming (OOP) that allows one class (called the subclass or derived class) to acquire properties (attributes and methods) from another class (called the superclass or base class). The subclass inherits the characteristics of the superclass, which promotes code reusability and hierarchical organization of classes. Inheritance allows you to model a more specialized or specific class based on an existing class, without having to rewrite the common features.\n",
    "\n",
    "There are several types of inheritance in OOP:\n",
    "\n",
    "1.Single Inheritance: In single inheritance, a subclass inherits from a single superclass. This is the most common type of inheritance. The subclass acquires all the attributes and methods of the superclass.\n",
    "Example:"
   ]
  },
  {
   "cell_type": "code",
   "execution_count": 8,
   "id": "aa9e5b3b-3dbf-48e0-8278-2f59e3575754",
   "metadata": {},
   "outputs": [
    {
     "name": "stdout",
     "output_type": "stream",
     "text": [
      "Cairo\n",
      "Woof! Woof!\n"
     ]
    }
   ],
   "source": [
    "# Base class (superclass)\n",
    "class Animal:\n",
    "    def __init__(self, name):\n",
    "        self.name = name\n",
    "\n",
    "    def make_sound(self):\n",
    "        pass\n",
    "\n",
    "# Derived class (subclass) inheriting from Animal\n",
    "class Dog(Animal):\n",
    "    def make_sound(self):\n",
    "        return \"Woof! Woof!\"\n",
    "\n",
    "# Create an instance of the Dog class\n",
    "dog1 = Dog(\"Cairo\")\n",
    "print(dog1.name)          # Output: Buddy\n",
    "print(dog1.make_sound())  # Output: Woof! Woof!\n"
   ]
  },
  {
   "cell_type": "markdown",
   "id": "d5fdbec3-095e-4e71-800f-04fba63db326",
   "metadata": {},
   "source": [
    "2.Multiple Inheritance: Multiple inheritance is a powerful feature in object-oriented programming that allows a class to inherit attributes and methods from multiple parent classes. This can be useful in situations where a class needs to inherit functionality from multiple sources.\n",
    "Example:"
   ]
  },
  {
   "cell_type": "code",
   "execution_count": 9,
   "id": "8813e740-6dac-43be-95fc-899ce195875b",
   "metadata": {},
   "outputs": [
    {
     "name": "stdout",
     "output_type": "stream",
     "text": [
      "I can fly!\n",
      "I can feed my young!\n"
     ]
    }
   ],
   "source": [
    "# Base class (superclass)\n",
    "class Bird:\n",
    "    def fly(self):\n",
    "        return \"I can fly!\"\n",
    "\n",
    "# Another Base class (superclass)\n",
    "class Mammal:\n",
    "    def feed_young(self):\n",
    "        return \"I can feed my young!\"\n",
    "\n",
    "# Derived class (subclass) inheriting from Bird and Mammal\n",
    "class Bat(Bird, Mammal):\n",
    "    pass\n",
    "\n",
    "# Create an instance of the Bat class\n",
    "bat1 = Bat()\n",
    "print(bat1.fly())            # Output: I can fly!\n",
    "print(bat1.feed_young())     # Output: I can feed my young!\n"
   ]
  },
  {
   "cell_type": "markdown",
   "id": "cbb5fcc1-5497-4fa4-8ad8-84dc7a44b123",
   "metadata": {},
   "source": [
    "3.Multi-level Inheritance: Multilevel inheritance is a type of inheritance in object-oriented programming where a derived class inherits from another derived class. This type of inheritance allows you to build a hierarchy of classes where one class builds upon another, leading to a more specialized class.\n",
    "\n",
    "In Python, multilevel inheritance is achieved by using the class hierarchy. The syntax for multilevel inheritance is quite simple and follows the same syntax as single inheritance.\n",
    "\n",
    "Syntax:\n",
    "class BaseClass:\n",
    "    # Base class code\n",
    "    \n",
    "class DerivedClass1(BaseClass):\n",
    "    # Derived class 1 code\n",
    "    \n",
    "class DerivedClass2(DerivedClass1):\n",
    "    # Derived class 2 code\n",
    "    \n",
    "Example:"
   ]
  },
  {
   "cell_type": "code",
   "execution_count": 10,
   "id": "3e5cc817-0421-461f-8ee6-42b663c7de89",
   "metadata": {},
   "outputs": [
    {
     "name": "stdout",
     "output_type": "stream",
     "text": [
      "Buddy\n",
      "Woof! Woof!\n"
     ]
    }
   ],
   "source": [
    "# Base class (superclass)\n",
    "class Animal:\n",
    "    def __init__(self, name):\n",
    "        self.name = name\n",
    "\n",
    "# Derived class (subclass) inheriting from Animal\n",
    "class Mammal(Animal):\n",
    "    def make_sound(self):\n",
    "        pass\n",
    "\n",
    "# Derived class (subclass) inheriting from Mammal\n",
    "class Dog(Mammal):\n",
    "    def make_sound(self):\n",
    "        return \"Woof! Woof!\"\n",
    "\n",
    "# Create an instance of the Dog class\n",
    "dog1 = Dog(\"Cairo\")\n",
    "print(dog1.name)          # Output: Buddy\n",
    "print(dog1.make_sound())  # Output: Woof! Woof!\n"
   ]
  },
  {
   "cell_type": "markdown",
   "id": "33ce9840-2cc5-4a31-8750-480716e084e2",
   "metadata": {},
   "source": [
    "4.Hierarchical Inheritance: When more than one derived class are created from a single base,this type of inheritance is called hierarchical inheritance. In this program, we have a parent (base) class and two child (derived) classes.\n",
    "Example:"
   ]
  },
  {
   "cell_type": "code",
   "execution_count": 14,
   "id": "03ba4159-2186-4519-b634-767808e6d0fa",
   "metadata": {},
   "outputs": [
    {
     "name": "stdout",
     "output_type": "stream",
     "text": [
      "In Class A\n",
      "In Class B\n",
      "In Class A\n",
      "In Class C\n",
      "In Class A\n",
      "In Class D\n"
     ]
    }
   ],
   "source": [
    " class ClassA:\n",
    "    def display(self):\n",
    "        print('In Class A')\n",
    "\n",
    "class ClassB(ClassA):\n",
    "    def display(self):\n",
    "        ClassA.display(self)\n",
    "        print('In Class B')\n",
    "\n",
    "class ClassC(ClassA):\n",
    "    def display(self):\n",
    "        ClassA.display(self)\n",
    "        print('In Class C')\n",
    "\n",
    "class ClassD(ClassA):\n",
    "    def display(self):\n",
    "        ClassA.display(self)\n",
    "        print('In Class D')\n",
    "\n",
    "\n",
    "x = ClassB()\n",
    "y = ClassC()\n",
    "z = ClassD()\n",
    "x.display()\n",
    "y.display()\n",
    "z.display()"
   ]
  },
  {
   "cell_type": "markdown",
   "id": "4f7d68de-d4dc-44e4-a0d6-dcc0019d3028",
   "metadata": {},
   "source": [
    "5.Hybrid Inheritance:Hybrid inheritance is a combination of multiple inheritance and single inheritance in object-oriented programming. It is a type of inheritance in which multiple inheritance is used to inherit the properties of multiple base classes into a single derived class, and single inheritance is used to inherit the properties of the derived class into a sub-derived class.\n",
    "\n",
    "In Python, hybrid inheritance can be implemented by creating a class hierarchy, in which a base class is inherited by multiple derived classes, and one of the derived classes is further inherited by a sub-derived class.\n",
    "Syntax:\n",
    "class BaseClass1:\n",
    "  # attributes and methods\n",
    "\n",
    "class BaseClass2:\n",
    "  # attributes and methods\n",
    "\n",
    "class DerivedClass(BaseClass1, BaseClass2):\n",
    "  # attributes and methods\n",
    "  \n",
    "Example:"
   ]
  },
  {
   "cell_type": "code",
   "execution_count": 2,
   "id": "1be2934f-6a2f-495b-8987-e3b9a91902db",
   "metadata": {},
   "outputs": [],
   "source": [
    "class Human:\n",
    "  def __init__(self, name, age):\n",
    "    self.name = name\n",
    "    self.age = age\n",
    "    \n",
    "  def show_details(self):\n",
    "    print(\"Name:\", self.name)\n",
    "    print(\"Age:\", self.age)\n",
    "    \n",
    "class Person(Human):\n",
    "  def __init__(self, name, age, address):\n",
    "    Human.__init__(self, name, age)\n",
    "    self.address = address\n",
    "    \n",
    "  def show_details(self):\n",
    "    Human.show_details(self)\n",
    "    print(\"Address:\", self.address)\n",
    "    \n",
    "class Program:\n",
    "  def __init__(self, program_name, duration):\n",
    "    self.program_name = program_name\n",
    "    self.duration = duration\n",
    "    \n",
    "  def show_details(self):\n",
    "    print(\"Program Name:\", self.program_name)\n",
    "    print(\"Duration:\", self.duration)\n",
    "    \n",
    "class Student(Person):\n",
    "  def __init__(self, name, age, address, program):\n",
    "    Person.__init__(self, name, age, address)\n",
    "    self.program = program\n",
    "    \n",
    "  def show_details(self):\n",
    "    Person.show_details(self)\n",
    "    self.program.show_details()"
   ]
  },
  {
   "cell_type": "code",
   "execution_count": 4,
   "id": "047bbdfb-3cb2-46d5-a75b-d59a25afe678",
   "metadata": {},
   "outputs": [
    {
     "name": "stdout",
     "output_type": "stream",
     "text": [
      "Name: Abhinav karki\n",
      "Age: 25\n",
      "Address: Lucknow\n",
      "Program Name: Computer Science\n",
      "Duration: 4\n"
     ]
    }
   ],
   "source": [
    "program = Program(\"Computer Science\", 4)\n",
    "student = Student(\"Abhinav karki\", 25, \"Lucknow\", program)\n",
    "student.show_details()"
   ]
  },
  {
   "cell_type": "code",
   "execution_count": null,
   "id": "0071b098-37f4-4627-ab74-fd05950a7765",
   "metadata": {},
   "outputs": [],
   "source": []
  }
 ],
 "metadata": {
  "kernelspec": {
   "display_name": "Python 3 (ipykernel)",
   "language": "python",
   "name": "python3"
  },
  "language_info": {
   "codemirror_mode": {
    "name": "ipython",
    "version": 3
   },
   "file_extension": ".py",
   "mimetype": "text/x-python",
   "name": "python",
   "nbconvert_exporter": "python",
   "pygments_lexer": "ipython3",
   "version": "3.10.8"
  }
 },
 "nbformat": 4,
 "nbformat_minor": 5
}
