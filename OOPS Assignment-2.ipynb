{
 "cells": [
  {
   "cell_type": "markdown",
   "id": "453d2d97-3bee-4a95-97ba-12b772251095",
   "metadata": {},
   "source": [
    "Q1. What is Abstraction in OOps? Explain with an example."
   ]
  },
  {
   "cell_type": "markdown",
   "id": "8d5cdaf4-96ac-4a6d-b4c3-3e343b7a5538",
   "metadata": {},
   "source": [
    "Ans- Abstraction in Object-Oriented Programming (OOP) is one of the fundamental principles that allows you to hide the internal implementation details of an object while exposing only the relevant functionalities and characteristics to the outside world. In simpler terms, abstraction helps in creating a simplified view of an object, focusing on what it does rather than how it does it.\n",
    "\n",
    "The primary goal of abstraction is to reduce complexity and improve efficiency by providing a clear and easy-to-understand interface for interacting with objects. By abstracting away the implementation details, users of the class or object can work with it without needing to know the underlying complexities.\n",
    "\n",
    "Example of Abstraction:"
   ]
  },
  {
   "cell_type": "code",
   "execution_count": 1,
   "id": "5b14396a-1498-43ae-995c-c4854888260a",
   "metadata": {},
   "outputs": [
    {
     "name": "stdout",
     "output_type": "stream",
     "text": [
      "Circle Area: 78.5\n",
      "Rectangle Area: 24\n"
     ]
    }
   ],
   "source": [
    "# Abstract Shape class\n",
    "class Shape:\n",
    "    def area(self):\n",
    "        pass\n",
    "\n",
    "# Concrete Circle class\n",
    "class Circle(Shape):\n",
    "    def __init__(self, radius):\n",
    "        self.radius = radius\n",
    "\n",
    "    def area(self):\n",
    "        return 3.14 * self.radius ** 2\n",
    "\n",
    "# Concrete Rectangle class\n",
    "class Rectangle(Shape):\n",
    "    def __init__(self, width, height):\n",
    "        self.width = width\n",
    "        self.height = height\n",
    "\n",
    "    def area(self):\n",
    "        return self.width * self.height\n",
    "\n",
    "# Client code\n",
    "circle = Circle(5)\n",
    "rectangle = Rectangle(4, 6)\n",
    "\n",
    "print(\"Circle Area:\", circle.area())       # Output: Circle Area: 78.5\n",
    "print(\"Rectangle Area:\", rectangle.area()) # Output: Rectangle Area: 24\n"
   ]
  },
  {
   "cell_type": "markdown",
   "id": "92302421-540f-49d4-9816-8926c08aaae3",
   "metadata": {},
   "source": [
    "In this example, we have an abstract Shape class that defines an area method. This method is not implemented in the Shape class (abstract method), as it doesn't make sense to calculate the area for a generic shape without specific dimensions.\n",
    "\n",
    "Then, we have two concrete classes, Circle and Rectangle, which inherit from the Shape class. Both of these subclasses implement the area method according to their specific shapes' formulas.\n",
    "\n",
    "Notice how the client code (the part that uses the Circle and Rectangle objects) doesn't need to know about the implementation details of the area method. It can simply call area() on the objects and get the area of the shape, whether it's a circle or a rectangle.\n",
    "\n",
    "This abstraction allows the client code to interact with shapes at a higher level without worrying about the specific calculations involved in determining the area for each shape. This way, abstraction helps in managing complexity and providing a clear interface for using objects in a program."
   ]
  },
  {
   "cell_type": "markdown",
   "id": "a1e05a4c-1f24-4025-b2c1-8922e3286977",
   "metadata": {},
   "source": []
  },
  {
   "cell_type": "markdown",
   "id": "4f5bc24e-6db9-4b89-b10c-b53b51e9e4ea",
   "metadata": {},
   "source": [
    "Q2. Differentiate between Abstraction and Encapsulation. Explain with an example."
   ]
  },
  {
   "cell_type": "markdown",
   "id": "f0993119-941f-4f0f-b766-e5563488642f",
   "metadata": {},
   "source": [
    "Abstraction and Encapsulation are two important concepts in Object-Oriented Programming (OOP), but they serve different purposes.\n",
    "\n",
    "1.Abstraction: Abstraction is a concept that focuses on hiding the implementation details of an object and exposing only the essential features or functionalities to the outside world. It allows you to create a simplified view of an object, emphasizing what it does rather than how it does it. The main goal of abstraction is to reduce complexity and improve efficiency by providing a clear and easy-to-understand interface for interacting with objects.\n",
    "\n",
    "2.Encapsulation: Encapsulation is the concept of bundling the data (attributes) and methods (functions) that operate on the data within a single unit, often referred to as a class. It ensures that the internal state of an object is kept private and can only be accessed and modified through well-defined public methods. In other words, it protects the internal implementation details of an object from external interference and misuse.\n",
    "\n",
    "Illustration of difference between abstraction and encapsulation with an example:"
   ]
  },
  {
   "cell_type": "code",
   "execution_count": 2,
   "id": "b8a134ba-cc27-464f-b426-71c131d33462",
   "metadata": {},
   "outputs": [
    {
     "name": "stdout",
     "output_type": "stream",
     "text": [
      "Circle Area: 78.5\n",
      "Account Balance: 1300\n"
     ]
    }
   ],
   "source": [
    "# Abstraction (Focuses on WHAT the objects do)\n",
    "\n",
    "# Abstract Shape class\n",
    "class Shape:\n",
    "    def area(self):\n",
    "        pass\n",
    "\n",
    "# Concrete Circle class\n",
    "class Circle(Shape):\n",
    "    def __init__(self, radius):\n",
    "        self.radius = radius\n",
    "\n",
    "    def area(self):\n",
    "        return 3.14 * self.radius ** 2\n",
    "\n",
    "# Encapsulation (Focuses on HOW the objects achieve their behavior)\n",
    "\n",
    "# Class with encapsulation\n",
    "class BankAccount:\n",
    "    def __init__(self, account_number, balance):\n",
    "        self.account_number = account_number\n",
    "        self.__balance = balance  # Private attribute\n",
    "\n",
    "    def deposit(self, amount):\n",
    "        self.__balance += amount\n",
    "\n",
    "    def withdraw(self, amount):\n",
    "        if amount <= self.__balance:\n",
    "            self.__balance -= amount\n",
    "        else:\n",
    "            print(\"Insufficient balance\")\n",
    "\n",
    "    def get_balance(self):\n",
    "        return self.__balance\n",
    "\n",
    "# Client code for abstraction\n",
    "circle = Circle(5)\n",
    "print(\"Circle Area:\", circle.area())  # Output: Circle Area: 78.5\n",
    "\n",
    "# Client code for encapsulation\n",
    "account = BankAccount(\"123456789\", 1000)\n",
    "account.deposit(500)\n",
    "account.withdraw(200)\n",
    "print(\"Account Balance:\", account.get_balance())  # Output: Account Balance: 1300\n"
   ]
  },
  {
   "cell_type": "markdown",
   "id": "d30524c6-a952-4bce-aa47-60a1306e26f0",
   "metadata": {},
   "source": [
    "In this example, we have a Shape class that demonstrates abstraction. The Shape class is abstract and defines a method area(), but it doesn't provide an implementation for it. Instead, the concrete subclasses (Circle and Rectangle) inherit from the abstract class and implement the area() method according to their specific formulas. The client code interacts with the shapes without knowing their underlying implementation details.\n",
    "\n",
    "On the other hand, the BankAccount class demonstrates encapsulation. The class encapsulates the account data (account_number and __balance) and provides public methods (deposit(), withdraw(), and get_balance()) to interact with the account. The balance is kept private, and external code can only access it through the getter method (get_balance()), ensuring that the internal state of the BankAccount object is protected and can't be directly modified from outside."
   ]
  },
  {
   "cell_type": "code",
   "execution_count": null,
   "id": "ab90cd12-a16b-4632-b12c-018e37806077",
   "metadata": {},
   "outputs": [],
   "source": []
  },
  {
   "cell_type": "markdown",
   "id": "4007890e-d628-438c-8778-a743f1897057",
   "metadata": {},
   "source": [
    "Q3. What is abc module in python? Why is it used?"
   ]
  },
  {
   "cell_type": "markdown",
   "id": "d412327a-3501-4d5e-824b-df83e74ed6e1",
   "metadata": {},
   "source": [
    "Ans- Abstraction in Object-Oriented Programming (OOP) is one of the fundamental principles that allows you to hide the internal implementation details of an object while exposing only the relevant functionalities and characteristics to the outside world. In simpler terms, abstraction helps in creating a simplified view of an object, focusing on what it does rather than how it does it.\n",
    "\n",
    "The primary goal of abstraction is to reduce complexity and improve efficiency by providing a clear and easy-to-understand interface for interacting with objects. By abstracting away the implementation details, users of the class or object can work with it without needing to know the underlying complexities.\n",
    "\n",
    "Example of Abstraction:"
   ]
  },
  {
   "cell_type": "code",
   "execution_count": 3,
   "id": "ce9c8d31-ad03-4740-823a-5ea8905db4ac",
   "metadata": {},
   "outputs": [
    {
     "name": "stdout",
     "output_type": "stream",
     "text": [
      "Circle Area: 78.5\n",
      "Rectangle Area: 24\n"
     ]
    }
   ],
   "source": [
    "from abc import ABC, abstractmethod\n",
    "\n",
    "# Abstract Base Class\n",
    "class Shape(ABC):\n",
    "    @abstractmethod\n",
    "    def area(self):\n",
    "        pass\n",
    "\n",
    "# Concrete Circle class\n",
    "class Circle(Shape):\n",
    "    def __init__(self, radius):\n",
    "        self.radius = radius\n",
    "\n",
    "    def area(self):\n",
    "        return 3.14 * self.radius ** 2\n",
    "\n",
    "# Concrete Rectangle class\n",
    "class Rectangle(Shape):\n",
    "    def __init__(self, width, height):\n",
    "        self.width = width\n",
    "        self.height = height\n",
    "\n",
    "    def area(self):\n",
    "        return self.width * self.height\n",
    "\n",
    "# Client code\n",
    "circle = Circle(5)\n",
    "rectangle = Rectangle(4, 6)\n",
    "\n",
    "print(\"Circle Area:\", circle.area())       # Output: Circle Area: 78.5\n",
    "print(\"Rectangle Area:\", rectangle.area()) # Output: Rectangle Area: 24\n"
   ]
  },
  {
   "cell_type": "markdown",
   "id": "76b973e5-2531-460b-bd95-8b28d58c8821",
   "metadata": {},
   "source": [
    "In this example, the Shape class is an abstract base class, which declares an abstract method area(). Both Circle and Rectangle subclasses inherit from Shape. They are required to implement the area() method, and the client code can interact with both objects through the common Shape interface.\n",
    "\n",
    "If we try to create an instance of the abstract base class directly (e.g., shape = Shape()), it will raise an error since abstract classes cannot be instantiated directly. Instead, we can only create instances of concrete subclasses like Circle and Rectangle."
   ]
  },
  {
   "cell_type": "code",
   "execution_count": null,
   "id": "79e4cb92-1fe2-46d3-95b5-03854f769786",
   "metadata": {},
   "outputs": [],
   "source": []
  },
  {
   "cell_type": "markdown",
   "id": "4961f46d-6a1d-46de-84e9-0d5e470efce5",
   "metadata": {},
   "source": [
    "Q4. How can we achieve data abstraction?"
   ]
  },
  {
   "cell_type": "markdown",
   "id": "a128ab00-abd8-43b4-8ed5-d5070b6fa31a",
   "metadata": {},
   "source": [
    "Ans- Data abstraction can be achieved in Python (or any other object-oriented programming language) by using classes and defining appropriate access levels for attributes and methods. Data abstraction involves hiding the internal implementation details of an object and exposing only the relevant data and functionalities through a well-defined interface.\n",
    "\n",
    "Here are some key steps to achieve data abstraction in Python:\n",
    "\n",
    "1.Create a Class: Define a class that represents the abstract data type you want to create. This class will act as a blueprint for creating objects with a particular set of attributes and methods.\n",
    "\n",
    "2.Access Modifiers: In Python, you can use access modifiers to control the visibility of attributes and methods. The commonly used access modifiers are:\n",
    "\n",
    "Public: No access modifier is used, and attributes/methods are accessible from outside the class.\n",
    "\n",
    "Protected: Use a single underscore _ before the attribute/method name, indicating that they are intended for internal use or subclass access.\n",
    "\n",
    "Private: Use double underscore __ before the attribute/method name, making them private and not directly accessible from outside the class.\n",
    "\n",
    "3.Expose Relevant Functionalities: Provide public methods in the class that allow users to interact with the object. These methods should manipulate the internal data and perform operations without exposing the underlying implementation details.\n",
    "\n",
    "4.Hide Implementation Details: Keep the internal attributes and implementation details private or protected, preventing direct access and modification from external code. This ensures that changes to the internal representation do not affect the external code using the class."
   ]
  },
  {
   "cell_type": "code",
   "execution_count": null,
   "id": "ea8fc079-d147-4de3-8121-3b2714edf2e6",
   "metadata": {},
   "outputs": [],
   "source": []
  },
  {
   "cell_type": "markdown",
   "id": "910edec2-3570-4e9a-ae9e-dd8a65d77f7c",
   "metadata": {},
   "source": [
    "Q5. Can we create an instance of an abstract class? Explain your answer."
   ]
  },
  {
   "cell_type": "markdown",
   "id": "5ea204fd-1b17-49d2-88fa-7cfb2e265858",
   "metadata": {},
   "source": [
    "Ans- No, we cannot create an instance of an abstract class directly. Abstract classes are incomplete classes that are meant to serve as a blueprint for other classes, and they are designed to be subclassed. They contain one or more abstract methods, which are methods without an implementation. These abstract methods must be implemented by concrete subclasses.\n",
    "\n",
    "In Python, abstract classes are created using the abc module (Abstract Base Classes). The abc module provides the ABC class as the base class for creating abstract classes. To define an abstract method, you use the @abstractmethod decorator on the method declaration.\n",
    "\n",
    "Attempting to create an instance of an abstract class directly will result in a TypeError. Instead, you need to create instances of concrete subclasses derived from the abstract class."
   ]
  },
  {
   "cell_type": "code",
   "execution_count": null,
   "id": "90e8703c-68cf-408e-b5fe-a527dcbec3d2",
   "metadata": {},
   "outputs": [],
   "source": []
  }
 ],
 "metadata": {
  "kernelspec": {
   "display_name": "Python 3 (ipykernel)",
   "language": "python",
   "name": "python3"
  },
  "language_info": {
   "codemirror_mode": {
    "name": "ipython",
    "version": 3
   },
   "file_extension": ".py",
   "mimetype": "text/x-python",
   "name": "python",
   "nbconvert_exporter": "python",
   "pygments_lexer": "ipython3",
   "version": "3.10.8"
  }
 },
 "nbformat": 4,
 "nbformat_minor": 5
}
