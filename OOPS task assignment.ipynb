{
 "cells": [
  {
   "cell_type": "markdown",
   "id": "cc9b6f66-fb18-4a5d-9f8f-0ef49b24dac9",
   "metadata": {},
   "source": [
    "Q1, Create a vehicle class with an init method having instance variables as name_of_vehicle, max_speed\n",
    "and average_of_vehicle."
   ]
  },
  {
   "cell_type": "code",
   "execution_count": 1,
   "id": "35812b8b-672b-40d5-8ea8-e6ad1ec99789",
   "metadata": {},
   "outputs": [],
   "source": [
    "class Vehicle:\n",
    "    def __init__(self, name_of_vehicle, max_speed, average_of_vehicle):\n",
    "        self.name_of_vehicle = name_of_vehicle\n",
    "        self.max_speed = max_speed\n",
    "        self.average_of_vehicle = average_of_vehicle\n"
   ]
  },
  {
   "cell_type": "markdown",
   "id": "d8b07846-158b-40c1-9bba-0bfb4d2de558",
   "metadata": {},
   "source": [
    "Q2. Create a child class car from the vehicle class created in Que 1, which will inherit the vehicle class.\n",
    "Create a method named seating_capacity which takes capacity as an argument and returns the name of\n",
    "the vehicle and its seating capacity."
   ]
  },
  {
   "cell_type": "code",
   "execution_count": 4,
   "id": "a5a1fc47-8fae-40bd-ae76-851998f5f426",
   "metadata": {},
   "outputs": [],
   "source": [
    " class Vehicle:\n",
    "    def __init__(self, name_of_vehicle, max_speed, average_of_vehicle):\n",
    "        self.name_of_vehicle = name_of_vehicle\n",
    "        self.max_speed = max_speed\n",
    "        self.average_of_vehicle = average_of_vehicle\n",
    "\n",
    "class Car(Vehicle):\n",
    "    def __init__(self, name_of_vehicle, max_speed, average_of_vehicle):\n",
    "        super().__init__(name_of_vehicle, max_speed, average_of_vehicle)\n",
    "\n",
    "    def seating_capacity(self, capacity):\n",
    "        return f\"{self.name_of_vehicle} has a seating capacity of {capacity} people.\"\n"
   ]
  },
  {
   "cell_type": "markdown",
   "id": "b7cbb67c-96d4-4495-9f25-964409abe0e8",
   "metadata": {},
   "source": [
    "Q3. What is multiple inheritance? Write a python code to demonstrate multiple inheritance."
   ]
  },
  {
   "cell_type": "markdown",
   "id": "af9fd875-a3b8-4289-9c46-02b9161bb402",
   "metadata": {},
   "source": [
    "Ans- Multiple inheritance is a feature in object-oriented programming where a class can inherit attributes and methods from more than one base class. In Python, you can create a class that inherits from multiple parent classes, allowing the child class to access and use attributes and methods from all of its parent classes.\n",
    "\n",
    "Here's a Python code example to demonstrate multiple inheritance:"
   ]
  },
  {
   "cell_type": "code",
   "execution_count": 6,
   "id": "cf8c473b-3c7c-45fc-95a6-c4303a83af14",
   "metadata": {},
   "outputs": [
    {
     "name": "stdout",
     "output_type": "stream",
     "text": [
      "Father Enjoys Driving\n",
      "Mother Enjoys watching TV\n",
      "Children loves playing Football\n"
     ]
    }
   ],
   "source": [
    "# Multiple Inheritance using two classes:\n",
    "\n",
    "class Father():\n",
    "    def Driving(self):\n",
    "        print(\"Father Enjoys Driving\")\n",
    "class Mother():\n",
    "    def Cooking(self):\n",
    "        print(\"Mother Enjoys watching TV\")\n",
    "class Child(Father, Mother):\n",
    "    def Playing(self):\n",
    "        print(\"Children loves playing Football\")\n",
    "c = Child()\n",
    "c.Driving()\n",
    "c.Cooking()\n",
    "c.Playing()"
   ]
  },
  {
   "cell_type": "markdown",
   "id": "84525f85-2553-4c0c-bfe5-3dcd2a1db385",
   "metadata": {},
   "source": [
    "Q4. What are getter and setter in python? Create a class and create a getter and a setter method in this class."
   ]
  },
  {
   "cell_type": "markdown",
   "id": "eb8ae093-990e-4bba-afdb-c17353f44453",
   "metadata": {},
   "source": [
    "Ans- In Python, getters and setters are methods used to access and modify the attributes of a class, respectively. They provide a way to encapsulate the access to class attributes and allow you to control how the attributes are read and modified.\n",
    "\n",
    "1.Getter Method: A getter method is used to access the value of an attribute. It allows you to retrieve the value of a private attribute (an attribute that should not be accessed directly from outside the class) by providing a controlled interface.\n",
    "\n",
    "2.Setter Method: A setter method is used to modify the value of an attribute. It allows you to set the value of a private attribute (an attribute that should not be modified directly from outside the class) by providing a controlled interface.\n",
    "\n",
    "Here's an example of a class with a private attribute and its getter and setter methods:"
   ]
  },
  {
   "cell_type": "code",
   "execution_count": 8,
   "id": "48630550-a87f-40be-a893-1a4fef760875",
   "metadata": {},
   "outputs": [
    {
     "name": "stdout",
     "output_type": "stream",
     "text": [
      "Name: Abhinav\n",
      "New Name: Gaurav\n",
      "Age: 24\n",
      "New Age: 25\n"
     ]
    }
   ],
   "source": [
    "class Student:\n",
    "    def __init__(self, name, age):\n",
    "        self._name = name  # Private attribute\n",
    "        self._age = age    # Private attribute\n",
    "\n",
    "    # Getter method for the name attribute\n",
    "    def get_name(self):\n",
    "        return self._name\n",
    "\n",
    "    # Setter method for the name attribute\n",
    "    def set_name(self, name):\n",
    "        self._name = name\n",
    "\n",
    "    # Getter method for the age attribute\n",
    "    def get_age(self):\n",
    "        return self._age\n",
    "\n",
    "    # Setter method for the age attribute\n",
    "    def set_age(self, age):\n",
    "        if age > 0:\n",
    "            self._age = age\n",
    "        else:\n",
    "            print(\"Invalid age! Age should be greater than 0.\")\n",
    "\n",
    "# Create an instance of the Student class\n",
    "student1 = Student(\"Abhinav\", 24)\n",
    "\n",
    "# Using the getter to access the name attribute\n",
    "print(\"Name:\", student1.get_name())  # Output: Name: Alice\n",
    "\n",
    "# Using the setter to modify the name attribute\n",
    "student1.set_name(\"Gaurav\")\n",
    "\n",
    "# Using the getter to access the modified name attribute\n",
    "print(\"New Name:\", student1.get_name())  # Output: New Name: Bob\n",
    "\n",
    "# Using the getter to access the age attribute\n",
    "print(\"Age:\", student1.get_age())  # Output: Age: 20\n",
    "\n",
    "# Using the setter to modify the age attribute\n",
    "student1.set_age(25)\n",
    "\n",
    "# Using the getter to access the modified age attribute\n",
    "print(\"New Age:\", student1.get_age())  # Output: New Age: 25\n"
   ]
  },
  {
   "cell_type": "markdown",
   "id": "5990e717-d23e-4a49-a21e-17fc331b12d5",
   "metadata": {},
   "source": [
    "Q5.What is method overriding in python? Write a python code to demonstrate method overriding."
   ]
  },
  {
   "cell_type": "markdown",
   "id": "bd327e06-a689-466c-a206-67223afbcbd1",
   "metadata": {},
   "source": [
    "Ans- Method overriding is a concept in object-oriented programming where a child class provides a specific implementation for a method that is already defined in its parent class. When a method is overridden, the version of the method in the child class takes precedence over the version in the parent class. This allows the child class to customize the behavior of the method to suit its specific needs.\n",
    "\n",
    "Here's a Python code example to demonstrate method overriding:"
   ]
  },
  {
   "cell_type": "code",
   "execution_count": 9,
   "id": "4ce6da17-2e30-4e89-92a5-1bc42f2fc188",
   "metadata": {},
   "outputs": [
    {
     "name": "stdout",
     "output_type": "stream",
     "text": [
      "Rectangle Area: 40\n",
      "Circle Area: 28.259999999999998\n"
     ]
    }
   ],
   "source": [
    "class Shape:\n",
    "    def area(self):\n",
    "        return 0\n",
    "\n",
    "class Rectangle(Shape):\n",
    "    def __init__(self, width, height):\n",
    "        self.width = width\n",
    "        self.height = height\n",
    "\n",
    "    def area(self):\n",
    "        return self.width * self.height\n",
    "\n",
    "class Circle(Shape):\n",
    "    def __init__(self, radius):\n",
    "        self.radius = radius\n",
    "\n",
    "    def area(self):\n",
    "        return 3.14 * self.radius * self.radius\n",
    "\n",
    "# Create instances of the classes\n",
    "rectangle = Rectangle(5, 8)\n",
    "circle = Circle(3)\n",
    "\n",
    "# Call the area method on each instance\n",
    "print(\"Rectangle Area:\", rectangle.area())  # Output: Rectangle Area: 40\n",
    "print(\"Circle Area:\", circle.area())        # Output: Circle Area: 28.26\n"
   ]
  },
  {
   "cell_type": "code",
   "execution_count": null,
   "id": "4f8270df-2dec-404d-a7f8-8efb3a594fde",
   "metadata": {},
   "outputs": [],
   "source": []
  }
 ],
 "metadata": {
  "kernelspec": {
   "display_name": "Python 3 (ipykernel)",
   "language": "python",
   "name": "python3"
  },
  "language_info": {
   "codemirror_mode": {
    "name": "ipython",
    "version": 3
   },
   "file_extension": ".py",
   "mimetype": "text/x-python",
   "name": "python",
   "nbconvert_exporter": "python",
   "pygments_lexer": "ipython3",
   "version": "3.10.8"
  }
 },
 "nbformat": 4,
 "nbformat_minor": 5
}
