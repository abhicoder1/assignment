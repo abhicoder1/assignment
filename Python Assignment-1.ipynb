{
 "cells": [
  {
   "cell_type": "markdown",
   "id": "33b0a730-634d-4b45-9fac-08b15ff0d385",
   "metadata": {},
   "source": [
    "Q1. Which keyword is used to create a function? Create a function to return a list of odd numbers in the\n",
    "range of 1 to 25.\n",
    "\n",
    "Ans - The keyword used to create a function in Python is def. Here, i am writing an example below "
   ]
  },
  {
   "cell_type": "code",
   "execution_count": 14,
   "id": "4c08d76e-a49f-44e6-a9fe-d7c72671289d",
   "metadata": {},
   "outputs": [
    {
     "name": "stdout",
     "output_type": "stream",
     "text": [
      "[1, 3, 5, 7, 9, 11, 13, 15, 17, 19, 21, 23]\n"
     ]
    }
   ],
   "source": [
    "def num_odd():\n",
    "    num = []\n",
    "    for i in range(1,25):\n",
    "        if i % 2 != 0:\n",
    "            num.append(i)\n",
    "    return num\n",
    "\n",
    "result = num_odd()\n",
    "print(result)"
   ]
  },
  {
   "cell_type": "markdown",
   "id": "f9c166b5-cff3-4d22-877b-53672aebadfb",
   "metadata": {},
   "source": []
  },
  {
   "cell_type": "markdown",
   "id": "7ee8ea26-5f72-4470-a81c-d7f53bb5a6ec",
   "metadata": {},
   "source": [
    "Q2. Why *args and **kwargs is used in some functions? Create a function each for *args and **kwargs\n",
    "to demonstrate their use.\n",
    "\n",
    "Ans- In Python, we can pass a variable number of arguments to a function using special symbols. There are two special symbols:\n",
    "\n",
    "1. *args (Non Keyword Arguments)\n",
    "2. **kwargs (Keyword Arguments)\n",
    "We use *args and **kwargs as an argument when we are unsure about the number of arguments to pass in the functions.\n",
    "\n",
    "1. Python *args -\n",
    "\n",
    "Python has *args which allow us to pass the variable number of non keyword arguments to function.\n",
    "\n",
    "In the function, we should use an asterisk * before the parameter name to pass variable length arguments.The arguments are passed as a tuple and these passed arguments make tuple inside the function with same name as the parameter excluding asterisk *.\n",
    "\n",
    "2. Python **kwargs -\n",
    "\n",
    "Python passes variable length non keyword argument to function using *args but we cannot use this to pass keyword argument. For this problem Python has got a solution called **kwargs, it allows us to pass the variable length of keyword arguments to the function.\n",
    "\n",
    "In the function, we use the double asterisk ** before the parameter name to denote this type of argument. The arguments are passed as a dictionary and these arguments make a dictionary inside function with name same as the parameter excluding double asterisk **.\n",
    "\n",
    "Here below , writing example of *args and **kwargs for demostration of their use -\n"
   ]
  },
  {
   "cell_type": "code",
   "execution_count": 15,
   "id": "247dd553-edee-4d98-a7e4-cdd63d61d422",
   "metadata": {},
   "outputs": [
    {
     "name": "stdout",
     "output_type": "stream",
     "text": [
      "Sum: 8\n",
      "Sum: 22\n",
      "Sum: 17\n"
     ]
    }
   ],
   "source": [
    "# *args example -\n",
    "\n",
    "def adder(*num):\n",
    "    sum = 0\n",
    "    \n",
    "    for n in num:\n",
    "        sum = sum + n\n",
    "\n",
    "    print(\"Sum:\",sum)\n",
    "\n",
    "adder(3,5)\n",
    "adder(4,5,6,7)\n",
    "adder(1,2,3,5,6)"
   ]
  },
  {
   "cell_type": "markdown",
   "id": "d2dec829-ef2b-4e47-a6f5-341041ce5eb5",
   "metadata": {},
   "source": [
    "In the above program, we used *num as a parameter which allows us to pass variable length argument list to the adder() function. Inside the function, we have a loop which adds the passed argument and prints the result. We passed 3 different tuples with variable length as an argument to the function."
   ]
  },
  {
   "cell_type": "code",
   "execution_count": 18,
   "id": "c6b36ade-bc03-402d-9838-8a6641b1631e",
   "metadata": {},
   "outputs": [
    {
     "name": "stdout",
     "output_type": "stream",
     "text": [
      "name: John\n",
      "age: 30\n",
      "city: New York\n",
      "occupation: Developer\n"
     ]
    }
   ],
   "source": [
    "# **kwargs example-\n",
    "\n",
    "def print_details(**kwargs):\n",
    "    for key, value in kwargs.items():\n",
    "        print(f\"{key}: {value}\")\n",
    "\n",
    "# Call the function\n",
    "print_details(name=\"John\", age=30, city=\"New York\", occupation=\"Developer\")\n"
   ]
  },
  {
   "cell_type": "code",
   "execution_count": 19,
   "id": "f5dbab01-3416-418f-8df8-10fd86396b1d",
   "metadata": {},
   "outputs": [
    {
     "name": "stdout",
     "output_type": "stream",
     "text": [
      "name: Abhinav\n",
      "last_name: karki\n",
      "city: Lucknow\n",
      "age: 25\n",
      "gender: male\n"
     ]
    }
   ],
   "source": [
    "print_details(name=\"Abhinav\", last_name = \"karki\", city = \"Lucknow\", age = 25, gender = \"male\")"
   ]
  },
  {
   "cell_type": "markdown",
   "id": "c2124581-3cde-4a5b-968b-efeecc065430",
   "metadata": {},
   "source": [
    "In this example, the print_details function takes keyword arguments using **kwargs. It iterates over the keyword arguments and prints each key-value pair.\n",
    "\n",
    "In the function call, we provide keyword arguments such as name,last name,age, city,occupation and gender. The function then iterates over the provided keyword arguments and prints each key-value pair. The use of **kwargs allows us to pass a variable number of keyword arguments to the function without explicitly defining them in the function signature."
   ]
  },
  {
   "cell_type": "markdown",
   "id": "1b4e3d28-9a62-4223-9235-3fa161972d0f",
   "metadata": {},
   "source": []
  },
  {
   "cell_type": "markdown",
   "id": "10861c59-6488-4d1e-b1b1-84999358581a",
   "metadata": {},
   "source": [
    "Q3. What is an iterator in python? Name the method used to initialise the iterator object and the method\n",
    "used for iteration. Use these methods to print the first five elements of the given list [2, 4, 6, 8, 10, 12, 14,\n",
    "16, 18, 20].\n",
    "\n",
    "Ans -An iterator in Python is an object that provides a way to access elements from a collection or sequence in a sequential manner. It represents a stream of values that can be iterated over using a loop or other iterator-consuming constructs.\n",
    "\n",
    "To initialize an iterator object, you typically use the iter() function, which takes an iterable (such as a list, tuple, or string) as an argument. The iter() function returns an iterator object that is ready to be iterated over.\n",
    "\n",
    "The process of iteration is performed using the next() function. Each call to next() retrieves the next element from the iterator, advancing its internal state. Once all elements have been consumed, further calls to next() will raise a StopIteration exception, indicating the end of iteration.\n",
    "\n",
    "Iterators provide a memory-efficient way to process large sequences of data or generate values on-the-fly, as they produce elements one at a time instead of loading the entire sequence into memory. They can be used to iterate over elements in a loop or combined with other iterator-related constructs such as list comprehensions or generator expressions.\n",
    "\n",
    "In summary, an iterator in Python is an object that allows sequential access to elements in a collection or sequence, initialized using the iter() function, and iterated over using the next() function. It provides a way to efficiently process or generate values on-demand, enabling flexible and memory-efficient data processing.\n",
    "\n"
   ]
  },
  {
   "cell_type": "code",
   "execution_count": 20,
   "id": "8f92bd8f-66ac-4683-8d9d-967fbb031582",
   "metadata": {},
   "outputs": [
    {
     "name": "stdout",
     "output_type": "stream",
     "text": [
      "2\n",
      "4\n",
      "6\n",
      "8\n",
      "10\n"
     ]
    }
   ],
   "source": [
    "numbers = [2, 4, 6, 8, 10, 12, 14, 16, 18, 20]\n",
    "\n",
    "# Initialize the iterator\n",
    "iterator = iter(numbers)\n",
    "\n",
    "# Iterate and print the first five elements\n",
    "for _ in range(5):\n",
    "    element = next(iterator)\n",
    "    print(element)\n"
   ]
  },
  {
   "cell_type": "markdown",
   "id": "c580bc67-d72d-4d5a-853d-f1fe29a6b764",
   "metadata": {},
   "source": [
    "In this example, we initialize the iterator by calling iter(numbers), where numbers is the list we want to iterate over. We assign the iterator object to the variable iterator.\n",
    "\n",
    "Then, using a loop, we call next(iterator) to fetch the next element from the iterator and print it. We repeat this process five times to print the first five elements of the list.\n",
    "\n",
    "By utilizing iter() to initialize the iterator and next() for iteration, we are able to access elements from the list sequentially without loading the entire list into memory."
   ]
  },
  {
   "cell_type": "markdown",
   "id": "fcb4b0f4-f95c-4022-84de-b400a59a9e92",
   "metadata": {},
   "source": []
  },
  {
   "cell_type": "markdown",
   "id": "5b497f71-85f0-4d12-b331-f71e8052a7eb",
   "metadata": {},
   "source": [
    "Q4. What is a generator function in python? Why yield keyword is used? Give an example of a generator\n",
    "function.\n",
    "\n",
    "Ans - A generator function in Python is a special type of function that returns an iterator object. It allows you to define a function that can generate a sequence of values on-the-fly, one at a time, without loading the entire sequence into memory.\n",
    "\n",
    "The key feature of a generator function is the use of the yield keyword. Instead of using the return keyword to return a value and terminate the function, the yield keyword is used to yield a value and temporarily suspend the function's execution state. The state of the function is maintained between successive calls, allowing it to resume execution from where it left off and generate the next value in the sequence.\n",
    "\n",
    "The use of the yield keyword provides several benefits:\n",
    "\n",
    "1.Memory Efficiency: Generator functions generate values on-demand, which means they don't need to store the entire sequence in memory. They produce values as requested, reducing memory consumption.\n",
    "\n",
    "2.Lazy Evaluation: Generator functions employ lazy evaluation, producing values only when needed. This allows for efficient processing of large or infinite sequences.\n",
    "\n",
    "3.Resumable Execution: The function's execution state is preserved between calls, enabling the function to resume from where it left off. This allows generators to maintain internal variables and control flow across multiple iterations.\n",
    "\n",
    "Here's an example of a generator function that generates the Fibonacci sequence:"
   ]
  },
  {
   "cell_type": "code",
   "execution_count": 22,
   "id": "1c1af842-ec2a-49bb-929b-63a9b6ef65d4",
   "metadata": {},
   "outputs": [
    {
     "name": "stdout",
     "output_type": "stream",
     "text": [
      "0\n",
      "1\n",
      "1\n",
      "2\n",
      "3\n",
      "5\n",
      "8\n",
      "13\n",
      "21\n",
      "34\n"
     ]
    }
   ],
   "source": [
    "def fibonacci_generator():\n",
    "    a, b = 0, 1\n",
    "    while True:\n",
    "        yield a\n",
    "        a, b = b, a + b\n",
    "\n",
    "# Use the generator function\n",
    "fibonacci_gen = fibonacci_generator()\n",
    "\n",
    "# Print the first 10 Fibonacci numbers\n",
    "for _ in range(10):\n",
    "    print(next(fibonacci_gen))\n"
   ]
  },
  {
   "cell_type": "markdown",
   "id": "ed0b5c66-dee6-44ee-b2e3-35f9929e93cd",
   "metadata": {},
   "source": [
    "In this example, the fibonacci_generator function is a generator function that generates the Fibonacci sequence. It uses a while loop to continuously generate Fibonacci numbers. The yield keyword is used to yield the current Fibonacci number, suspending the function's execution until the next iteration.\n",
    "\n",
    "We create an instance of the generator by calling fibonacci_generator(). This returns a generator object that can be iterated over or used with the next() function to retrieve the next Fibonacci number.\n",
    "\n",
    "In the loop, we call next(fibonacci_gen) to get the next Fibonacci number from the generator and print it. We repeat this process 10 times to print the first 10 Fibonacci numbers.\n",
    "\n",
    "The generator function generates Fibonacci numbers on-demand, producing them dynamically without the need to store all the numbers in memory. This allows for efficient processing of the Fibonacci sequence and the ability to generate an infinite sequence if needed."
   ]
  },
  {
   "cell_type": "markdown",
   "id": "fb687ad1-5f3f-43da-8775-0465ec658b0d",
   "metadata": {},
   "source": []
  },
  {
   "cell_type": "markdown",
   "id": "771bd93b-1da4-4271-aec2-a380cd5c3798",
   "metadata": {},
   "source": [
    "Q5. Create a generator function for prime numbers less than 1000. Use the next() method to print the\n",
    "first 20 prime numbers.\n"
   ]
  },
  {
   "cell_type": "code",
   "execution_count": 24,
   "id": "ebbf5b2a-8157-43ec-962c-10c72e773d27",
   "metadata": {},
   "outputs": [
    {
     "name": "stdout",
     "output_type": "stream",
     "text": [
      "2\n",
      "3\n",
      "5\n",
      "7\n",
      "11\n",
      "13\n",
      "17\n",
      "19\n",
      "23\n",
      "29\n",
      "31\n",
      "37\n",
      "41\n",
      "43\n",
      "47\n",
      "53\n",
      "59\n",
      "61\n",
      "67\n",
      "71\n"
     ]
    }
   ],
   "source": [
    "def prime_generator():\n",
    "    primes = []\n",
    "    num = 2\n",
    "\n",
    "    while True:\n",
    "        is_prime = True\n",
    "\n",
    "        for prime in primes:\n",
    "            if prime * prime > num:\n",
    "                break\n",
    "            if num % prime == 0:\n",
    "                is_prime = False\n",
    "                break\n",
    "\n",
    "        if is_prime:\n",
    "            primes.append(num)\n",
    "            yield num\n",
    "\n",
    "        num += 1\n",
    "\n",
    "# Use the generator function\n",
    "prime_gen = prime_generator()\n",
    "\n",
    "# Print the first 20 prime numbers\n",
    "for _ in range(20):\n",
    "    print(next(prime_gen))\n"
   ]
  },
  {
   "cell_type": "markdown",
   "id": "80f49deb-0c57-4bed-acbb-0bf594680b5a",
   "metadata": {},
   "source": []
  },
  {
   "cell_type": "markdown",
   "id": "c061ac36-2e22-4f32-aaf5-84e814d742d3",
   "metadata": {},
   "source": [
    "Q6. Write a python program to print the first 10 Fibonacci numbers using a while loop."
   ]
  },
  {
   "cell_type": "code",
   "execution_count": 1,
   "id": "78ac7a06-ec84-49fe-97e2-4d0eb6dbc130",
   "metadata": {},
   "outputs": [
    {
     "name": "stdout",
     "output_type": "stream",
     "text": [
      "0\n",
      "1\n",
      "1\n",
      "2\n",
      "3\n",
      "5\n",
      "8\n",
      "13\n",
      "21\n",
      "34\n"
     ]
    }
   ],
   "source": [
    "# Initialize the first two numbers in the sequence\n",
    "num1 = 0\n",
    "num2 = 1\n",
    "\n",
    "# Counter to keep track of the number of Fibonacci numbers printed\n",
    "count = 0\n",
    "\n",
    "# Iterate until 10 Fibonacci numbers are printed\n",
    "while count < 10:\n",
    "    # Print the current Fibonacci number\n",
    "    print(num1)\n",
    "\n",
    "    # Update the Fibonacci sequence\n",
    "    num1, num2 = num2, num1 + num2\n",
    "\n",
    "    # Increment the counter\n",
    "    count += 1"
   ]
  },
  {
   "cell_type": "markdown",
   "id": "1fcf548c-8717-4018-ba4b-a36e41bb3ed2",
   "metadata": {},
   "source": []
  },
  {
   "cell_type": "markdown",
   "id": "fc874895-08f4-4835-a6e7-a42b389aa832",
   "metadata": {},
   "source": [
    "Q7. Write a List Comprehension to iterate through the given string: ‘pwskills’.\n",
    "Expected output: ['p', 'w', 's', 'k', 'i', 'l', 'l', 's']"
   ]
  },
  {
   "cell_type": "code",
   "execution_count": 2,
   "id": "5de17f80-89ce-4ae6-b105-c7430ba18b8e",
   "metadata": {},
   "outputs": [
    {
     "name": "stdout",
     "output_type": "stream",
     "text": [
      "['p', 'w', 's', 'k', 'i', 'l', 'l', 's']\n"
     ]
    }
   ],
   "source": [
    "string = 'pwskills'\n",
    "\n",
    "result = list(char for char in string)\n",
    "\n",
    "print(result)\n"
   ]
  },
  {
   "cell_type": "markdown",
   "id": "a0dfe436-824c-4977-96b2-3d3531688d42",
   "metadata": {},
   "source": []
  },
  {
   "cell_type": "markdown",
   "id": "4b8b8fb0-805a-4711-9569-1417d1315126",
   "metadata": {},
   "source": [
    "Q8. Write a python program to check whether a given number is Palindrome or not using a while loop."
   ]
  },
  {
   "cell_type": "code",
   "execution_count": 7,
   "id": "f91d0be5-a4fd-480e-b624-8f08a3ed02ef",
   "metadata": {},
   "outputs": [
    {
     "name": "stdin",
     "output_type": "stream",
     "text": [
      "Enter a number:  55\n"
     ]
    },
    {
     "name": "stdout",
     "output_type": "stream",
     "text": [
      "55 is a palindrome\n"
     ]
    }
   ],
   "source": [
    "num = int(input(\"Enter a number: \"))\n",
    "temp = num\n",
    "reverse = 0\n",
    "\n",
    "while temp > 0:\n",
    "    digit = temp % 10\n",
    "    reverse = (reverse * 10) + digit\n",
    "    temp = temp // 10\n",
    "\n",
    "if num == reverse:\n",
    "    print(num, \"is a palindrome\")\n",
    "else:\n",
    "    print(num, \"is not a palindrome\")\n"
   ]
  },
  {
   "cell_type": "code",
   "execution_count": 9,
   "id": "88c03b5e-8910-4ac2-a291-6ea5e4899c27",
   "metadata": {},
   "outputs": [
    {
     "name": "stdin",
     "output_type": "stream",
     "text": [
      "Enter a number:  53\n"
     ]
    },
    {
     "name": "stdout",
     "output_type": "stream",
     "text": [
      "53 is not a palindrome\n"
     ]
    }
   ],
   "source": [
    "num = int(input(\"Enter a number: \"))\n",
    "temp = num\n",
    "reverse = 0\n",
    "\n",
    "while temp > 0:\n",
    "    digit = temp % 10\n",
    "    reverse = (reverse * 10) + digit\n",
    "    temp = temp // 10\n",
    "\n",
    "if num == reverse:\n",
    "    print(num, \"is a palindrome\")\n",
    "else:\n",
    "    print(num, \"is not a palindrome\")\n"
   ]
  },
  {
   "cell_type": "markdown",
   "id": "3f72bfb1-1b22-466f-87e9-99dece34e486",
   "metadata": {},
   "source": []
  },
  {
   "cell_type": "markdown",
   "id": "261d7d32-373c-4f92-a4e0-3137c47195de",
   "metadata": {},
   "source": [
    "Q9. Write a code to print odd numbers from 1 to 100 using list comprehension.\n",
    "Note: Use a list comprehension to create a list from 1 to 100 and use another List comprehension to filter\n",
    "out odd numbers."
   ]
  },
  {
   "cell_type": "code",
   "execution_count": 8,
   "id": "6f80d0e6-a102-4313-bbeb-84f3c7e1f8db",
   "metadata": {},
   "outputs": [
    {
     "name": "stdout",
     "output_type": "stream",
     "text": [
      "[1, 3, 5, 7, 9, 11, 13, 15, 17, 19, 21, 23, 25, 27, 29, 31, 33, 35, 37, 39, 41, 43, 45, 47, 49, 51, 53, 55, 57, 59, 61, 63, 65, 67, 69, 71, 73, 75, 77, 79, 81, 83, 85, 87, 89, 91, 93, 95, 97, 99]\n"
     ]
    }
   ],
   "source": [
    "# List comprehension to create a list from 1 to 100\n",
    "numbers = [num for num in range(1, 101)]\n",
    "\n",
    "# List comprehension to filter out odd numbers\n",
    "odd_numbers = [num for num in numbers if num % 2 != 0]\n",
    "\n",
    "# Printing the odd numbers\n",
    "print(odd_numbers)\n"
   ]
  },
  {
   "cell_type": "code",
   "execution_count": null,
   "id": "99bc3f38-d615-4741-98c1-515657cc3f36",
   "metadata": {},
   "outputs": [],
   "source": []
  }
 ],
 "metadata": {
  "kernelspec": {
   "display_name": "Python 3 (ipykernel)",
   "language": "python",
   "name": "python3"
  },
  "language_info": {
   "codemirror_mode": {
    "name": "ipython",
    "version": 3
   },
   "file_extension": ".py",
   "mimetype": "text/x-python",
   "name": "python",
   "nbconvert_exporter": "python",
   "pygments_lexer": "ipython3",
   "version": "3.10.8"
  }
 },
 "nbformat": 4,
 "nbformat_minor": 5
}
