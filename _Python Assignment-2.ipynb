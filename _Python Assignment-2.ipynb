{
 "cells": [
  {
   "cell_type": "markdown",
   "id": "ae276598-8e7b-4236-84ae-28028299bdde",
   "metadata": {},
   "source": [
    "Q1. Create a python program to sort the given list of tuples based on integer value using a\n",
    "lambda function.\n",
    "\n",
    "[('Sachin Tendulkar', 34357), ('Ricky Ponting', 27483), ('Jack Kallis', 25534), ('Virat Kohli', 24936)]"
   ]
  },
  {
   "cell_type": "code",
   "execution_count": 9,
   "id": "460f09ef-2c47-48c3-a12a-a60cf726332d",
   "metadata": {},
   "outputs": [
    {
     "name": "stdout",
     "output_type": "stream",
     "text": [
      "[('Virat Kohli', 24936), ('Jack Kallis', 25534), ('Ricky Ponting', 27483), ('Sachin Tendulkar', 34357)]\n"
     ]
    }
   ],
   "source": [
    "list = [('Sachin Tendulkar', 34357), ('Ricky Ponting', 27483), ('Jack Kallis', 25534), ('Virat Kohli', 24936)]\n",
    "\n",
    "sorted_data = sorted(list, key=lambda x: x[1])\n",
    "\n",
    "print(sorted_data)\n"
   ]
  },
  {
   "cell_type": "markdown",
   "id": "c53f9c98-add4-49f6-8d0e-3aedf607efd1",
   "metadata": {},
   "source": []
  },
  {
   "cell_type": "markdown",
   "id": "22b6e83b-863a-4288-a509-cca325e7bdf6",
   "metadata": {},
   "source": [
    "Q2. Write a Python Program to find the squares of all the numbers in the given list of integers using\n",
    "lambda and map functions.\n",
    "[1, 2, 3, 4, 5, 6, 7, 8, 9, 10]"
   ]
  },
  {
   "cell_type": "code",
   "execution_count": 31,
   "id": "f164700a-199c-43f5-8a5f-c1650ba56898",
   "metadata": {},
   "outputs": [
    {
     "name": "stdout",
     "output_type": "stream",
     "text": [
      "[1, 4, 9, 16, 25, 36, 49, 64, 81, 100]\n"
     ]
    }
   ],
   "source": [
    "numbers = [1, 2, 3, 4, 5, 6, 7, 8, 9, 10]\n",
    "squares_map = map(lambda x: x ** 2, numbers)\n",
    "squares = [square for square in squares_map]\n",
    "print(squares)\n"
   ]
  },
  {
   "cell_type": "markdown",
   "id": "07feff83-c885-43cc-9e48-8e16f171f8f6",
   "metadata": {},
   "source": []
  },
  {
   "cell_type": "markdown",
   "id": "572e0dcb-0b50-4be3-92ac-21c54d97718e",
   "metadata": {},
   "source": [
    "Q3. Write a python program to convert the given list of integers into a tuple of strings. Use map and\n",
    "lambda functions\n",
    "Given String: [1, 2, 3, 4, 5, 6, 7, 8, 9, 10]\n",
    "Expected output: ('1', '2', '3', '4', '5', '6', '7', '8', '9', '10')"
   ]
  },
  {
   "cell_type": "code",
   "execution_count": 13,
   "id": "e22fff07-b75e-4ec7-8991-b973f5fce453",
   "metadata": {},
   "outputs": [
    {
     "name": "stdout",
     "output_type": "stream",
     "text": [
      "('1', '2', '3', '4', '5', '6', '7', '8', '9', '10')\n"
     ]
    }
   ],
   "source": [
    "numbers = [1, 2, 3, 4, 5, 6, 7, 8, 9, 10]\n",
    "\n",
    "string_tuple = tuple(map(lambda x: str(x), numbers))\n",
    "\n",
    "print(string_tuple)\n"
   ]
  },
  {
   "cell_type": "markdown",
   "id": "d9ad0ed2-b4b7-47c8-9b1b-ed9ae922b474",
   "metadata": {},
   "source": []
  },
  {
   "cell_type": "markdown",
   "id": "50c757bf-2523-476a-9c91-923bb934cdb3",
   "metadata": {},
   "source": [
    "Q4. Write a python program using reduce function to compute the product of a list containing numbers\n",
    "from 1 to 25."
   ]
  },
  {
   "cell_type": "code",
   "execution_count": 12,
   "id": "273d997e-8fa9-47eb-bde2-ac0c00d62ffe",
   "metadata": {},
   "outputs": [
    {
     "name": "stdout",
     "output_type": "stream",
     "text": [
      "15511210043330985984000000\n"
     ]
    }
   ],
   "source": [
    "from functools import reduce\n",
    "\n",
    "numbers = [num for num in range(1, 26)]\n",
    "\n",
    "product = reduce(lambda x, y: x * y, numbers)\n",
    "\n",
    "print(product)\n"
   ]
  },
  {
   "cell_type": "markdown",
   "id": "937245b0-e798-4655-be60-b231d323d965",
   "metadata": {},
   "source": []
  },
  {
   "cell_type": "markdown",
   "id": "550107e6-dae8-40cc-993d-1ee5e42e1298",
   "metadata": {},
   "source": [
    "Q5. Write a python program to filter the numbers in a given list that are divisible by 2 and 3 using the\n",
    "filter function.\n",
    "[2, 3, 6, 9, 27, 60, 90, 120, 55, 46]"
   ]
  },
  {
   "cell_type": "code",
   "execution_count": 37,
   "id": "6b005192-5489-4b70-bc60-8ae28c70d8ba",
   "metadata": {},
   "outputs": [
    {
     "name": "stdout",
     "output_type": "stream",
     "text": [
      "[6, 60, 90, 120]\n"
     ]
    }
   ],
   "source": [
    "numbers = [2, 3, 6, 9, 27, 60, 90, 120, 55, 46]\n",
    "\n",
    "div = (filter(lambda x: x % 2 == 0 and x % 3 == 0, numbers))\n",
    "\n",
    "div1 = [square for square in div]\n",
    "\n",
    "print(div1)\n"
   ]
  },
  {
   "cell_type": "markdown",
   "id": "368e4931-ddcd-4cd1-a381-a27d8791e48d",
   "metadata": {},
   "source": []
  },
  {
   "cell_type": "markdown",
   "id": "fd2c2149-7b87-4992-a13c-d80c11229dc6",
   "metadata": {},
   "source": [
    "Q6. Write a python program to find palindromes in the given list of strings using lambda and filter\n",
    "function.\n",
    "['python', 'php', 'aba', 'radar', 'level']"
   ]
  },
  {
   "cell_type": "code",
   "execution_count": 36,
   "id": "f8a3c796-3a9f-4d5f-b54d-fa8be4eb7961",
   "metadata": {},
   "outputs": [
    {
     "name": "stdout",
     "output_type": "stream",
     "text": [
      "['php', 'aba', 'radar', 'level']\n"
     ]
    }
   ],
   "source": [
    "strings = ['python', 'php', 'aba', 'radar', 'level']\n",
    "\n",
    "palindromes = filter(lambda x: x == x[::-1], strings)\n",
    " \n",
    "pal = [square for square in palindromes]\n",
    "\n",
    "print(pal)\n"
   ]
  },
  {
   "cell_type": "markdown",
   "id": "50e5a9b2-9b99-4d88-a306-e893d360d784",
   "metadata": {},
   "source": []
  }
 ],
 "metadata": {
  "kernelspec": {
   "display_name": "Python 3 (ipykernel)",
   "language": "python",
   "name": "python3"
  },
  "language_info": {
   "codemirror_mode": {
    "name": "ipython",
    "version": 3
   },
   "file_extension": ".py",
   "mimetype": "text/x-python",
   "name": "python",
   "nbconvert_exporter": "python",
   "pygments_lexer": "ipython3",
   "version": "3.10.8"
  }
 },
 "nbformat": 4,
 "nbformat_minor": 5
}
