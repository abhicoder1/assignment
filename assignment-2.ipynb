{
 "cells": [
  {
   "cell_type": "markdown",
   "id": "e63fe9c0-f27c-424f-b7e2-c77d0025b733",
   "metadata": {},
   "source": [
    "Q1. How do you comment code in Python? What are the different types of comments?\n",
    "\n",
    "Ans- In Python, we can comment code using the # character. Everything after the # symbol on the same line is considered a comment and is ignored by the Python interpreter. \n",
    "For example:\n",
    "\n",
    "print(\"Hello, World!\")  # This is also a comment\n",
    "\n",
    "In Python, there are two main types of comments:\n",
    "\n",
    "(i)Single-line comments: Single-line comments are created using the # character. Everything after the # symbol on the same line is considered a comment and is ignored by the Python interpreter.\n",
    "\n",
    "Here's an example:\n",
    "\n",
    "print(\"Hello, World!\")  # This is also a single-line comment\n",
    "\n",
    "\n",
    "(ii)Multi-line comments: Multi-line comments, also known as block comments, are created using triple quotes (''' or \"\"\"). This allows you to add comments that span multiple lines. Multi-line comments are often used as docstrings to provide documentation for functions, classes, and modules. \n",
    "\n",
    "Here's an example:\n",
    "1.\n",
    "''\n",
    "This is a multi-line comment\n",
    "It can span multiple lines\n",
    "'''\n",
    "\n",
    "2.\n",
    "\"\"\"\n",
    "This is also a multi-line comment\n",
    "It can also span multiple lines\n",
    "\"\"\"\n"
   ]
  },
  {
   "cell_type": "markdown",
   "id": "e78adfe2-5cec-440d-910a-a91b52d3626c",
   "metadata": {},
   "source": [
    "Q2. What are variables in Python? How do you declare and assign values to variables?\n",
    "\n",
    "Ans - In Python, variables are used to store and manipulate data. A variable is a named storage location in the computer's memory that holds a value. To declare and assign a value to a variable in Python, you use the assignment operator (=). The general syntax is as follows:\n",
    "\n",
    "variable_name = value\n",
    "\n",
    "Here's an example that demonstrates variable declaration and assignment:-\n",
    "\n",
    "name = \"John\"    # Assigns the string \"John\" to the variable name\n",
    "\n",
    "age = 25         # Assigns the integer 25 to the variable age\n",
    "\n",
    "pi = 3.14        # Assigns the float 3.14 to the variable pi\n",
    "\n",
    "is_student = True  # Assigns the boolean value True to the variable is_student\n",
    "\n",
    "Python is a dynamically-typed language, meaning you don't need to explicitly declare the type of a variable. The type is automatically inferred based on the assigned value.\n",
    "\n",
    "You can assign a new value to an existing variable by simply reassigning it:\n",
    "\n",
    "age = 25    # Assigns the integer 25 to the variable age\n",
    "age = 30    # Updates the value of the variable age to 30\n",
    "\n",
    "When choosing variable names in Python, we follow the following rules:\n",
    "\n",
    "1. A variable name must start with a letter or the underscore character\n",
    "2. A variable name cannot start with a number\n",
    "3. A variable name can only contain alpha-numeric characters and underscores (A-z, 0-9, and _ )\n",
    "4. Variable names are case-sensitive (age, Age and AGE are three different variables)\n",
    "\n",
    "\n",
    "\n"
   ]
  },
  {
   "cell_type": "markdown",
   "id": "b333c56e-c20a-40ca-8c8b-f0d1e3d6e370",
   "metadata": {},
   "source": [
    "Q3. How do you convert one data type to another in Python?\n",
    "\n",
    "Ans- In Python, you can convert one data type to another using type conversion functions or methods.\n",
    "In Python, there are two kinds of type conversion:\n",
    "\n",
    "(i) Explicit Type Conversion- Needs to be done manually by the programmer. \n",
    "(ii) Implicit Type Conversion- Done automatically by the Python interpreter.\n",
    "\n",
    "Here are some commonly used methods for type conversion:\n",
    "\n",
    "1. int(): Converts a value to an integer data type.\n",
    "example- \n",
    "x = int(3.14)   # Converts the float 3.14 to an integer, x will be 3\n",
    "\n",
    "2. float(): Converts a value to a floating-point data type.\n",
    "example- \n",
    "y = float(\"5.6\")   # Converts the string \"5.6\" to a float, y will be 5.6\n",
    "\n",
    "3. str(): Converts a value to a string data type.\n",
    "example- example- \n",
    "z = str(10)   # Converts the integer 10 to a string, z will be \"10\"\n",
    "\n",
    "4. bool(): Converts a value to a boolean data type.\n",
    "example- \n",
    "a = bool(0)    # Converts the integer 0 to a boolean, a will be False\n",
    "\n",
    "5. list(), tuple(), set(), dict(): Converts a sequence or iterable to the corresponding data type.\n",
    "example- \n",
    "b = list(\"hello\")      # Converts the string \"hello\" to a list, b will be ['h', 'e', 'l', 'l', 'o']\n",
    "\n",
    "c = tuple([1, 2, 3])     # Converts the list [1, 2, 3] to a tuple, c will be (1, 2, 3)\n",
    "\n",
    "d = set([1, 2, 2, 3])     # Converts the list [1, 2, 2, 3] to a set, d will be {1, 2, 3}\n",
    "\n",
    "e = dict([('a', 1), ('b', 2)])  # Converts the list of tuples [('a', 1), ('b', 2)] to a dictionary, e will be {'a': 1, 'b': 2}\n",
    "\n",
    "These are some examples of type convesrion functions and methods available in Python.\n"
   ]
  },
  {
   "cell_type": "markdown",
   "id": "58079585-6ba6-47dc-a6ab-2bf1deab11c9",
   "metadata": {
    "tags": []
   },
   "source": [
    "Q4. How do you write and execute a Python script from the command line?\n",
    "\n",
    "Ans- To write and execute a Python script from the command line, follow these steps:\n",
    "\n",
    "1.Open a text editor and create a new file. Save the file with a .py extension, which indicates it is a Python script. \n",
    "For example, you can use script.py as the filename.\n",
    "\n",
    "2.Write your Python code in the file using the text editor.\n",
    "For example, you can write a simple \"Hello, World!\" script:\n",
    "\n",
    "print(\"Hello, World!\")\n",
    "\n",
    "3.Save the file.\n",
    "\n",
    "4.Open the command line or terminal on your computer.\n",
    "\n",
    "5.Navigate to the directory where the Python script is saved. \n",
    "You can use the cd command (change directory) to navigate to the desired directory.\n",
    "example-\n",
    "cd path/to/directory\n",
    "\n",
    "6.Once you are in the correct directory, you can execute the Python script by typing python followed by the name of the script file.Example-\n",
    "\n",
    "python script.py\n",
    "\n",
    "Note- If you have multiple versions of Python installed, you may need to specify the version explicitly, such as python3 script.py, to ensure the script is executed with the desired version.\n",
    "\n",
    "7.Press Enter to run the script. The output of the script will be displayed in the command line.\n",
    "example- \n",
    "\n",
    "Hello, World!\n",
    "\n",
    "Above,these steps are the written and executed a Python script from the command line and you can modify the script file with additional code and run it again using the same steps."
   ]
  },
  {
   "cell_type": "markdown",
   "id": "37c5c408-42c1-4805-9401-b79387c71d3a",
   "metadata": {},
   "source": [
    "Q5. Given a list my_list = [1, 2, 3, 4, 5], write the code to slice the list and obtain the sub-list [2, 3].\n",
    "Ans-"
   ]
  },
  {
   "cell_type": "code",
   "execution_count": 2,
   "id": "e504fca3-94d5-43ca-be57-fe06e6943b0e",
   "metadata": {},
   "outputs": [
    {
     "name": "stdout",
     "output_type": "stream",
     "text": [
      "[2, 3]\n"
     ]
    }
   ],
   "source": [
    "my_list = [1, 2, 3, 4, 5]\n",
    "sub_list = my_list[1:3]\n",
    "print(sub_list)"
   ]
  },
  {
   "cell_type": "markdown",
   "id": "4f75d476-5a92-4e80-bd82-dd5335f08fd9",
   "metadata": {},
   "source": [
    "Q6. What is a complex number in mathematics, and how is it represented in Python?\n",
    "\n",
    "Ans- In mathematics, a complex number is a number that can be expressed in the form a + bi, where a and b are real numbers, and i is the imaginary unit defined as the square root of -1. The real part a represents the real component of the complex number, while the imaginary part b represents the imaginary component.\n",
    "\n",
    "In Python, complex numbers are represented using the complex data type. The imaginary unit i is represented by the letter j in Python. You can create a complex number by using the complex() function or by directly specifying the real and imaginary parts.\n",
    "\n",
    "Here are a few examples of creating and manipulating complex numbers in Python:"
   ]
  },
  {
   "cell_type": "code",
   "execution_count": 17,
   "id": "9654266f-b882-4ffb-a196-0aa7a785c745",
   "metadata": {},
   "outputs": [
    {
     "name": "stdout",
     "output_type": "stream",
     "text": [
      "z1 = (2+3j)\n",
      "z2 = (4+5j)\n",
      "real parts of z1 is 2.0\n",
      "complex parts of z1 is 3.0\n",
      "Addition of complex number z1 and z2 is (6+8j)\n",
      "Conjugate of complex number z1 is (2-3j)\n"
     ]
    }
   ],
   "source": [
    "# Creating a complex number using complex()\n",
    "z1 = complex(2, 3)\n",
    "print(\"z1 =\",z1)  # Output: (2+3j)\n",
    "\n",
    "# Creating a complex number directly\n",
    "z2 = 4 + 5j\n",
    "print(\"z2 =\",z2)  # Output: (4+5j)\n",
    "\n",
    "# Accessing the real and imaginary parts\n",
    "print(\"real parts of z1 is\",z1.real)  # Output: 2.0\n",
    "print(\"complex parts of z1 is\",z1.imag)  # Output: 3.0\n",
    "\n",
    "# Addition of complex numbers\n",
    "z3 = z1 + z2\n",
    "print(\"Addition of complex number z1 and z2 is\",z3)  # Output: (6+8j)\n",
    "\n",
    "# Conjugate of a complex number\n",
    "z4 = z1.conjugate()\n",
    "print(\"Conjugate of complex number z1 is\",z4)  # Output: (2-3j)\n"
   ]
  },
  {
   "cell_type": "markdown",
   "id": "ed4304b8-f3c5-471b-b150-f763e434c3f3",
   "metadata": {},
   "source": [
    "Q7. What is the correct way to declare a variable named age and assign the value 25 to it?\n",
    "\n",
    "Ans-By using the assignment operator (=), we assign the value 25 to the variable age. \n",
    "The variable age will be automatically assigned the appropriate data type based on the value assigned to it \n",
    "(in this case, an integer).\n",
    "In Python, the correct way to declare a variable named age and assign the value 25 to it is as follows:"
   ]
  },
  {
   "cell_type": "code",
   "execution_count": 18,
   "id": "beaf4846-ffb7-4854-90bf-54b17c09c1d2",
   "metadata": {},
   "outputs": [],
   "source": [
    "age = 25"
   ]
  },
  {
   "cell_type": "code",
   "execution_count": 19,
   "id": "987d450b-b267-478d-b1ce-40a2c8585fe2",
   "metadata": {},
   "outputs": [
    {
     "data": {
      "text/plain": [
       "25"
      ]
     },
     "execution_count": 19,
     "metadata": {},
     "output_type": "execute_result"
    }
   ],
   "source": [
    "age"
   ]
  },
  {
   "cell_type": "code",
   "execution_count": 20,
   "id": "b1847d14-df10-477e-a4da-86dbca793947",
   "metadata": {},
   "outputs": [
    {
     "data": {
      "text/plain": [
       "int"
      ]
     },
     "execution_count": 20,
     "metadata": {},
     "output_type": "execute_result"
    }
   ],
   "source": [
    "type(age)"
   ]
  },
  {
   "cell_type": "markdown",
   "id": "9b15f38f-6d21-41cd-8243-3e41c437935d",
   "metadata": {},
   "source": [
    "Q8. Declare a variable named price and assign the value 9.99 to it. What data type does this variable\n",
    "belong to?"
   ]
  },
  {
   "cell_type": "code",
   "execution_count": 21,
   "id": "f0621374-a6fa-4e64-acca-743e6599af89",
   "metadata": {},
   "outputs": [],
   "source": [
    "price = 9.99"
   ]
  },
  {
   "cell_type": "code",
   "execution_count": 22,
   "id": "f91b46c2-6c86-40e1-a63e-a2e0a93bc7e9",
   "metadata": {},
   "outputs": [
    {
     "data": {
      "text/plain": [
       "float"
      ]
     },
     "execution_count": 22,
     "metadata": {},
     "output_type": "execute_result"
    }
   ],
   "source": [
    "type(price)"
   ]
  },
  {
   "cell_type": "markdown",
   "id": "895f60cf-2065-47a9-947a-b4deb96cf317",
   "metadata": {},
   "source": [
    "Q9. Create a variable named name and assign your full name to it as a string. How would you print the\n",
    "value of this variable?"
   ]
  },
  {
   "cell_type": "code",
   "execution_count": 23,
   "id": "c4d3f622-dd32-484a-8b05-4ed72d70c888",
   "metadata": {},
   "outputs": [],
   "source": [
    "name = \"Abhinav Kari\""
   ]
  },
  {
   "cell_type": "code",
   "execution_count": 24,
   "id": "659341f5-2cfa-4d9c-b913-f41d708077ff",
   "metadata": {},
   "outputs": [
    {
     "data": {
      "text/plain": [
       "str"
      ]
     },
     "execution_count": 24,
     "metadata": {},
     "output_type": "execute_result"
    }
   ],
   "source": [
    "type(name)"
   ]
  },
  {
   "cell_type": "code",
   "execution_count": 25,
   "id": "e9abaaed-2588-47ae-bcd7-b4fcb39cd880",
   "metadata": {},
   "outputs": [
    {
     "name": "stdout",
     "output_type": "stream",
     "text": [
      "Abhinav Kari\n"
     ]
    }
   ],
   "source": [
    "print(name) # by using print function , we can print the value of the variable"
   ]
  },
  {
   "cell_type": "markdown",
   "id": "f376b6b4-b454-4992-a11a-7dbf9b0c9c0c",
   "metadata": {},
   "source": [
    "Q10. Given the string \"Hello, World!\", extract the substring \"World\"."
   ]
  },
  {
   "cell_type": "code",
   "execution_count": 26,
   "id": "018e03ea-3298-4141-b150-bdfea00768a0",
   "metadata": {},
   "outputs": [],
   "source": [
    "st = \"Hello, World!\""
   ]
  },
  {
   "cell_type": "code",
   "execution_count": 30,
   "id": "d4de3c07-0d75-4bb0-9cc0-9283260aef99",
   "metadata": {},
   "outputs": [],
   "source": [
    "st1 = st[7:12]"
   ]
  },
  {
   "cell_type": "code",
   "execution_count": 32,
   "id": "b3767136-5598-492b-be50-16220d5bbc34",
   "metadata": {},
   "outputs": [
    {
     "data": {
      "text/plain": [
       "'World'"
      ]
     },
     "execution_count": 32,
     "metadata": {},
     "output_type": "execute_result"
    }
   ],
   "source": [
    "st1"
   ]
  },
  {
   "cell_type": "code",
   "execution_count": 34,
   "id": "7d82a563-8759-445a-ab9a-3129213016da",
   "metadata": {},
   "outputs": [
    {
     "name": "stdout",
     "output_type": "stream",
     "text": [
      "World\n"
     ]
    }
   ],
   "source": [
    "print(st1)"
   ]
  },
  {
   "cell_type": "code",
   "execution_count": 33,
   "id": "ea140641-0775-4370-8bcd-072ba39ee7ac",
   "metadata": {},
   "outputs": [
    {
     "data": {
      "text/plain": [
       "str"
      ]
     },
     "execution_count": 33,
     "metadata": {},
     "output_type": "execute_result"
    }
   ],
   "source": [
    "type(st1)"
   ]
  },
  {
   "cell_type": "markdown",
   "id": "cb5f54f7-1a24-440d-bd82-7a8792e1b542",
   "metadata": {},
   "source": [
    "Q11. Create a variable named \"is_student\" and assign it a boolean value indicating whether you are\n",
    "currently a student or not."
   ]
  },
  {
   "cell_type": "markdown",
   "id": "064ee595-9589-498a-a9b0-71e4b8d234b1",
   "metadata": {
    "tags": []
   },
   "source": [
    "To create a variable named is_student and assign it a boolean value indicating whether you are currently a student or not, \n",
    "you can use the following code:"
   ]
  },
  {
   "cell_type": "code",
   "execution_count": 39,
   "id": "00edf73d-59a1-44b8-8e5e-1428494d7fa0",
   "metadata": {},
   "outputs": [
    {
     "name": "stdout",
     "output_type": "stream",
     "text": [
      "you are currently a student\n"
     ]
    }
   ],
   "source": [
    "is_student = True\n",
    "if(is_student)==True:\n",
    "    print(\"you are currently a student\")\n",
    "else:\n",
    "    print(\"you are not currently a student\")"
   ]
  },
  {
   "cell_type": "code",
   "execution_count": 40,
   "id": "d8bcfce7-9ba5-4eef-8636-a2902578ceee",
   "metadata": {},
   "outputs": [
    {
     "name": "stdout",
     "output_type": "stream",
     "text": [
      "you are not currently a student\n"
     ]
    }
   ],
   "source": [
    "is_student = False\n",
    "if(is_student)==True:\n",
    "    print(\"you are currently a student\")\n",
    "else:\n",
    "    print(\"you are not currently a student\")\n"
   ]
  },
  {
   "cell_type": "markdown",
   "id": "eb61050b-5659-4d53-8297-f2041b10874f",
   "metadata": {},
   "source": [
    "By using the assignment operator (=), we assign the boolean value True to the variable is_student. Python's boolean type has two possible values: True and False, representing the concepts of true and false, respectively.\n",
    "\n",
    "In the code above, True represents a boolean value indicating that you are currently a student. \n",
    "If you are not a student, you can assign False to the is_student variable instead.\n"
   ]
  },
  {
   "cell_type": "code",
   "execution_count": null,
   "id": "f71801ac-e20c-4546-8bb8-04a4814af427",
   "metadata": {},
   "outputs": [],
   "source": []
  }
 ],
 "metadata": {
  "kernelspec": {
   "display_name": "Python 3 (ipykernel)",
   "language": "python",
   "name": "python3"
  },
  "language_info": {
   "codemirror_mode": {
    "name": "ipython",
    "version": 3
   },
   "file_extension": ".py",
   "mimetype": "text/x-python",
   "name": "python",
   "nbconvert_exporter": "python",
   "pygments_lexer": "ipython3",
   "version": "3.10.8"
  }
 },
 "nbformat": 4,
 "nbformat_minor": 5
}
